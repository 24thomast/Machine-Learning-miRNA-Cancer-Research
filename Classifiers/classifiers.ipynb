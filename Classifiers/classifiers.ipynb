{
 "cells": [
  {
   "cell_type": "code",
   "execution_count": null,
   "outputs": [],
   "source": [
    "import numpy as np\n",
    "import pandas as pd\n",
    "import matplotlib.pyplot as plt\n",
    "import networkx as nx\n",
    "import itertools"
   ],
   "metadata": {
    "collapsed": false
   }
  },
  {
   "cell_type": "code",
   "execution_count": null,
   "outputs": [],
   "source": [
    "from sklearn.feature_selection import SelectKBest, f_classif\n",
    "from sklearn.model_selection import train_test_split, GridSearchCV\n",
    "from sklearn.metrics import confusion_matrix, accuracy_score, roc_auc_score, roc_curve\n",
    "from sklearn.ensemble import RandomForestClassifier, GradientBoostingClassifier\n",
    "from sklearn.pipeline import Pipeline\n",
    "from sklearn.svm import SVC\n",
    "from imblearn.under_sampling import RandomUnderSampler\n",
    "from imblearn.over_sampling import RandomOverSampler"
   ],
   "metadata": {
    "collapsed": false
   }
  },
  {
   "cell_type": "code",
   "execution_count": null,
   "outputs": [],
   "source": [
    "dataset = pd.read_csv(\"dataset.csv\").drop_duplicates()\n",
    "print(dataset)"
   ],
   "metadata": {
    "collapsed": false
   }
  },
  {
   "cell_type": "code",
   "execution_count": null,
   "outputs": [],
   "source": [
    "def process_data(data, under_sample_factor=None, over_sample_factor=None):\n",
    "    x = np.array(data.drop([\"ID_REF\"], axis=1)).astype('float')\n",
    "    y = np.array(data[\"ID_REF\"]).astype('int')\n",
    "    feature_names = data.columns[1:]\n",
    "\n",
    "    if under_sample_factor is not None and isinstance(under_sample_factor, float) and 0 < under_sample_factor <= 1:\n",
    "        under_sampler = RandomUnderSampler(sampling_strategy=under_sample_factor)\n",
    "        x, y = under_sampler.fit_resample(x, y)\n",
    "\n",
    "    if over_sample_factor is not None and isinstance(over_sample_factor, float) and 0 < over_sample_factor <= 1:\n",
    "        over_sampler = RandomOverSampler(sampling_strategy=over_sample)\n",
    "        x, y = over_sampler.fit_resample(x, y)\n",
    "\n",
    "    x_train, x_test, y_train, y_test = train_test_split(x, y, test_size = 0.2, random_state = 0, stratify=y)\n",
    "\n",
    "    return x_train, x_test, y_train, y_test, feature_names"
   ],
   "metadata": {
    "collapsed": false
   }
  },
  {
   "cell_type": "code",
   "execution_count": null,
   "outputs": [],
   "source": [
    "def support_vector_machine(x_train, y_train, feature_num):\n",
    "    pipe = Pipeline([('skb', SelectKBest(f_classif, k=feature_num)), ('estimator', SVC())])\n",
    "\n",
    "    pipe_parameters = {'skb__k' : [feature_num],\n",
    "                       'estimator__C': [0.25, 0.5, 0.75, 1],\n",
    "                       'estimator__kernel': ['linear']\n",
    "                       }\n",
    "\n",
    "    svm_grid_search = GridSearchCV(pipe, pipe_parameters, scoring='accuracy', cv=10, n_jobs=-1)\n",
    "    svm_grid_search.fit(x_train, y_train)\n",
    "\n",
    "    return svm_grid_search\n",
    "\n",
    "def get_svm_metrics(svm_grid_search, x_test, y_test):\n",
    "    best_accuracy = svm_grid_search.best_score_\n",
    "    best_parameters = svm_grid_search.best_params_\n",
    "    print(\"Training Accuracy:\", best_accuracy)\n",
    "    print(\"Best Parameters:\", best_parameters)\n",
    "\n",
    "    y_pred = svm_grid_search.predict(x_test)\n",
    "    matrix = confusion_matrix(y_test, y_pred)\n",
    "    print(\"Testing Accuracy:\", accuracy_score(y_test, y_pred))\n",
    "    # print(\"ROC AUC Score:\", roc_auc_score(y_test, y_pred))\n",
    "    print(\"Confusion Matrix:\")\n",
    "    print(matrix)\n",
    "\n",
    "def get_top_svm_features(svm_grid_search, feature_names, top_feature_num):\n",
    "    coef_list = svm_grid_search.best_estimator_.named_steps['estimator'].coef_[0]\n",
    "    features = svm_grid_search.best_estimator_.named_steps['skb'].get_support()\n",
    "    selected_features_list = feature_names[features].tolist()\n",
    "\n",
    "    coef_list, selected_features_list = zip(*sorted(zip(abs(coef_list), selected_features_list), reverse=True))\n",
    "    coef_list, selected_features_list = list(coef_list), list(selected_features_list)\n",
    "\n",
    "    return coef_list[:top_feature_num], selected_features_list[:top_feature_num]"
   ],
   "metadata": {
    "collapsed": false
   }
  },
  {
   "cell_type": "code",
   "execution_count": null,
   "outputs": [],
   "source": [
    "def random_forest(x_train, y_train, feature_num):\n",
    "    pipe = Pipeline([('skb', SelectKBest(f_classif, k=feature_num)), ('estimator', RandomForestClassifier(random_state=0))])\n",
    "\n",
    "    pipe_parameters = {'skb__k': [feature_num],\n",
    "                       'estimator__n_estimators': [100, 500],\n",
    "                       'estimator__max_features': ['auto', 'sqrt', 'log2'],\n",
    "                       'estimator__criterion' :['gini', 'entropy']\n",
    "                       }\n",
    "\n",
    "    rf_grid_search = GridSearchCV(pipe, pipe_parameters, scoring='accuracy', cv=10, n_jobs=-1)\n",
    "    rf_grid_search.fit(x_train, y_train)\n",
    "\n",
    "    return rf_grid_search\n",
    "\n",
    "def get_rf_metrics(rf_grid_search, x_test, y_test):\n",
    "    best_accuracy = rf_grid_search.best_score_\n",
    "    best_parameters = rf_grid_search.best_params_\n",
    "    print(\"Training Accuracy:\", best_accuracy)\n",
    "    print(\"Best Parameters:\", best_parameters)\n",
    "\n",
    "    y_pred = rf_grid_search.predict(x_test)\n",
    "    matrix = confusion_matrix(y_test, y_pred)\n",
    "    print(\"Testing Accuracy:\", accuracy_score(y_test, y_pred))\n",
    "    # print(\"ROC AUC Score:\", roc_auc_score(y_test, y_pred))\n",
    "    print(\"Confusion Matrix:\")\n",
    "    print(matrix)\n",
    "\n",
    "def get_top_rf_features(rf_grid_search, feature_names, top_feature_num):\n",
    "    importance_list = rf_grid_search.best_estimator_.named_steps['estimator'].feature_importances_\n",
    "    features = rf_grid_search.best_estimator_.named_steps['skb'].get_support()\n",
    "    selected_features_list = feature_names[features].tolist()\n",
    "\n",
    "    importance_list, selected_features_list = zip(*sorted(zip(importance_list, selected_features_list), reverse=True))\n",
    "    importance_list, selected_features_list = list(importance_list), list(selected_features_list)\n",
    "\n",
    "    return importance_list[:top_feature_num], selected_features_list[:top_feature_num]"
   ],
   "metadata": {
    "collapsed": false
   }
  },
  {
   "cell_type": "code",
   "execution_count": null,
   "outputs": [],
   "source": [
    "def gradient_boosting(x_train, y_train, feature_num):\n",
    "    pipe = Pipeline([('skb', SelectKBest(f_classif)), ('estimator', GradientBoostingClassifier())])\n",
    "\n",
    "    pipe_parameters = {'skb__k': [feature_num],\n",
    "                       'estimator__learning_rate': [0.5, 1],\n",
    "                       'estimator__n_estimators': [50],\n",
    "                       }\n",
    "\n",
    "    gb_grid_search = GridSearchCV(pipe, pipe_parameters, scoring='accuracy', cv=10, n_jobs=-1)\n",
    "    gb_grid_search.fit(x_train, y_train)\n",
    "\n",
    "    return gb_grid_search\n",
    "\n",
    "def get_gb_metrics(gb_grid_search, x_test, y_test):\n",
    "    best_accuracy = gb_grid_search.best_score_\n",
    "    best_parameters = gb_grid_search.best_params_\n",
    "    print(\"Training Accuracy:\", best_accuracy)\n",
    "    print(\"Best Parameters:\", best_parameters)\n",
    "\n",
    "    y_pred = gb_grid_search.predict(x_test)\n",
    "    matrix = confusion_matrix(y_test, y_pred)\n",
    "    print(\"Testing Accuracy:\", accuracy_score(y_test, y_pred))\n",
    "    # print(\"ROC AUC Score:\", roc_auc_score(y_test, y_pred))\n",
    "    print(\"Confusion Matrix:\")\n",
    "    print(matrix)\n",
    "\n",
    "def get_top_gb_features(gb_grid_search, feature_names, top_feature_num):\n",
    "    importance_list = gb_grid_search.best_estimator_.named_steps['estimator'].feature_importances_\n",
    "    features = gb_grid_search.best_estimator_.named_steps['skb'].get_support()\n",
    "    selected_features_list = feature_names[features].tolist()\n",
    "\n",
    "    importance_list, selected_features_list = zip(*sorted(zip(importance_list, selected_features_list), reverse=True))\n",
    "    importance_list, selected_features_list = list(importance_list), list(selected_features_list)\n",
    "\n",
    "    return importance_list[:top_feature_num], selected_features_list[:top_feature_num]"
   ],
   "metadata": {
    "collapsed": false
   }
  },
  {
   "cell_type": "code",
   "execution_count": null,
   "outputs": [],
   "source": [
    "def get_top_features(svm_top_features, rf_top_features, gb_top_features, top_feature_num):\n",
    "    features_list_full = []\n",
    "    features_list_full.extend(svm_top_features)\n",
    "    features_list_full.extend(rf_top_features)\n",
    "    features_list_full.extend(gb_top_features)\n",
    "    features_list = list(dict.fromkeys(features_list_full))\n",
    "\n",
    "    rank_features_list = []\n",
    "    rank_num_list = []\n",
    "\n",
    "    for feature in features_list:\n",
    "        rank = float(svm_top_features.index(feature) + rf_top_features.index(feature) + gb_top_features.index(feature)) / 3\n",
    "        rank_features_list.append(feature)\n",
    "        rank_num_list.append(rank)\n",
    "\n",
    "    rank_num_list, rank_features_list = zip(*sorted(zip(rank_num_list, rank_features_list)))\n",
    "\n",
    "    rank_features_list = rank_features_list[:top_feature_num]\n",
    "\n",
    "    return rank_features_list"
   ],
   "metadata": {
    "collapsed": false
   }
  },
  {
   "cell_type": "code",
   "execution_count": null,
   "outputs": [],
   "source": [
    "feature_selection_num = 2565\n",
    "feature_importance_num = 10\n",
    "\n",
    "under_sample = None\n",
    "over_sample = None"
   ],
   "metadata": {
    "collapsed": false
   }
  },
  {
   "cell_type": "markdown",
   "source": [
    "Lung Cancer Dataset"
   ],
   "metadata": {
    "collapsed": false
   }
  },
  {
   "cell_type": "code",
   "execution_count": null,
   "outputs": [],
   "source": [
    "lung_cancer_dataset = dataset.copy()\n",
    "\n",
    "lung_cancer_dataset.loc[lung_cancer_dataset[\"ID_REF\"] == \"Lung Cancer\", \"ID_REF\"] = 1\n",
    "lung_cancer_dataset.loc[lung_cancer_dataset[\"ID_REF\"] == \"No Cancer\", \"ID_REF\"] = 0\n",
    "lung_cancer_dataset = lung_cancer_dataset[(lung_cancer_dataset[\"ID_REF\"] == 0) | (lung_cancer_dataset[\"ID_REF\"] == 1)]\n",
    "\n",
    "print(lung_cancer_dataset, \"\\n\")\n",
    "print(\"Lung Cancer Sample Number:\", lung_cancer_dataset[\"ID_REF\"].value_counts()[1])\n",
    "print(\"Non-Cancer Sample Number:\", lung_cancer_dataset[\"ID_REF\"].value_counts()[0])\n",
    "print(\"All Sample Number:\", lung_cancer_dataset[\"ID_REF\"].value_counts()[0] + lung_cancer_dataset[\"ID_REF\"].value_counts()[1], \"\\n\")\n",
    "\n",
    "x_train_lung, x_test_lung, y_train_lung, y_test_lung, feature_names_lung = process_data(lung_cancer_dataset, under_sample_factor=under_sample, over_sample_factor=over_sample)"
   ],
   "metadata": {
    "collapsed": false
   }
  },
  {
   "cell_type": "code",
   "execution_count": null,
   "outputs": [],
   "source": [
    "svm_grid_search_lung = support_vector_machine(x_train_lung, y_train_lung, feature_selection_num)"
   ],
   "metadata": {
    "collapsed": false
   }
  },
  {
   "cell_type": "code",
   "execution_count": null,
   "outputs": [],
   "source": [
    "get_svm_metrics(svm_grid_search_lung, x_test_lung, y_test_lung)\n",
    "svm_top_coef_lung, svm_top_features_lung = get_top_svm_features(svm_grid_search_lung, feature_names_lung, feature_selection_num)\n",
    "print(svm_top_features_lung)\n",
    "print(svm_top_coef_lung)"
   ],
   "metadata": {
    "collapsed": false
   }
  },
  {
   "cell_type": "code",
   "execution_count": null,
   "outputs": [],
   "source": [
    "rf_grid_search_lung = random_forest(x_train_lung, y_train_lung, feature_selection_num)"
   ],
   "metadata": {
    "collapsed": false
   }
  },
  {
   "cell_type": "code",
   "execution_count": null,
   "outputs": [],
   "source": [
    "get_rf_metrics(rf_grid_search_lung, x_test_lung, y_test_lung)\n",
    "rf_top_importance_lung, rf_top_features_lung = get_top_rf_features(rf_grid_search_lung, feature_names_lung, feature_selection_num)\n",
    "print(rf_top_features_lung)\n",
    "print(rf_top_importance_lung)"
   ],
   "metadata": {
    "collapsed": false
   }
  },
  {
   "cell_type": "code",
   "execution_count": null,
   "outputs": [],
   "source": [
    "gb_grid_search_lung = gradient_boosting(x_train_lung, y_train_lung, feature_selection_num)"
   ],
   "metadata": {
    "collapsed": false
   }
  },
  {
   "cell_type": "code",
   "execution_count": null,
   "outputs": [],
   "source": [
    "get_gb_metrics(gb_grid_search_lung, x_test_lung, y_test_lung)\n",
    "gb_top_importance_lung, gb_top_features_lung = get_top_gb_features(gb_grid_search_lung, feature_names_lung, feature_selection_num)\n",
    "print(gb_top_features_lung)\n",
    "print(gb_top_importance_lung)"
   ],
   "metadata": {
    "collapsed": false
   }
  },
  {
   "cell_type": "code",
   "execution_count": null,
   "outputs": [],
   "source": [
    "top_features_lung = get_top_features(svm_top_features_lung, rf_top_features_lung, gb_top_features_lung, feature_importance_num)\n",
    "print(top_features_lung, len(top_features_lung))"
   ],
   "metadata": {
    "collapsed": false
   }
  },
  {
   "cell_type": "markdown",
   "source": [
    "Colorectal Cancer Dataset"
   ],
   "metadata": {
    "collapsed": false
   }
  },
  {
   "cell_type": "code",
   "execution_count": null,
   "outputs": [],
   "source": [
    "colorectal_cancer_dataset = dataset.copy()\n",
    "\n",
    "colorectal_cancer_dataset.loc[colorectal_cancer_dataset[\"ID_REF\"] == \"Colorectal Cancer\", \"ID_REF\"] = 1\n",
    "colorectal_cancer_dataset.loc[colorectal_cancer_dataset[\"ID_REF\"] == \"No Cancer\", \"ID_REF\"] = 0\n",
    "colorectal_cancer_dataset = colorectal_cancer_dataset[(colorectal_cancer_dataset[\"ID_REF\"] == 0) | (colorectal_cancer_dataset[\"ID_REF\"] == 1)]\n",
    "\n",
    "print(colorectal_cancer_dataset, \"\\n\")\n",
    "print(\"Colorectal Cancer Sample Number:\", colorectal_cancer_dataset[\"ID_REF\"].value_counts()[1])\n",
    "print(\"Non-Cancer Sample Number:\", colorectal_cancer_dataset[\"ID_REF\"].value_counts()[0])\n",
    "print(\"All Sample Number:\", colorectal_cancer_dataset[\"ID_REF\"].value_counts()[0] + colorectal_cancer_dataset[\"ID_REF\"].value_counts()[1], \"\\n\")\n",
    "\n",
    "x_train_colorectal, x_test_colorectal, y_train_colorectal, y_test_colorectal, feature_names_colorectal = process_data(colorectal_cancer_dataset, under_sample_factor=under_sample, over_sample_factor=over_sample)"
   ],
   "metadata": {
    "collapsed": false
   }
  },
  {
   "cell_type": "code",
   "execution_count": null,
   "outputs": [],
   "source": [
    "svm_grid_search_colorectal = support_vector_machine(x_train_colorectal, y_train_colorectal, feature_selection_num)"
   ],
   "metadata": {
    "collapsed": false
   }
  },
  {
   "cell_type": "code",
   "execution_count": null,
   "outputs": [],
   "source": [
    "get_svm_metrics(svm_grid_search_colorectal, x_test_colorectal, y_test_colorectal)\n",
    "svm_top_coef_colorectal, svm_top_features_colorectal = get_top_svm_features(svm_grid_search_colorectal, feature_names_colorectal, feature_selection_num)\n",
    "print(svm_top_features_colorectal)\n",
    "print(svm_top_coef_colorectal)"
   ],
   "metadata": {
    "collapsed": false
   }
  },
  {
   "cell_type": "code",
   "execution_count": null,
   "outputs": [],
   "source": [
    "rf_grid_search_colorectal = random_forest(x_train_colorectal, y_train_colorectal, feature_selection_num)"
   ],
   "metadata": {
    "collapsed": false
   }
  },
  {
   "cell_type": "code",
   "execution_count": null,
   "outputs": [],
   "source": [
    "get_rf_metrics(rf_grid_search_colorectal, x_test_colorectal, y_test_colorectal)\n",
    "rf_top_importance_colorectal, rf_top_features_colorectal = get_top_rf_features(rf_grid_search_colorectal, feature_names_colorectal, feature_selection_num)\n",
    "print(rf_top_features_colorectal)\n",
    "print(rf_top_importance_colorectal)"
   ],
   "metadata": {
    "collapsed": false
   }
  },
  {
   "cell_type": "code",
   "execution_count": null,
   "outputs": [],
   "source": [
    "gb_grid_search_colorectal = gradient_boosting(x_train_colorectal, y_train_colorectal, feature_selection_num)"
   ],
   "metadata": {
    "collapsed": false
   }
  },
  {
   "cell_type": "code",
   "execution_count": null,
   "outputs": [],
   "source": [
    "get_gb_metrics(gb_grid_search_colorectal, x_test_colorectal, y_test_colorectal)\n",
    "gb_top_importance_colorectal, gb_top_features_colorectal = get_top_gb_features(gb_grid_search_colorectal, feature_names_colorectal, feature_selection_num)\n",
    "print(gb_top_features_colorectal)\n",
    "print(gb_top_importance_colorectal)"
   ],
   "metadata": {
    "collapsed": false
   }
  },
  {
   "cell_type": "code",
   "execution_count": null,
   "outputs": [],
   "source": [
    "top_features_colorectal = get_top_features(svm_top_features_colorectal, rf_top_features_colorectal, gb_top_features_colorectal, feature_importance_num)\n",
    "print(top_features_colorectal, len(top_features_colorectal))"
   ],
   "metadata": {
    "collapsed": false
   }
  },
  {
   "cell_type": "markdown",
   "source": [
    "Gastric Cancer Dataset"
   ],
   "metadata": {
    "collapsed": false
   }
  },
  {
   "cell_type": "code",
   "execution_count": null,
   "outputs": [],
   "source": [
    "gastric_cancer_dataset = dataset.copy()\n",
    "\n",
    "gastric_cancer_dataset.loc[gastric_cancer_dataset[\"ID_REF\"] == \"Gastric Cancer\", \"ID_REF\"] = 1\n",
    "gastric_cancer_dataset.loc[gastric_cancer_dataset[\"ID_REF\"] == \"No Cancer\", \"ID_REF\"] = 0\n",
    "gastric_cancer_dataset = gastric_cancer_dataset[(gastric_cancer_dataset[\"ID_REF\"] == 0) | (gastric_cancer_dataset[\"ID_REF\"] == 1)]\n",
    "\n",
    "print(gastric_cancer_dataset, \"\\n\")\n",
    "print(\"Gastric Cancer Sample Number:\", gastric_cancer_dataset[\"ID_REF\"].value_counts()[1])\n",
    "print(\"Non-Cancer Sample Number:\", gastric_cancer_dataset[\"ID_REF\"].value_counts()[0])\n",
    "print(\"All Sample Number:\", gastric_cancer_dataset[\"ID_REF\"].value_counts()[0] + gastric_cancer_dataset[\"ID_REF\"].value_counts()[1], \"\\n\")\n",
    "\n",
    "x_train_gastric, x_test_gastric, y_train_gastric, y_test_gastric, feature_names_gastric = process_data(gastric_cancer_dataset, under_sample_factor=under_sample, over_sample_factor=over_sample)"
   ],
   "metadata": {
    "collapsed": false
   }
  },
  {
   "cell_type": "code",
   "execution_count": null,
   "outputs": [],
   "source": [
    "svm_grid_search_gastric = support_vector_machine(x_train_gastric, y_train_gastric, feature_selection_num)"
   ],
   "metadata": {
    "collapsed": false
   }
  },
  {
   "cell_type": "code",
   "execution_count": null,
   "outputs": [],
   "source": [
    "get_svm_metrics(svm_grid_search_gastric, x_test_gastric, y_test_gastric)\n",
    "svm_top_coef_gastric, svm_top_features_gastric = get_top_svm_features(svm_grid_search_gastric, feature_names_gastric, feature_selection_num)\n",
    "print(svm_top_features_gastric)\n",
    "print(svm_top_coef_gastric)"
   ],
   "metadata": {
    "collapsed": false
   }
  },
  {
   "cell_type": "code",
   "execution_count": null,
   "outputs": [],
   "source": [
    "rf_grid_search_gastric = random_forest(x_train_gastric, y_train_gastric, feature_selection_num)"
   ],
   "metadata": {
    "collapsed": false
   }
  },
  {
   "cell_type": "code",
   "execution_count": null,
   "outputs": [],
   "source": [
    "get_rf_metrics(rf_grid_search_gastric, x_test_gastric, y_test_gastric)\n",
    "rf_top_importance_gastric, rf_top_features_gastric = get_top_rf_features(rf_grid_search_gastric, feature_names_gastric, feature_selection_num)\n",
    "print(rf_top_features_gastric)\n",
    "print(rf_top_importance_gastric)"
   ],
   "metadata": {
    "collapsed": false
   }
  },
  {
   "cell_type": "code",
   "execution_count": null,
   "outputs": [],
   "source": [
    "gb_grid_search_gastric = gradient_boosting(x_train_gastric, y_train_gastric, feature_selection_num)"
   ],
   "metadata": {
    "collapsed": false
   }
  },
  {
   "cell_type": "code",
   "execution_count": null,
   "outputs": [],
   "source": [
    "get_gb_metrics(gb_grid_search_gastric, x_test_gastric, y_test_gastric)\n",
    "gb_top_importance_gastric, gb_top_features_gastric = get_top_gb_features(gb_grid_search_gastric, feature_names_gastric, feature_selection_num)\n",
    "print(gb_top_features_gastric)\n",
    "print(gb_top_importance_gastric)"
   ],
   "metadata": {
    "collapsed": false
   }
  },
  {
   "cell_type": "code",
   "execution_count": null,
   "outputs": [],
   "source": [
    "top_features_gastric = get_top_features(svm_top_features_gastric, rf_top_features_gastric, gb_top_features_gastric, feature_importance_num)\n",
    "print(top_features_gastric, len(top_features_gastric))"
   ],
   "metadata": {
    "collapsed": false
   }
  },
  {
   "cell_type": "markdown",
   "source": [
    "Prostate Cancer"
   ],
   "metadata": {
    "collapsed": false
   }
  },
  {
   "cell_type": "code",
   "execution_count": null,
   "outputs": [],
   "source": [
    "prostate_cancer_dataset = dataset.copy()\n",
    "\n",
    "prostate_cancer_dataset.loc[prostate_cancer_dataset[\"ID_REF\"] == \"Prostate Cancer\", \"ID_REF\"] = 1\n",
    "prostate_cancer_dataset.loc[prostate_cancer_dataset[\"ID_REF\"] == \"No Cancer\", \"ID_REF\"] = 0\n",
    "prostate_cancer_dataset = prostate_cancer_dataset[(prostate_cancer_dataset[\"ID_REF\"] == 0) | (prostate_cancer_dataset[\"ID_REF\"] == 1)]\n",
    "\n",
    "print(prostate_cancer_dataset, \"\\n\")\n",
    "print(\"Prostate Cancer Sample Number:\", prostate_cancer_dataset[\"ID_REF\"].value_counts()[1])\n",
    "print(\"Non-Cancer Sample Number:\", prostate_cancer_dataset[\"ID_REF\"].value_counts()[0])\n",
    "print(\"All Sample Number:\", prostate_cancer_dataset[\"ID_REF\"].value_counts()[0] + prostate_cancer_dataset[\"ID_REF\"].value_counts()[1], \"\\n\")\n",
    "\n",
    "x_train_prostate, x_test_prostate, y_train_prostate, y_test_prostate, feature_names_prostate = process_data(prostate_cancer_dataset, under_sample_factor=under_sample, over_sample_factor=over_sample)"
   ],
   "metadata": {
    "collapsed": false
   }
  },
  {
   "cell_type": "code",
   "execution_count": null,
   "outputs": [],
   "source": [
    "svm_grid_search_prostate = support_vector_machine(x_train_prostate, y_train_prostate, feature_selection_num)"
   ],
   "metadata": {
    "collapsed": false
   }
  },
  {
   "cell_type": "code",
   "execution_count": null,
   "outputs": [],
   "source": [
    "get_svm_metrics(svm_grid_search_prostate, x_test_prostate, y_test_prostate)\n",
    "svm_top_coef_prostate, svm_top_features_prostate = get_top_svm_features(svm_grid_search_prostate, feature_names_prostate, feature_selection_num)\n",
    "print(svm_top_features_prostate)\n",
    "print(svm_top_coef_prostate)"
   ],
   "metadata": {
    "collapsed": false
   }
  },
  {
   "cell_type": "code",
   "execution_count": null,
   "outputs": [],
   "source": [
    "rf_grid_search_prostate = random_forest(x_train_prostate, y_train_prostate, feature_selection_num)"
   ],
   "metadata": {
    "collapsed": false
   }
  },
  {
   "cell_type": "code",
   "execution_count": null,
   "outputs": [],
   "source": [
    "get_rf_metrics(rf_grid_search_prostate, x_test_prostate, y_test_prostate)\n",
    "rf_top_importance_prostate, rf_top_features_prostate = get_top_rf_features(rf_grid_search_prostate, feature_names_prostate, feature_selection_num)\n",
    "print(rf_top_features_prostate)\n",
    "print(rf_top_importance_prostate)"
   ],
   "metadata": {
    "collapsed": false
   }
  },
  {
   "cell_type": "code",
   "execution_count": null,
   "outputs": [],
   "source": [
    "gb_grid_search_prostate = gradient_boosting(x_train_prostate, y_train_prostate, feature_selection_num)"
   ],
   "metadata": {
    "collapsed": false
   }
  },
  {
   "cell_type": "code",
   "execution_count": null,
   "outputs": [],
   "source": [
    "get_gb_metrics(gb_grid_search_prostate, x_test_prostate, y_test_prostate)\n",
    "gb_top_importance_prostate, gb_top_features_prostate = get_top_gb_features(gb_grid_search_prostate, feature_names_prostate, feature_selection_num)\n",
    "print(gb_top_features_prostate)\n",
    "print(gb_top_importance_prostate)"
   ],
   "metadata": {
    "collapsed": false
   }
  },
  {
   "cell_type": "code",
   "execution_count": null,
   "outputs": [],
   "source": [
    "top_features_prostate = get_top_features(svm_top_features_prostate, rf_top_features_prostate, gb_top_features_prostate, feature_importance_num)\n",
    "print(top_features_prostate, len(top_features_prostate))"
   ],
   "metadata": {
    "collapsed": false
   }
  },
  {
   "cell_type": "markdown",
   "source": [
    "Multi-Class"
   ],
   "metadata": {
    "collapsed": false
   }
  },
  {
   "cell_type": "code",
   "execution_count": null,
   "outputs": [],
   "source": [
    "multi_class_dataset = dataset.copy()\n",
    "\n",
    "multi_class_dataset.loc[multi_class_dataset[\"ID_REF\"] == \"Lung Cancer\", \"ID_REF\"] = 1\n",
    "multi_class_dataset.loc[multi_class_dataset[\"ID_REF\"] == \"Colorectal Cancer\", \"ID_REF\"] = 2\n",
    "multi_class_dataset.loc[multi_class_dataset[\"ID_REF\"] == \"Gastric Cancer\", \"ID_REF\"] = 3\n",
    "multi_class_dataset.loc[multi_class_dataset[\"ID_REF\"] == \"Prostate Cancer\", \"ID_REF\"] = 4\n",
    "multi_class_dataset = multi_class_dataset[(multi_class_dataset[\"ID_REF\"] == 1) | (multi_class_dataset[\"ID_REF\"] == 2) | (multi_class_dataset[\"ID_REF\"] == 3) | (multi_class_dataset[\"ID_REF\"] == 4)]\n",
    "\n",
    "print(multi_class_dataset, \"\\n\")\n",
    "print(\"Lung Cancer Sample Number:\", multi_class_dataset[\"ID_REF\"].value_counts()[1])\n",
    "print(\"Colorectal Cancer Sample Number:\", multi_class_dataset[\"ID_REF\"].value_counts()[2])\n",
    "print(\"Gastric Cancer Sample Number:\", multi_class_dataset[\"ID_REF\"].value_counts()[3])\n",
    "print(\"Prostate Cancer Sample Number:\", multi_class_dataset[\"ID_REF\"].value_counts()[4])\n",
    "print(\"All Sample Number:\", multi_class_dataset[\"ID_REF\"].value_counts()[1] + multi_class_dataset[\"ID_REF\"].value_counts()[2] + multi_class_dataset[\"ID_REF\"].value_counts()[3] + multi_class_dataset[\"ID_REF\"].value_counts()[4], \"\\n\")\n",
    "\n",
    "x_train_multi, x_test_multi, y_train_multi, y_test_multi, feature_names_multi = process_data(multi_class_dataset, under_sample_factor=under_sample, over_sample_factor=over_sample)"
   ],
   "metadata": {
    "collapsed": false
   }
  },
  {
   "cell_type": "code",
   "execution_count": null,
   "outputs": [],
   "source": [
    "svm_grid_search_multi = support_vector_machine(x_train_multi, y_train_multi, feature_selection_num)"
   ],
   "metadata": {
    "collapsed": false
   }
  },
  {
   "cell_type": "code",
   "execution_count": null,
   "outputs": [],
   "source": [
    "get_svm_metrics(svm_grid_search_multi, x_test_multi, y_test_multi)\n",
    "svm_top_coef_multi, svm_top_features_multi = get_top_svm_features(svm_grid_search_multi, feature_names_multi, 10)\n",
    "print(svm_top_features_multi)\n",
    "print(svm_top_coef_multi)"
   ],
   "metadata": {
    "collapsed": false
   }
  },
  {
   "cell_type": "code",
   "execution_count": null,
   "outputs": [],
   "source": [
    "rf_grid_search_multi = random_forest(x_train_multi, y_train_multi, feature_selection_num)"
   ],
   "metadata": {
    "collapsed": false
   }
  },
  {
   "cell_type": "code",
   "execution_count": null,
   "outputs": [],
   "source": [
    "get_rf_metrics(rf_grid_search_multi, x_test_multi, y_test_multi)\n",
    "rf_top_importance_multi, rf_top_features_multi = get_top_rf_features(rf_grid_search_multi, feature_names_multi, 10)\n",
    "print(rf_top_features_multi)\n",
    "print(rf_top_importance_multi)"
   ],
   "metadata": {
    "collapsed": false
   }
  },
  {
   "cell_type": "code",
   "execution_count": null,
   "outputs": [],
   "source": [
    "gb_grid_search_multi = gradient_boosting(x_train_multi, y_train_multi, feature_selection_num)"
   ],
   "metadata": {
    "collapsed": false
   }
  },
  {
   "cell_type": "code",
   "execution_count": null,
   "outputs": [],
   "source": [
    "get_gb_metrics(gb_grid_search_multi, x_test_multi, y_test_multi)\n",
    "gb_top_importance_multi, gb_top_features_multi = get_top_gb_features(gb_grid_search_multi, feature_names_multi, 10)\n",
    "print(gb_top_features_multi)\n",
    "print(gb_top_importance_multi)"
   ],
   "metadata": {
    "collapsed": false
   }
  },
  {
   "cell_type": "code",
   "execution_count": null,
   "outputs": [],
   "source": [
    "top_features_multi = gb_top_features_multi\n",
    "print(top_features_multi, len(top_features_multi))"
   ],
   "metadata": {
    "collapsed": false
   }
  },
  {
   "cell_type": "markdown",
   "source": [
    "Analysis"
   ],
   "metadata": {
    "collapsed": false
   }
  },
  {
   "cell_type": "code",
   "execution_count": null,
   "outputs": [],
   "source": [
    "def create_network(top_features_list, all_features_list, correlation_threshold_factor, cancer_dataset):\n",
    "    cancer_subset, control_subset = cancer_dataset[(cancer_dataset[\"ID_REF\"] == 1)], cancer_dataset[(cancer_dataset[\"ID_REF\"] == 0)]\n",
    "\n",
    "    edges = [((node1, node2), cancer_subset[node1].corr(cancer_subset[node2], method=\"pearson\")) for node1, node2 in itertools.combinations(top_features_list, 2)]\n",
    "    edges = [(node1, node2, {'weight': abs(correlation), 'sign': 1 if correlation > 0 else 0}) for (node1, node2), correlation in edges if abs(correlation) >= correlation_threshold_factor]\n",
    "\n",
    "    nodes = [(feature, {'sides': all_features_list.count(feature) + 1, \"comparison\": 1 if cancer_subset[feature].mean() >= control_subset[feature].mean() else (0 if cancer_subset[feature].mean() < control_subset[feature].mean() else 0.5)}) for feature in top_features_list]\n",
    "\n",
    "    graph = nx.Graph()\n",
    "    graph.add_nodes_from(nodes)\n",
    "    graph.add_edges_from(edges)\n",
    "\n",
    "    degrees = dict(graph.degree)\n",
    "\n",
    "    network_degrees_values, network_degrees_nodes = zip(*sorted(zip(degrees.values(), degrees.keys()), reverse=True))\n",
    "    print(network_degrees_nodes)\n",
    "    print(network_degrees_values)\n",
    "\n",
    "    return graph"
   ],
   "metadata": {
    "collapsed": false
   }
  },
  {
   "cell_type": "code",
   "execution_count": null,
   "outputs": [],
   "source": [
    "def create_bar_charts(top_features_list, full_dataset, path_name):\n",
    "    lung_cancer = full_dataset[(full_dataset[\"ID_REF\"] == \"Lung Cancer\")]\n",
    "    colorectal_cancer = full_dataset[(full_dataset[\"ID_REF\"] == \"Colorectal Cancer\")]\n",
    "    gastric_cancer = full_dataset[(full_dataset[\"ID_REF\"] == \"Gastric Cancer\")]\n",
    "    prostate_cancer = full_dataset[(full_dataset[\"ID_REF\"] == \"Prostate Cancer\")]\n",
    "    no_cancer = full_dataset[(full_dataset[\"ID_REF\"] == \"No Cancer\")]\n",
    "\n",
    "    cancer_dataset = [lung_cancer, colorectal_cancer, gastric_cancer, prostate_cancer, no_cancer]\n",
    "\n",
    "    plt.ioff()\n",
    "    for feature_name in top_features_list:\n",
    "        plt.figure(0).clf()\n",
    "        plt.figure(figsize=(9, 6))\n",
    "\n",
    "        plt.rcParams.update({'font.size': 18})\n",
    "\n",
    "        labels = ['Lung', 'Colorectal', 'Gastric', 'Prostate', 'No Cancer']\n",
    "        means = [data[feature_name].mean() for data in cancer_dataset]\n",
    "        errors = [data[feature_name].sem() * 2 for data in cancer_dataset]\n",
    "        plt.bar(labels, means, yerr=errors, error_kw={'elinewidth': 10, 'ecolor': 'k'}, capsize=15)\n",
    "\n",
    "        plt.title(feature_name)\n",
    "        plt.ylabel('Signal Value')\n",
    "        plt.savefig(\"Bar Charts/\" + path_name + \"/\" + feature_name, dpi=200, bbox_inches='tight')\n",
    "    plt.ion()"
   ],
   "metadata": {
    "collapsed": false
   }
  },
  {
   "cell_type": "code",
   "execution_count": null,
   "outputs": [],
   "source": [
    "all_features = []\n",
    "all_features.extend(top_features_lung)\n",
    "all_features.extend(top_features_colorectal)\n",
    "all_features.extend(top_features_gastric)\n",
    "all_features.extend(top_features_prostate)\n",
    "single_features = list(dict.fromkeys(all_features))\n",
    "\n",
    "correlation_threshold = 0.5"
   ],
   "metadata": {
    "collapsed": false
   }
  },
  {
   "cell_type": "code",
   "execution_count": null,
   "outputs": [],
   "source": [
    "graph_lung = create_network(top_features_lung, all_features, correlation_threshold, lung_cancer_dataset)\n",
    "nx.write_gexf(graph_lung, \"lung_new.gexf\")"
   ],
   "metadata": {
    "collapsed": false
   }
  },
  {
   "cell_type": "code",
   "execution_count": null,
   "outputs": [],
   "source": [
    "graph_colorectal = create_network(top_features_colorectal, all_features, correlation_threshold, colorectal_cancer_dataset)\n",
    "nx.write_gexf(graph_colorectal, \"colorectal_new.gexf\")"
   ],
   "metadata": {
    "collapsed": false
   }
  },
  {
   "cell_type": "code",
   "execution_count": null,
   "outputs": [],
   "source": [
    "graph_gastric = create_network(top_features_gastric, all_features, correlation_threshold, gastric_cancer_dataset)\n",
    "nx.write_gexf(graph_gastric, \"gastric_new.gexf\")"
   ],
   "metadata": {
    "collapsed": false
   }
  },
  {
   "cell_type": "code",
   "execution_count": null,
   "outputs": [],
   "source": [
    "graph_prostate = create_network(top_features_prostate, all_features, correlation_threshold, prostate_cancer_dataset)\n",
    "nx.write_gexf(graph_prostate, \"prostate_new.gexf\")"
   ],
   "metadata": {
    "collapsed": false
   }
  },
  {
   "cell_type": "code",
   "execution_count": null,
   "outputs": [],
   "source": [
    "create_bar_charts(top_features_lung, dataset, \"Lung\")\n",
    "create_bar_charts(top_features_colorectal, dataset, \"Colorectal\")\n",
    "create_bar_charts(top_features_gastric, dataset, \"Gastric\")\n",
    "create_bar_charts(top_features_prostate, dataset, \"Prostate\")\n",
    "create_bar_charts(top_features_multi, dataset, \"Multi\")"
   ],
   "metadata": {
    "collapsed": false
   }
  }
 ],
 "metadata": {
  "kernelspec": {
   "display_name": "Python 3",
   "language": "python",
   "name": "python3"
  },
  "language_info": {
   "codemirror_mode": {
    "name": "ipython",
    "version": 2
   },
   "file_extension": ".py",
   "mimetype": "text/x-python",
   "name": "python",
   "nbconvert_exporter": "python",
   "pygments_lexer": "ipython2",
   "version": "2.7.6"
  }
 },
 "nbformat": 4,
 "nbformat_minor": 0
}
