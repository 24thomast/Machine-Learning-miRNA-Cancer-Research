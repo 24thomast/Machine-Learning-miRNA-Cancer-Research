{
 "cells": [
  {
   "cell_type": "code",
   "execution_count": 363,
   "metadata": {
    "collapsed": false
   },
   "outputs": [],
   "source": [
    "import numpy as np\n",
    "import pandas as pd"
   ]
  },
  {
   "cell_type": "code",
   "execution_count": 364,
   "metadata": {
    "collapsed": false
   },
   "outputs": [],
   "source": [
    "from sklearn.feature_selection import SelectKBest, f_classif\n",
    "from sklearn.model_selection import train_test_split, GridSearchCV\n",
    "from sklearn.metrics import confusion_matrix, accuracy_score\n",
    "from sklearn.ensemble import RandomForestClassifier, GradientBoostingClassifier\n",
    "from sklearn.pipeline import Pipeline\n",
    "from sklearn.svm import SVC"
   ]
  },
  {
   "cell_type": "code",
   "execution_count": 365,
   "metadata": {
    "collapsed": false
   },
   "outputs": [
    {
     "name": "stdout",
     "output_type": "stream",
     "text": [
      "                                           ID_REF  hsa-miR-28-3p  \\\n",
      "0      Benign Disease In The Bone And Soft Tissue       2.793825   \n",
      "1      Benign Disease In The Bone And Soft Tissue       5.461192   \n",
      "2      Benign Disease In The Bone And Soft Tissue       1.819089   \n",
      "3      Benign Disease In The Bone And Soft Tissue       4.317970   \n",
      "4      Benign Disease In The Bone And Soft Tissue       5.520351   \n",
      "...                                           ...            ...   \n",
      "16185                             Prostate Cancer       3.686871   \n",
      "16186                             Prostate Cancer       0.121448   \n",
      "16187                             Prostate Cancer      -0.661008   \n",
      "16188                             Prostate Cancer      -1.769902   \n",
      "16189                             Prostate Cancer       2.596167   \n",
      "\n",
      "       hsa-miR-27a-5p  hsa-miR-518b  hsa-miR-520b  hsa-miR-498  \\\n",
      "0           -1.981370     -1.981370     -1.981370     5.857238   \n",
      "1            6.619583      6.130041      3.067365     6.465226   \n",
      "2           -2.105596      2.259142     -2.105596     5.100106   \n",
      "3            2.289873      4.857213      4.956817     6.163753   \n",
      "4            0.131023      0.131023      1.981760     5.542902   \n",
      "...               ...           ...           ...          ...   \n",
      "16185        5.402453      5.126641      6.142145     6.842370   \n",
      "16186        0.121448      0.121448      0.121448     5.652367   \n",
      "16187        4.343310      4.541016      3.901700     6.052224   \n",
      "16188       -1.769902      0.133393      2.717976     5.759201   \n",
      "16189       -0.620166      3.208942      1.720689     6.087204   \n",
      "\n",
      "       hsa-miR-512-3p  hsa-miR-491-5p  hsa-miR-490-3p  hsa-miR-452-5p  ...  \\\n",
      "0            4.220062        5.029350       -1.981370       -1.981370  ...   \n",
      "1            5.223214        4.945808        0.892055        4.988089  ...   \n",
      "2           -2.105596        4.154498        2.813753       -2.105596  ...   \n",
      "3            4.602170        5.826310        4.895164        2.008303  ...   \n",
      "4            3.404517        0.131023        3.281515        0.131023  ...   \n",
      "...               ...             ...             ...             ...  ...   \n",
      "16185        6.165349        6.051800        6.026886        4.562812  ...   \n",
      "16186        0.121448        1.570305        4.607097        0.121448  ...   \n",
      "16187        3.143318        6.175194        4.004459        5.046802  ...   \n",
      "16188       -1.769902        5.818877        3.199135        0.937268  ...   \n",
      "16189        3.173542        4.639237        4.111498        2.955388  ...   \n",
      "\n",
      "       hsa-miR-3606-3p  hsa-miR-1292-3p  hsa-miR-6889-5p  hsa-miR-6888-3p  \\\n",
      "0            -1.981370         5.642645         7.572370        -1.981370   \n",
      "1             0.892055         2.290574         6.700408         0.892055   \n",
      "2            -2.105596         4.524169         6.832882        -2.105596   \n",
      "3            -0.240769         3.681592         6.433746        -0.240769   \n",
      "4             0.131023         5.594084         6.700709         0.131023   \n",
      "...                ...              ...              ...              ...   \n",
      "16185         4.080863         6.172370         6.643147         5.555165   \n",
      "16186         2.925152         6.369622         8.059979         1.264016   \n",
      "16187        -0.661008         5.439325         6.856461        -0.661008   \n",
      "16188        -1.769902         5.705524         7.238400        -1.769902   \n",
      "16189        -1.304801         5.507057         7.373321        -1.304801   \n",
      "\n",
      "       hsa-miR-6881-5p  hsa-miR-6880-3p  hsa-miR-6873-5p  hsa-miR-6872-3p  \\\n",
      "0             3.422863         6.059952        -1.981370         4.809638   \n",
      "1             0.892055         5.908317         0.892055         0.892055   \n",
      "2            -2.105596         5.267122        -2.105596         4.736956   \n",
      "3            -0.240769         5.570771        -0.240769         3.246960   \n",
      "4             0.131023         5.897665         0.131023         5.635298   \n",
      "...                ...              ...              ...              ...   \n",
      "16185        -0.503157         6.799860         1.795279         6.179358   \n",
      "16186         5.001446         5.835754         5.598083         6.681475   \n",
      "16187        -0.661008         5.347483        -0.661008         6.169932   \n",
      "16188         1.218126         6.321042        -1.769902         5.836634   \n",
      "16189         3.146592         6.522896         3.585249         5.907935   \n",
      "\n",
      "       hsa-miR-6865-5p  hsa-miR-6864-3p  \n",
      "0             5.228799        -1.981370  \n",
      "1             0.892055         0.892055  \n",
      "2             3.209470        -2.105596  \n",
      "3            -0.240769        -0.240769  \n",
      "4             5.237679         4.552141  \n",
      "...                ...              ...  \n",
      "16185         6.024602         6.385547  \n",
      "16186         7.222786         5.258912  \n",
      "16187         4.790708        -0.661008  \n",
      "16188         5.380613         2.970555  \n",
      "16189         5.817837        -1.304801  \n",
      "\n",
      "[16190 rows x 2566 columns]\n"
     ]
    }
   ],
   "source": [
    "dataset = pd.read_csv(\"dataset.csv\")\n",
    "print(dataset)"
   ]
  },
  {
   "cell_type": "code",
   "execution_count": 366,
   "metadata": {
    "collapsed": false
   },
   "outputs": [],
   "source": [
    "def process_data(data):\n",
    "    x = np.array(data.drop([\"ID_REF\"], axis=1)).astype('float')\n",
    "    y = np.array(data[\"ID_REF\"]).astype('int')\n",
    "    feature_names = data.columns[1:]\n",
    "\n",
    "    x_train, x_test, y_train, y_test = train_test_split(x, y, test_size = 0.20, random_state = 0, stratify=y)\n",
    "\n",
    "    return x_train, y_train, x_test, y_test, feature_names"
   ]
  },
  {
   "cell_type": "code",
   "execution_count": 367,
   "metadata": {
    "collapsed": false
   },
   "outputs": [],
   "source": [
    "def support_vector_machine(x_train, y_train, feature_num):\n",
    "    pipe = Pipeline([('skb', SelectKBest(f_classif, k=feature_num)), ('estimator', SVC())])\n",
    "\n",
    "    pipe_parameters = {'skb__k' : [feature_num],\n",
    "                       'estimator__C': [0.25, 0.5, 0.75, 1],\n",
    "                       'estimator__kernel': ['linear']\n",
    "                       }\n",
    "\n",
    "    svm_grid_search = GridSearchCV(pipe, pipe_parameters, scoring='accuracy', cv=10, n_jobs=-1)\n",
    "    svm_grid_search.fit(x_train, y_train)\n",
    "\n",
    "    return svm_grid_search\n",
    "\n",
    "def get_svm_metrics(svm_grid_search, x_test, y_test):\n",
    "    best_accuracy = svm_grid_search.best_score_\n",
    "    best_parameters = svm_grid_search.best_params_\n",
    "    print(\"Training Accuracy:\", best_accuracy)\n",
    "    print(\"Best Parameters:\", best_parameters)\n",
    "\n",
    "    y_pred = svm_grid_search.predict(x_test)\n",
    "    matrix = confusion_matrix(y_test, y_pred)\n",
    "    print(\"Testing Accuracy:\", accuracy_score(y_test, y_pred))\n",
    "    print(\"Confusion Matrix:\")\n",
    "    print(matrix)\n",
    "\n",
    "def get_top_svm_features(svm_grid_search, feature_names, top_feature_num):\n",
    "    coef_list = svm_grid_search.best_estimator_.named_steps['estimator'].coef_[0]\n",
    "    features = svm_grid_search.best_estimator_.named_steps['skb'].get_support()\n",
    "    selected_features_list = feature_names[features].tolist()\n",
    "\n",
    "    coef_list, selected_features_list = zip(*sorted(zip(abs(coef_list), selected_features_list), reverse=True))\n",
    "    coef_list, selected_features_list = list(coef_list), list(selected_features_list)\n",
    "\n",
    "    return coef_list[:top_feature_num], selected_features_list[:top_feature_num]"
   ]
  },
  {
   "cell_type": "code",
   "execution_count": 368,
   "metadata": {
    "collapsed": false
   },
   "outputs": [],
   "source": [
    "def random_forest(x_train, y_train, feature_num):\n",
    "    pipe = Pipeline([('skb', SelectKBest(f_classif, k=feature_num)), ('estimator', RandomForestClassifier(random_state=0))])\n",
    "\n",
    "    pipe_parameters = {'skb__k': [feature_num],\n",
    "                       'estimator__n_estimators': [100, 500],\n",
    "                       'estimator__max_features': ['auto', 'sqrt', 'log2'],\n",
    "                       'estimator__criterion' :['gini', 'entropy']\n",
    "                       }\n",
    "\n",
    "    rf_grid_search = GridSearchCV(pipe, pipe_parameters, scoring='accuracy', cv=10, n_jobs=-1)\n",
    "    rf_grid_search.fit(x_train, y_train)\n",
    "\n",
    "    return rf_grid_search\n",
    "\n",
    "def get_rf_metrics(rf_grid_search, x_test, y_test):\n",
    "    best_accuracy = rf_grid_search.best_score_\n",
    "    best_parameters = rf_grid_search.best_params_\n",
    "    print(\"Training Accuracy:\", best_accuracy)\n",
    "    print(\"Best Parameters:\", best_parameters)\n",
    "\n",
    "    y_pred = rf_grid_search.predict(x_test)\n",
    "    matrix = confusion_matrix(y_test, y_pred)\n",
    "    print(\"Testing Accuracy:\", accuracy_score(y_test, y_pred))\n",
    "    print(\"Confusion Matrix:\")\n",
    "    print(matrix)\n",
    "\n",
    "def get_top_rf_features(rf_grid_search, feature_names, top_feature_num):\n",
    "    importance_list = rf_grid_search.best_estimator_.named_steps['estimator'].feature_importances_\n",
    "    features = rf_grid_search.best_estimator_.named_steps['skb'].get_support()\n",
    "    selected_features_list = feature_names[features].tolist()\n",
    "\n",
    "    importance_list, selected_features_list = zip(*sorted(zip(importance_list, selected_features_list), reverse=True))\n",
    "    importance_list, selected_features_list = list(importance_list), list(selected_features_list)\n",
    "\n",
    "    return importance_list[:top_feature_num], selected_features_list[:top_feature_num]"
   ]
  },
  {
   "cell_type": "code",
   "execution_count": 369,
   "metadata": {
    "collapsed": false
   },
   "outputs": [],
   "source": [
    "def gradient_boosting(x_train, y_train, feature_num):\n",
    "    pipe = Pipeline([('skb', SelectKBest(f_classif)), ('estimator', GradientBoostingClassifier())])\n",
    "\n",
    "    pipe_parameters = {'skb__k': [feature_num],\n",
    "                       'estimator__learning_rate': [0.5, 1],\n",
    "                       'estimator__n_estimators': [50],\n",
    "                       }\n",
    "\n",
    "    gb_grid_search = GridSearchCV(pipe, pipe_parameters, scoring='accuracy', cv=10, n_jobs=-1)\n",
    "    gb_grid_search.fit(x_train, y_train)\n",
    "\n",
    "    return gb_grid_search\n",
    "\n",
    "def get_gb_metrics(gb_grid_search, x_test, y_test):\n",
    "    best_accuracy = gb_grid_search.best_score_\n",
    "    best_parameters = gb_grid_search.best_params_\n",
    "    print(\"Training Accuracy:\", best_accuracy)\n",
    "    print(\"Best Parameters:\", best_parameters)\n",
    "\n",
    "    y_pred = gb_grid_search.predict(x_test)\n",
    "    matrix = confusion_matrix(y_test, y_pred)\n",
    "    print(\"Testing Accuracy:\", accuracy_score(y_test, y_pred))\n",
    "    print(\"Confusion Matrix:\")\n",
    "    print(matrix)\n",
    "\n",
    "def get_top_gb_features(gb_grid_search, feature_names, top_feature_num):\n",
    "    importance_list = gb_grid_search.best_estimator_.named_steps['estimator'].feature_importances_\n",
    "    features = gb_grid_search.best_estimator_.named_steps['skb'].get_support()\n",
    "    selected_features_list = feature_names[features].tolist()\n",
    "\n",
    "    importance_list, selected_features_list = zip(*sorted(zip(importance_list, selected_features_list), reverse=True))\n",
    "    importance_list, selected_features_list = list(importance_list), list(selected_features_list)\n",
    "\n",
    "    return importance_list[:top_feature_num], selected_features_list[:top_feature_num]"
   ]
  },
  {
   "cell_type": "code",
   "execution_count": 370,
   "metadata": {
    "collapsed": false
   },
   "outputs": [],
   "source": [
    "feature_selection_num = 500\n",
    "feature_importance_num = 100"
   ]
  },
  {
   "cell_type": "markdown",
   "metadata": {
    "collapsed": false
   },
   "source": [
    "Normal vs Cancer Dataset"
   ]
  },
  {
   "cell_type": "code",
   "execution_count": 371,
   "metadata": {
    "collapsed": false
   },
   "outputs": [
    {
     "name": "stdout",
     "output_type": "stream",
     "text": [
      "      ID_REF  hsa-miR-28-3p  hsa-miR-27a-5p  hsa-miR-518b  hsa-miR-520b  \\\n",
      "0          0       2.793825       -1.981370     -1.981370     -1.981370   \n",
      "1          0       5.461192        6.619583      6.130041      3.067365   \n",
      "2          0       1.819089       -2.105596      2.259142     -2.105596   \n",
      "3          0       4.317970        2.289873      4.857213      4.956817   \n",
      "4          0       5.520351        0.131023      0.131023      1.981760   \n",
      "...      ...            ...             ...           ...           ...   \n",
      "16185      1       3.686871        5.402453      5.126641      6.142145   \n",
      "16186      1       0.121448        0.121448      0.121448      0.121448   \n",
      "16187      1      -0.661008        4.343310      4.541016      3.901700   \n",
      "16188      1      -1.769902       -1.769902      0.133393      2.717976   \n",
      "16189      1       2.596167       -0.620166      3.208942      1.720689   \n",
      "\n",
      "       hsa-miR-498  hsa-miR-512-3p  hsa-miR-491-5p  hsa-miR-490-3p  \\\n",
      "0         5.857238        4.220062        5.029350       -1.981370   \n",
      "1         6.465226        5.223214        4.945808        0.892055   \n",
      "2         5.100106       -2.105596        4.154498        2.813753   \n",
      "3         6.163753        4.602170        5.826310        4.895164   \n",
      "4         5.542902        3.404517        0.131023        3.281515   \n",
      "...            ...             ...             ...             ...   \n",
      "16185     6.842370        6.165349        6.051800        6.026886   \n",
      "16186     5.652367        0.121448        1.570305        4.607097   \n",
      "16187     6.052224        3.143318        6.175194        4.004459   \n",
      "16188     5.759201       -1.769902        5.818877        3.199135   \n",
      "16189     6.087204        3.173542        4.639237        4.111498   \n",
      "\n",
      "       hsa-miR-452-5p  ...  hsa-miR-3606-3p  hsa-miR-1292-3p  hsa-miR-6889-5p  \\\n",
      "0           -1.981370  ...        -1.981370         5.642645         7.572370   \n",
      "1            4.988089  ...         0.892055         2.290574         6.700408   \n",
      "2           -2.105596  ...        -2.105596         4.524169         6.832882   \n",
      "3            2.008303  ...        -0.240769         3.681592         6.433746   \n",
      "4            0.131023  ...         0.131023         5.594084         6.700709   \n",
      "...               ...  ...              ...              ...              ...   \n",
      "16185        4.562812  ...         4.080863         6.172370         6.643147   \n",
      "16186        0.121448  ...         2.925152         6.369622         8.059979   \n",
      "16187        5.046802  ...        -0.661008         5.439325         6.856461   \n",
      "16188        0.937268  ...        -1.769902         5.705524         7.238400   \n",
      "16189        2.955388  ...        -1.304801         5.507057         7.373321   \n",
      "\n",
      "       hsa-miR-6888-3p  hsa-miR-6881-5p  hsa-miR-6880-3p  hsa-miR-6873-5p  \\\n",
      "0            -1.981370         3.422863         6.059952        -1.981370   \n",
      "1             0.892055         0.892055         5.908317         0.892055   \n",
      "2            -2.105596        -2.105596         5.267122        -2.105596   \n",
      "3            -0.240769        -0.240769         5.570771        -0.240769   \n",
      "4             0.131023         0.131023         5.897665         0.131023   \n",
      "...                ...              ...              ...              ...   \n",
      "16185         5.555165        -0.503157         6.799860         1.795279   \n",
      "16186         1.264016         5.001446         5.835754         5.598083   \n",
      "16187        -0.661008        -0.661008         5.347483        -0.661008   \n",
      "16188        -1.769902         1.218126         6.321042        -1.769902   \n",
      "16189        -1.304801         3.146592         6.522896         3.585249   \n",
      "\n",
      "       hsa-miR-6872-3p  hsa-miR-6865-5p  hsa-miR-6864-3p  \n",
      "0             4.809638         5.228799        -1.981370  \n",
      "1             0.892055         0.892055         0.892055  \n",
      "2             4.736956         3.209470        -2.105596  \n",
      "3             3.246960        -0.240769        -0.240769  \n",
      "4             5.635298         5.237679         4.552141  \n",
      "...                ...              ...              ...  \n",
      "16185         6.179358         6.024602         6.385547  \n",
      "16186         6.681475         7.222786         5.258912  \n",
      "16187         6.169932         4.790708        -0.661008  \n",
      "16188         5.836634         5.380613         2.970555  \n",
      "16189         5.907935         5.817837        -1.304801  \n",
      "\n",
      "[16190 rows x 2566 columns] \n",
      "\n",
      "Cancer Sample Number: 9921\n",
      "Non-Cancer Sample Number: 6269\n",
      "All Sample Number: 16190\n"
     ]
    }
   ],
   "source": [
    "normal_cancer_dataset = dataset.copy()\n",
    "\n",
    "normal_cancer_dataset.loc[normal_cancer_dataset[\"ID_REF\"] == \"Benign Disease In The Bone And Soft Tissue\", \"ID_REF\"] = 0\n",
    "normal_cancer_dataset.loc[normal_cancer_dataset[\"ID_REF\"] == \"Benign Disease In The Breast\", \"ID_REF\"] = 0\n",
    "normal_cancer_dataset.loc[normal_cancer_dataset[\"ID_REF\"] == \"Benign Disease In The Ovary\", \"ID_REF\"] = 0\n",
    "normal_cancer_dataset.loc[normal_cancer_dataset[\"ID_REF\"] == \"Benign Disease In The Prostate\", \"ID_REF\"] = 0\n",
    "normal_cancer_dataset.loc[normal_cancer_dataset[\"ID_REF\"] == \"Extraparenchymal Brain Tumor And Benign Disease In The Brain\", \"ID_REF\"] = 0\n",
    "normal_cancer_dataset.loc[normal_cancer_dataset[\"ID_REF\"] == \"No Cancer\", \"ID_REF\"] = 0\n",
    "\n",
    "normal_cancer_dataset.loc[normal_cancer_dataset[\"ID_REF\"] != 0, \"ID_REF\"] = 1\n",
    "\n",
    "print(normal_cancer_dataset, \"\\n\")\n",
    "print(\"Cancer Sample Number:\", normal_cancer_dataset[\"ID_REF\"].value_counts()[1])\n",
    "print(\"Non-Cancer Sample Number:\", normal_cancer_dataset[\"ID_REF\"].value_counts()[0])\n",
    "print(\"All Sample Number:\", normal_cancer_dataset[\"ID_REF\"].value_counts()[1] + normal_cancer_dataset[\"ID_REF\"].value_counts()[0])\n",
    "\n",
    "x_train_normal, y_train_normal, x_test_normal, y_test_normal, feature_names_normal = process_data(normal_cancer_dataset)"
   ]
  },
  {
   "cell_type": "code",
   "execution_count": 372,
   "metadata": {
    "collapsed": false
   },
   "outputs": [],
   "source": [
    "svm_grid_search_normal = support_vector_machine(x_train_normal, y_train_normal, feature_selection_num)"
   ]
  },
  {
   "cell_type": "code",
   "execution_count": 373,
   "metadata": {
    "collapsed": false
   },
   "outputs": [
    {
     "name": "stdout",
     "output_type": "stream",
     "text": [
      "Training Accuracy: 0.9681903331903332\n",
      "Best Parameters: {'estimator__C': 0.25, 'estimator__kernel': 'linear', 'skb__k': 500}\n",
      "Testing Accuracy: 0.968190240889438\n",
      "Confusion Matrix:\n",
      "[[1205   49]\n",
      " [  54 1930]]\n",
      "['hsa-miR-1228-5p', 'hsa-miR-6765-5p', 'hsa-miR-8069', 'hsa-miR-5100', 'hsa-miR-1343-5p', 'hsa-miR-8059', 'hsa-miR-128-2-5p', 'hsa-miR-6789-5p', 'hsa-miR-6752-5p', 'hsa-miR-614', 'hsa-miR-4697-5p', 'hsa-miR-6805-5p', 'hsa-miR-6769a-5p', 'hsa-miR-642b-3p', 'hsa-miR-4649-5p', 'hsa-miR-6798-5p', 'hsa-miR-6088', 'hsa-miR-3180', 'hsa-miR-6875-5p', 'hsa-miR-6729-5p', 'hsa-miR-6787-5p', 'hsa-miR-6786-5p', 'hsa-miR-6800-5p', 'hsa-miR-6756-5p', 'hsa-miR-7975', 'hsa-miR-744-5p', 'hsa-miR-3663-3p', 'hsa-miR-1469', 'hsa-miR-6090', 'hsa-miR-4294', 'hsa-miR-6861-5p', 'hsa-miR-320a', 'hsa-miR-4258', 'hsa-miR-4687-5p', 'hsa-miR-1233-5p', 'hsa-miR-4787-3p', 'hsa-miR-4690-5p', 'hsa-miR-663b', 'hsa-miR-4454', 'hsa-miR-4286', 'hsa-miR-4530', 'hsa-miR-6746-5p', 'hsa-miR-6784-5p', 'hsa-miR-575', 'hsa-miR-4706', 'hsa-miR-3940-5p', 'hsa-miR-1268b', 'hsa-miR-211-3p', 'hsa-miR-4708-3p', 'hsa-miR-6131', 'hsa-miR-92b-5p', 'hsa-miR-6749-5p', 'hsa-miR-4718', 'hsa-miR-4783-3p', 'hsa-miR-1307-3p', 'hsa-miR-6132', 'hsa-miR-6826-5p', 'hsa-miR-4703-5p', 'hsa-miR-1273g-3p', 'hsa-miR-6781-5p', 'hsa-miR-22-3p', 'hsa-miR-3136-3p', 'hsa-miR-4536-3p', 'hsa-miR-4675', 'hsa-miR-548i', 'hsa-miR-6717-5p', 'hsa-miR-371a-5p', 'hsa-miR-4770', 'hsa-miR-3115', 'hsa-miR-888-3p', 'hsa-miR-296-3p', 'hsa-miR-7977', 'hsa-miR-1343-3p', 'hsa-miR-320b', 'hsa-miR-17-3p', 'hsa-miR-3607-3p', 'hsa-miR-6766-5p', 'hsa-miR-3613-5p', 'hsa-miR-342-5p', 'hsa-miR-501-3p', 'hsa-miR-4417', 'hsa-miR-4457', 'hsa-miR-548g-3p', 'hsa-miR-3924', 'hsa-miR-4799-3p', 'hsa-miR-103a-3p', 'hsa-miR-6821-5p', 'hsa-miR-1245b-5p', 'hsa-miR-296-5p', 'hsa-miR-3912-5p', 'hsa-miR-1206', 'hsa-miR-548c-3p', 'hsa-miR-1197', 'hsa-miR-7-5p', 'hsa-miR-4434', 'hsa-miR-26b-5p', 'hsa-miR-3117-5p', 'hsa-miR-1238-5p', 'hsa-miR-125a-3p', 'hsa-miR-4699-3p']\n",
      "[1.5279601836856598, 1.3876451370001988, 1.0777026933708345, 0.9964818928425139, 0.9393245196092583, 0.9315365064980667, 0.8784190562529646, 0.8283885828719737, 0.6743432744193374, 0.6355159787967031, 0.6019774030722447, 0.5994393873764898, 0.5878198604992508, 0.5851118691672075, 0.5393999156555163, 0.5245593229522614, 0.5195244284265113, 0.4922972233492706, 0.49004913774959813, 0.4863358150632662, 0.47813249315403716, 0.467193920821408, 0.4128920810686374, 0.41170070708874995, 0.4089354462295316, 0.4044027072566043, 0.3835398158156522, 0.38172371525078397, 0.3406228372300153, 0.33540331731412265, 0.32728211806163054, 0.3206819623888981, 0.3070867197482521, 0.3069776056158724, 0.29218839834461274, 0.2779273409581, 0.2755635368033371, 0.2560930442292477, 0.2508608199985587, 0.2485815200122783, 0.24352025195153404, 0.23957518962358204, 0.23516458297086107, 0.23067127967231937, 0.2305186361989131, 0.22540072578038806, 0.22402641099457643, 0.2191636097481111, 0.18800686061018346, 0.18364878315018407, 0.18108937451665752, 0.17743206578080306, 0.1762596553946012, 0.17053286666214618, 0.16859361859208333, 0.1580213853829351, 0.1541201046333247, 0.15386105165580927, 0.15012104931946935, 0.1491273806178428, 0.14745293795411218, 0.14107710647944094, 0.13341992142195302, 0.13335401454752915, 0.12244662251996782, 0.12010748975942165, 0.11864259032482893, 0.11487704185326869, 0.11454286269685986, 0.11449268533563012, 0.11391369686383124, 0.11371151935093282, 0.11340902763604288, 0.11296630261544349, 0.11192006169175639, 0.10537792520139047, 0.10409469688256356, 0.10304693700324165, 0.10012040972828595, 0.09946991227219487, 0.09866437662585259, 0.09795217363822883, 0.09579879484147942, 0.09243065074193225, 0.09206471222992152, 0.09204888845225045, 0.09031171888649503, 0.090276879090743, 0.08905685881830072, 0.08873544028545989, 0.08869036617961869, 0.08789401636690897, 0.08670909511941832, 0.08669550821450242, 0.08645714694420825, 0.08633996408704608, 0.08575101196721147, 0.08428736082681576, 0.08408999944456069, 0.0827437729303712]\n"
     ]
    }
   ],
   "source": [
    "get_svm_metrics(svm_grid_search_normal, x_test_normal, y_test_normal)\n",
    "svm_top_coef_normal, svm_top_features_normal = get_top_svm_features(svm_grid_search_normal, feature_names_normal, feature_importance_num)\n",
    "svm_top_features_normal = svm_top_features_normal\n",
    "print(svm_top_features_normal)\n",
    "print(svm_top_coef_normal)"
   ]
  },
  {
   "cell_type": "code",
   "execution_count": 374,
   "metadata": {
    "collapsed": false
   },
   "outputs": [
    {
     "name": "stderr",
     "output_type": "stream",
     "text": [
      "/Users/thomastseng/Documents/Pioneer Computational Medicine/Classifiers/venv/lib/python3.9/site-packages/joblib/externals/loky/process_executor.py:752: UserWarning: A worker stopped while some jobs were given to the executor. This can be caused by a too short worker timeout or by a memory leak.\n",
      "  warnings.warn(\n",
      "/Users/thomastseng/Documents/Pioneer Computational Medicine/Classifiers/venv/lib/python3.9/site-packages/sklearn/model_selection/_validation.py:425: FitFailedWarning: \n",
      "40 fits failed out of a total of 120.\n",
      "The score on these train-test partitions for these parameters will be set to nan.\n",
      "If these failures are not expected, you can try to debug them by setting error_score='raise'.\n",
      "\n",
      "Below are more details about the failures:\n",
      "--------------------------------------------------------------------------------\n",
      "19 fits failed with the following error:\n",
      "Traceback (most recent call last):\n",
      "  File \"/Users/thomastseng/Documents/Pioneer Computational Medicine/Classifiers/venv/lib/python3.9/site-packages/sklearn/model_selection/_validation.py\", line 732, in _fit_and_score\n",
      "    estimator.fit(X_train, y_train, **fit_params)\n",
      "  File \"/Users/thomastseng/Documents/Pioneer Computational Medicine/Classifiers/venv/lib/python3.9/site-packages/sklearn/base.py\", line 1151, in wrapper\n",
      "    return fit_method(estimator, *args, **kwargs)\n",
      "  File \"/Users/thomastseng/Documents/Pioneer Computational Medicine/Classifiers/venv/lib/python3.9/site-packages/sklearn/pipeline.py\", line 420, in fit\n",
      "    self._final_estimator.fit(Xt, y, **fit_params_last_step)\n",
      "  File \"/Users/thomastseng/Documents/Pioneer Computational Medicine/Classifiers/venv/lib/python3.9/site-packages/sklearn/base.py\", line 1144, in wrapper\n",
      "    estimator._validate_params()\n",
      "  File \"/Users/thomastseng/Documents/Pioneer Computational Medicine/Classifiers/venv/lib/python3.9/site-packages/sklearn/base.py\", line 637, in _validate_params\n",
      "    validate_parameter_constraints(\n",
      "  File \"/Users/thomastseng/Documents/Pioneer Computational Medicine/Classifiers/venv/lib/python3.9/site-packages/sklearn/utils/_param_validation.py\", line 95, in validate_parameter_constraints\n",
      "    raise InvalidParameterError(\n",
      "sklearn.utils._param_validation.InvalidParameterError: The 'max_features' parameter of RandomForestClassifier must be an int in the range [1, inf), a float in the range (0.0, 1.0], a str among {'sqrt', 'log2'} or None. Got 'auto' instead.\n",
      "\n",
      "--------------------------------------------------------------------------------\n",
      "21 fits failed with the following error:\n",
      "Traceback (most recent call last):\n",
      "  File \"/Users/thomastseng/Documents/Pioneer Computational Medicine/Classifiers/venv/lib/python3.9/site-packages/sklearn/model_selection/_validation.py\", line 732, in _fit_and_score\n",
      "    estimator.fit(X_train, y_train, **fit_params)\n",
      "  File \"/Users/thomastseng/Documents/Pioneer Computational Medicine/Classifiers/venv/lib/python3.9/site-packages/sklearn/base.py\", line 1151, in wrapper\n",
      "    return fit_method(estimator, *args, **kwargs)\n",
      "  File \"/Users/thomastseng/Documents/Pioneer Computational Medicine/Classifiers/venv/lib/python3.9/site-packages/sklearn/pipeline.py\", line 420, in fit\n",
      "    self._final_estimator.fit(Xt, y, **fit_params_last_step)\n",
      "  File \"/Users/thomastseng/Documents/Pioneer Computational Medicine/Classifiers/venv/lib/python3.9/site-packages/sklearn/base.py\", line 1144, in wrapper\n",
      "    estimator._validate_params()\n",
      "  File \"/Users/thomastseng/Documents/Pioneer Computational Medicine/Classifiers/venv/lib/python3.9/site-packages/sklearn/base.py\", line 637, in _validate_params\n",
      "    validate_parameter_constraints(\n",
      "  File \"/Users/thomastseng/Documents/Pioneer Computational Medicine/Classifiers/venv/lib/python3.9/site-packages/sklearn/utils/_param_validation.py\", line 95, in validate_parameter_constraints\n",
      "    raise InvalidParameterError(\n",
      "sklearn.utils._param_validation.InvalidParameterError: The 'max_features' parameter of RandomForestClassifier must be an int in the range [1, inf), a float in the range (0.0, 1.0], a str among {'log2', 'sqrt'} or None. Got 'auto' instead.\n",
      "\n",
      "  warnings.warn(some_fits_failed_message, FitFailedWarning)\n",
      "/Users/thomastseng/Documents/Pioneer Computational Medicine/Classifiers/venv/lib/python3.9/site-packages/sklearn/model_selection/_search.py:976: UserWarning: One or more of the test scores are non-finite: [       nan        nan 0.97220459 0.9717415  0.9613187  0.96100982\n",
      "        nan        nan 0.97143262 0.970429   0.96147302 0.96108674]\n",
      "  warnings.warn(\n"
     ]
    }
   ],
   "source": [
    "rf_grid_search_normal = random_forest(x_train_normal, y_train_normal, feature_selection_num)"
   ]
  },
  {
   "cell_type": "code",
   "execution_count": 375,
   "metadata": {
    "collapsed": false
   },
   "outputs": [
    {
     "name": "stdout",
     "output_type": "stream",
     "text": [
      "Training Accuracy: 0.9722045855379188\n",
      "Best Parameters: {'estimator__criterion': 'gini', 'estimator__max_features': 'sqrt', 'estimator__n_estimators': 100, 'skb__k': 500}\n",
      "Testing Accuracy: 0.9706609017912291\n",
      "Confusion Matrix:\n",
      "[[1161   93]\n",
      " [   2 1982]]\n",
      "['hsa-miR-663a', 'hsa-miR-1307-3p', 'hsa-miR-4730', 'hsa-miR-6784-5p', 'hsa-miR-3184-5p', 'hsa-miR-320a', 'hsa-miR-548ah-5p', 'hsa-miR-1228-5p', 'hsa-miR-376c-5p', 'hsa-miR-3940-5p', 'hsa-miR-1233-5p', 'hsa-miR-1469', 'hsa-miR-3686', 'hsa-miR-1258', 'hsa-miR-3672', 'hsa-miR-4783-3p', 'hsa-miR-3923', 'hsa-miR-561-5p', 'hsa-miR-3115', 'hsa-miR-4477b', 'hsa-miR-320b', 'hsa-miR-513c-3p', 'hsa-miR-4782-5p', 'hsa-miR-548au-5p', 'hsa-miR-548i', 'hsa-miR-1290', 'hsa-miR-6802-5p', 'hsa-miR-8073', 'hsa-miR-1203', 'hsa-miR-5100', 'hsa-miR-620', 'hsa-miR-3683', 'hsa-miR-4464', 'hsa-miR-4678', 'hsa-miR-1262', 'hsa-miR-548aw', 'hsa-miR-1537-5p', 'hsa-miR-8061', 'hsa-miR-4696', 'hsa-miR-548av-5p', 'hsa-miR-1277-3p', 'hsa-miR-3924', 'hsa-miR-5579-3p', 'hsa-miR-8076', 'hsa-miR-3912-3p', 'hsa-miR-606', 'hsa-miR-6888-3p', 'hsa-miR-17-3p', 'hsa-miR-6781-5p', 'hsa-miR-6800-5p', 'hsa-miR-575', 'hsa-miR-4787-3p', 'hsa-miR-4758-5p', 'hsa-miR-4258', 'hsa-miR-6088', 'hsa-miR-4697-5p', 'hsa-miR-642b-3p', 'hsa-miR-125a-3p', 'hsa-miR-1343-3p', 'hsa-miR-4532', 'hsa-miR-6765-5p', 'hsa-miR-4648', 'hsa-miR-663b', 'hsa-miR-6825-5p', 'hsa-miR-6756-5p', 'hsa-miR-4417', 'hsa-miR-29b-1-5p', 'hsa-miR-4675', 'hsa-miR-6821-5p', 'hsa-miR-1268a', 'hsa-miR-373-5p', 'hsa-miR-451a', 'hsa-miR-8059', 'hsa-miR-6787-5p', 'hsa-miR-23b-3p', 'hsa-miR-5001-5p', 'hsa-miR-6729-5p', 'hsa-miR-6805-5p', 'hsa-miR-92a-2-5p', 'hsa-miR-3674', 'hsa-miR-92b-5p', 'hsa-miR-6789-5p', 'hsa-miR-3663-3p', 'hsa-miR-1343-5p', 'hsa-miR-1238-5p', 'hsa-miR-320c', 'hsa-miR-6875-5p', 'hsa-miR-1246', 'hsa-miR-8069', 'hsa-miR-4687-5p', 'hsa-miR-6861-5p', 'hsa-miR-29b-3p', 'hsa-miR-4706', 'hsa-miR-1268b', 'hsa-miR-4798-5p', 'hsa-miR-4649-5p', 'hsa-miR-561-3p', 'hsa-miR-6512-5p', 'hsa-miR-4429', 'hsa-miR-4690-5p']\n",
      "[0.06694536972000545, 0.054429998230742106, 0.044207257896069, 0.04155603147723941, 0.04014374255638979, 0.03438619699108284, 0.03260850679273214, 0.031132560516752998, 0.025204949492430427, 0.024949504467941645, 0.0229959429897757, 0.0222339112391264, 0.01916717605670098, 0.018791908089504948, 0.018514035979851063, 0.018072096148888505, 0.012791384355858115, 0.012708113504385436, 0.012702676248193883, 0.012695442440394116, 0.012641988737236707, 0.012602172452918973, 0.012591614920496081, 0.012521384856745603, 0.012342467338736203, 0.011615481238572124, 0.011081385990149482, 0.010595517242922277, 0.010048846645120492, 0.009485292274042626, 0.008257574551923804, 0.0076721022849556356, 0.00728991683325686, 0.007149702259646321, 0.0065150182168002176, 0.006453336956988654, 0.006404247565226985, 0.006386455713812292, 0.006353454698097081, 0.006352309541182053, 0.006303520138849847, 0.006274484845280506, 0.006258208290702406, 0.0062123968286171396, 0.006159245954591285, 0.006090155179962047, 0.005834417941250107, 0.005511918275895517, 0.004456778703932489, 0.0041475464643519, 0.004107291131507305, 0.0036075128471261893, 0.003516738918410419, 0.0033632388320695007, 0.0028102904128197775, 0.002709737524956786, 0.0026877601208720498, 0.002464701617822129, 0.002445282235897542, 0.0022292294859719264, 0.002183436911488543, 0.0019950706141416237, 0.0019900574806040986, 0.001837738262780156, 0.0017241024251842335, 0.001652237182952038, 0.0016433756447771669, 0.0016195305941275565, 0.0015571856542978446, 0.001531737926410626, 0.0015216413448775248, 0.0014368665603368214, 0.0014291181855642316, 0.0014234053989286533, 0.001374602603123303, 0.001304867799087102, 0.001259042399730554, 0.0012537888582739418, 0.0012298618691093926, 0.0011981380543380406, 0.0011964341229074831, 0.0011792157962619322, 0.0011655206535849168, 0.0011377718599768728, 0.0011240819966247537, 0.001111379070574889, 0.0010907157719151602, 0.0010844758822297343, 0.001082603027893756, 0.0010559095280218535, 0.001039070180390997, 0.0010330675385700316, 0.0010199668620838468, 0.0010084819095769568, 0.0009974704937014702, 0.0009727803252899567, 0.0009276125687733938, 0.0009242146871554685, 0.0009183230118774659, 0.0009088417832238651]\n"
     ]
    }
   ],
   "source": [
    "get_rf_metrics(rf_grid_search_normal, x_test_normal, y_test_normal)\n",
    "rf_top_importance_normal, rf_top_features_normal = get_top_rf_features(rf_grid_search_normal, feature_names_normal, feature_importance_num)\n",
    "print(rf_top_features_normal)\n",
    "print(rf_top_importance_normal)"
   ]
  },
  {
   "cell_type": "code",
   "execution_count": 376,
   "metadata": {
    "collapsed": false
   },
   "outputs": [
    {
     "name": "stderr",
     "output_type": "stream",
     "text": [
      "/Users/thomastseng/Documents/Pioneer Computational Medicine/Classifiers/venv/lib/python3.9/site-packages/joblib/externals/loky/process_executor.py:752: UserWarning: A worker stopped while some jobs were given to the executor. This can be caused by a too short worker timeout or by a memory leak.\n",
      "  warnings.warn(\n"
     ]
    }
   ],
   "source": [
    "gb_grid_search_normal = gradient_boosting(x_train_normal, y_train_normal, feature_selection_num)"
   ]
  },
  {
   "cell_type": "code",
   "execution_count": 377,
   "metadata": {
    "collapsed": false
   },
   "outputs": [
    {
     "name": "stdout",
     "output_type": "stream",
     "text": [
      "Training Accuracy: 0.9769148314981649\n",
      "Best Parameters: {'estimator__learning_rate': 0.5, 'estimator__n_estimators': 50, 'skb__k': 500}\n",
      "Testing Accuracy: 0.9756022235948116\n",
      "Confusion Matrix:\n",
      "[[1197   57]\n",
      " [  22 1962]]\n",
      "['hsa-miR-663a', 'hsa-miR-3184-5p', 'hsa-miR-5100', 'hsa-miR-1228-5p', 'hsa-miR-6729-5p', 'hsa-miR-4787-3p', 'hsa-miR-6784-5p', 'hsa-miR-4532', 'hsa-miR-29b-1-5p', 'hsa-miR-29b-3p', 'hsa-miR-4730', 'hsa-miR-4697-5p', 'hsa-miR-1203', 'hsa-miR-6756-5p', 'hsa-miR-1290', 'hsa-miR-8073', 'hsa-miR-320a', 'hsa-miR-4783-3p', 'hsa-miR-320b', 'hsa-miR-6885-5p', 'hsa-miR-4258', 'hsa-miR-17-3p', 'hsa-miR-575', 'hsa-miR-4505', 'hsa-miR-6090', 'hsa-miR-6875-5p', 'hsa-miR-6821-5p', 'hsa-miR-4677-3p', 'hsa-miR-4675', 'hsa-miR-7977', 'hsa-miR-6798-5p', 'hsa-miR-4718', 'hsa-miR-1307-3p', 'hsa-miR-5706', 'hsa-miR-1343-5p', 'hsa-miR-3119', 'hsa-miR-6079', 'hsa-miR-151b', 'hsa-miR-4417', 'hsa-miR-4429', 'hsa-miR-548aw', 'hsa-miR-4740-5p', 'hsa-miR-4696', 'hsa-miR-8059', 'hsa-miR-4525', 'hsa-miR-374a-3p', 'hsa-miR-4693-5p', 'hsa-miR-3201', 'hsa-miR-5692a', 'hsa-miR-6765-3p', 'hsa-miR-342-5p', 'hsa-miR-642b-3p', 'hsa-miR-1238-5p', 'hsa-miR-576-3p', 'hsa-miR-4480', 'hsa-miR-663b', 'hsa-miR-3684', 'hsa-miR-3609', 'hsa-miR-6765-5p', 'hsa-miR-573', 'hsa-miR-4678', 'hsa-miR-6786-5p', 'hsa-miR-5002-5p', 'hsa-miR-1469', 'hsa-miR-4720-3p', 'hsa-miR-5582-5p', 'hsa-miR-548au-5p', 'hsa-miR-4690-5p', 'hsa-miR-4457', 'hsa-miR-128-2-5p', 'hsa-miR-8069', 'hsa-miR-5586-5p', 'hsa-miR-6766-5p', 'hsa-miR-6739-5p', 'hsa-miR-6800-5p', 'hsa-miR-5692b', 'hsa-miR-1252-5p', 'hsa-miR-653-5p', 'hsa-miR-4481', 'hsa-miR-3664-3p', 'hsa-miR-548d-5p', 'hsa-miR-4423-5p', 'hsa-miR-4530', 'hsa-miR-4536-5p', 'hsa-miR-4798-5p', 'hsa-miR-2115-3p', 'hsa-miR-1245b-5p', 'hsa-miR-6757-5p', 'hsa-miR-3117-3p', 'hsa-miR-3671', 'hsa-miR-1233-5p', 'hsa-miR-548ae-3p', 'hsa-miR-2467-3p', 'hsa-miR-132-5p', 'hsa-miR-92a-2-5p', 'hsa-miR-1827', 'hsa-miR-6789-5p', 'hsa-miR-4536-3p', 'hsa-miR-373-5p', 'hsa-miR-4687-5p']\n",
      "[0.6339391962767478, 0.1585031523475448, 0.0623091925024796, 0.03597431133598431, 0.027220446461630368, 0.01131881149773045, 0.008183711511745314, 0.006766588195527862, 0.005929722136695648, 0.004806114975507332, 0.003475456662885304, 0.003304940264233471, 0.003178215688296087, 0.001979162081316338, 0.0019751545014915577, 0.0014717952942815634, 0.0011652506401480772, 0.001122145072569794, 0.0010832140252608374, 0.0009631425515797874, 0.0009229138993065841, 0.0008902353576155665, 0.0008693785201564452, 0.000848852756643968, 0.0006497856375984928, 0.0005879467082593573, 0.0005851251704621519, 0.0005601564258976899, 0.0005514709056500889, 0.0005309570477716016, 0.000494314386978546, 0.00047494113822999184, 0.00045823263624930984, 0.000455466122821903, 0.0004216652068548086, 0.00040059791105903175, 0.00039836558754782606, 0.00038443894771824255, 0.00036431983665403354, 0.00035954314384011276, 0.00034162543106797, 0.00031790692531422337, 0.0003119392953432402, 0.0003024438697166798, 0.0002894904950769761, 0.00028004583422713136, 0.0002741376388147789, 0.00027333527659407765, 0.0002670207624883916, 0.0002502301271227418, 0.00024372265534393695, 0.00024032715345553913, 0.00023981685999060698, 0.00023616597924982374, 0.00023597129010300295, 0.00022980394606726424, 0.00022979816591837965, 0.0002277006736072099, 0.00021663705214155073, 0.00021308408886145356, 0.0001942339236513727, 0.00019413192777260958, 0.0001936223716532406, 0.00019356674168734915, 0.0001861219865571454, 0.00018410224746043017, 0.00017878521295588013, 0.00017683963291244623, 0.00017516385059987536, 0.00016900920858771928, 0.0001659645530193429, 0.00016475193705332877, 0.00015844058030804108, 0.000157345092712504, 0.00015543358869290767, 0.00015382256248360526, 0.00015068674271690846, 0.00014260452874125415, 0.00014245707331553536, 0.00014239749424185572, 0.00014216043481305232, 0.00013560864908597814, 0.00013422079815497627, 0.00013384259470291217, 0.00012944152929950884, 0.00012821492953372072, 0.00012395268750985805, 0.00011965013994731305, 0.0001183176063546866, 0.00011553484730458352, 0.00011527743317582065, 0.00011372170489983561, 0.00011243380071613155, 0.00011149509238159294, 0.00011115877902263172, 0.00011050891572291177, 0.00010966304817293085, 0.00010943181443205671, 0.00010861379927841118, 0.00010701734263314928]\n"
     ]
    }
   ],
   "source": [
    "get_gb_metrics(gb_grid_search_normal, x_test_normal, y_test_normal)\n",
    "gb_top_importance_normal, gb_top_features_normal = get_top_gb_features(gb_grid_search_normal, feature_names_normal, feature_importance_num)\n",
    "print(gb_top_features_normal)\n",
    "print(gb_top_importance_normal)"
   ]
  },
  {
   "cell_type": "markdown",
   "metadata": {
    "collapsed": false
   },
   "source": [
    "Lung Cancer Dataset"
   ]
  },
  {
   "cell_type": "code",
   "execution_count": 378,
   "metadata": {
    "collapsed": false
   },
   "outputs": [
    {
     "name": "stdout",
     "output_type": "stream",
     "text": [
      "      ID_REF  hsa-miR-28-3p  hsa-miR-27a-5p  hsa-miR-518b  hsa-miR-520b  \\\n",
      "6570       1      -0.912744       -0.912744     -0.912744     -0.912744   \n",
      "6571       1       5.943489        6.645981      5.537396      4.770859   \n",
      "6572       1       4.266132        4.008883      4.540517     -0.268746   \n",
      "6573       1      -1.140124        2.646410      2.768230      2.434285   \n",
      "6574       1       0.292553        0.292553      2.881859      0.292553   \n",
      "...      ...            ...             ...           ...           ...   \n",
      "13907      0       0.592899        1.892105      3.260905     -3.842394   \n",
      "13908      0      -3.083570       -3.083570      3.472014     -3.083570   \n",
      "13909      0       2.879964       -1.514097      2.997163      0.251458   \n",
      "13910      0       5.509703        5.171011      5.667294      5.430266   \n",
      "13911      0       1.268251        1.757426      2.885682      0.769274   \n",
      "\n",
      "       hsa-miR-498  hsa-miR-512-3p  hsa-miR-491-5p  hsa-miR-490-3p  \\\n",
      "6570      6.620132        3.672013        5.130115       -0.280814   \n",
      "6571      8.277453        5.537324        7.040124        5.427215   \n",
      "6572      6.219391        1.333790        5.989342        4.487161   \n",
      "6573      6.556333        2.471712        4.886814        3.377172   \n",
      "6574      6.966754        1.351936        6.310744        5.228047   \n",
      "...            ...             ...             ...             ...   \n",
      "13907     5.868596       -3.842394        5.161757       -3.842394   \n",
      "13908     5.905747       -3.083570        4.773464        3.247927   \n",
      "13909     5.830306       -3.344919        5.162542        0.398821   \n",
      "13910     7.236555        4.749136        5.961610        3.863007   \n",
      "13911     5.909395       -3.788979        5.503361       -0.025842   \n",
      "\n",
      "       hsa-miR-452-5p  ...  hsa-miR-3606-3p  hsa-miR-1292-3p  hsa-miR-6889-5p  \\\n",
      "6570         4.035262  ...        -0.912744         6.737025         6.985511   \n",
      "6571         5.767290  ...         0.960404         6.382900         6.254913   \n",
      "6572         4.951439  ...        -0.268746         6.440614         6.416580   \n",
      "6573         2.949081  ...        -1.140124         6.608921         7.178133   \n",
      "6574         0.292553  ...         0.292553         5.528442         6.349404   \n",
      "...               ...  ...              ...              ...              ...   \n",
      "13907       -3.842394  ...        -3.842394         6.055057         7.798467   \n",
      "13908        1.198162  ...        -1.265693         6.186589         7.918535   \n",
      "13909        0.531774  ...        -3.344919         5.878323         7.815609   \n",
      "13910        5.411878  ...         3.214208         6.379295         7.753541   \n",
      "13911        2.251453  ...        -3.788979         5.980410         7.652320   \n",
      "\n",
      "       hsa-miR-6888-3p  hsa-miR-6881-5p  hsa-miR-6880-3p  hsa-miR-6873-5p  \\\n",
      "6570         -0.912744         4.670810         6.797179         4.250507   \n",
      "6571          0.960404         5.407718         7.516919         5.039113   \n",
      "6572         -0.268746         5.004609         6.066006         4.877103   \n",
      "6573         -1.140124         3.331112         6.742595         2.684741   \n",
      "6574          0.292553         3.059346         6.419885         0.292553   \n",
      "...                ...              ...              ...              ...   \n",
      "13907         1.405746         3.795538         5.653172         2.498613   \n",
      "13908        -3.083570         2.572881         6.103118         3.644780   \n",
      "13909         0.797597         4.202868         5.847679         2.708290   \n",
      "13910         1.168435         4.764303         6.175341         3.857706   \n",
      "13911        -3.788979         2.716123         5.419018        -3.788979   \n",
      "\n",
      "       hsa-miR-6872-3p  hsa-miR-6865-5p  hsa-miR-6864-3p  \n",
      "6570          6.063138         5.703317         3.949184  \n",
      "6571          6.491606         4.939808         6.158340  \n",
      "6572          6.058996         6.136003        -0.268746  \n",
      "6573          6.238529         5.440926        -1.140124  \n",
      "6574          5.921588         6.225856         0.292553  \n",
      "...                ...              ...              ...  \n",
      "13907         4.898061         5.043195         1.735376  \n",
      "13908         5.302575         5.025940         2.359107  \n",
      "13909         5.078516         5.457819         2.076122  \n",
      "13910         5.624447         5.758936         3.766518  \n",
      "13911         5.290055         4.969782         0.750173  \n",
      "\n",
      "[7342 rows x 2566 columns] \n",
      "\n",
      "Lung Cancer Sample Number: 1699\n",
      "Non-Cancer Sample Number: 5643\n",
      "All Sample Number: 7342\n"
     ]
    }
   ],
   "source": [
    "lung_cancer_dataset = dataset.copy()\n",
    "\n",
    "lung_cancer_dataset.loc[lung_cancer_dataset[\"ID_REF\"] == \"Lung Cancer\", \"ID_REF\"] = 1\n",
    "lung_cancer_dataset.loc[lung_cancer_dataset[\"ID_REF\"] == \"No Cancer\", \"ID_REF\"] = 0\n",
    "lung_cancer_dataset = lung_cancer_dataset[(lung_cancer_dataset[\"ID_REF\"] == 0) | (lung_cancer_dataset[\"ID_REF\"] == 1)]\n",
    "\n",
    "print(lung_cancer_dataset, \"\\n\")\n",
    "print(\"Lung Cancer Sample Number:\", lung_cancer_dataset[\"ID_REF\"].value_counts()[1])\n",
    "print(\"Non-Cancer Sample Number:\", lung_cancer_dataset[\"ID_REF\"].value_counts()[0])\n",
    "print(\"All Sample Number:\", lung_cancer_dataset[\"ID_REF\"].value_counts()[1] + lung_cancer_dataset[\"ID_REF\"].value_counts()[0])\n",
    "\n",
    "x_train_lung, y_train_lung, x_test_lung, y_test_lung, feature_names_lung = process_data(lung_cancer_dataset)"
   ]
  },
  {
   "cell_type": "code",
   "execution_count": 379,
   "metadata": {
    "collapsed": false
   },
   "outputs": [],
   "source": [
    "svm_grid_search_lung = support_vector_machine(x_train_lung, y_train_lung, feature_selection_num)"
   ]
  },
  {
   "cell_type": "code",
   "execution_count": 380,
   "metadata": {
    "collapsed": false
   },
   "outputs": [
    {
     "name": "stdout",
     "output_type": "stream",
     "text": [
      "Training Accuracy: 0.999488926746167\n",
      "Best Parameters: {'estimator__C': 0.25, 'estimator__kernel': 'linear', 'skb__k': 500}\n",
      "Testing Accuracy: 1.0\n",
      "Confusion Matrix:\n",
      "[[1129    0]\n",
      " [   0  340]]\n",
      "['hsa-miR-125a-3p', 'hsa-miR-4783-3p', 'hsa-miR-4730', 'hsa-miR-4648', 'hsa-miR-1587', 'hsa-miR-1307-3p', 'hsa-miR-744-5p', 'hsa-miR-4787-3p', 'hsa-miR-3184-5p', 'hsa-miR-1203', 'hsa-miR-663a', 'hsa-miR-6875-5p', 'hsa-miR-1246', 'hsa-miR-575', 'hsa-miR-6784-5p', 'hsa-miR-1469', 'hsa-miR-4258', 'hsa-miR-6857-5p', 'hsa-miR-3927-3p', 'hsa-miR-4481', 'hsa-miR-7110-5p', 'hsa-miR-151b', 'hsa-miR-6869-5p', 'hsa-miR-642b-3p', 'hsa-miR-4744', 'hsa-miR-92a-2-5p', 'hsa-miR-128-1-5p', 'hsa-miR-3940-5p', 'hsa-miR-1343-3p', 'hsa-miR-92b-5p', 'hsa-miR-4532', 'hsa-miR-4666a-5p', 'hsa-miR-6825-5p', 'hsa-miR-8069', 'hsa-miR-6765-5p', 'hsa-miR-6802-5p', 'hsa-miR-6746-5p', 'hsa-miR-6501-3p', 'hsa-miR-3135b', 'hsa-miR-4757-5p', 'hsa-miR-1228-5p', 'hsa-miR-1268b', 'hsa-miR-3160-5p', 'hsa-miR-4635', 'hsa-miR-1914-5p', 'hsa-miR-6800-5p', 'hsa-miR-3117-5p', 'hsa-miR-6729-5p', 'hsa-miR-6781-5p', 'hsa-miR-140-3p', 'hsa-miR-4434', 'hsa-miR-885-3p', 'hsa-miR-6838-3p', 'hsa-miR-331-5p', 'hsa-miR-320e', 'hsa-miR-4783-5p', 'hsa-miR-6786-5p', 'hsa-miR-1273g-3p', 'hsa-miR-4513', 'hsa-miR-92b-3p', 'hsa-miR-668-5p', 'hsa-miR-5001-5p', 'hsa-miR-4690-5p', 'hsa-miR-191-5p', 'hsa-miR-887-3p', 'hsa-miR-4736', 'hsa-miR-371a-5p', 'hsa-miR-3121-5p', 'hsa-miR-654-5p', 'hsa-miR-6088', 'hsa-miR-1268a', 'hsa-miR-3925-3p', 'hsa-miR-4778-5p', 'hsa-miR-4666b', 'hsa-miR-4711-5p', 'hsa-miR-8071', 'hsa-miR-151a-5p', 'hsa-miR-4461', 'hsa-miR-17-3p', 'hsa-miR-1260b', 'hsa-miR-3163', 'hsa-miR-1290', 'hsa-miR-548ba', 'hsa-miR-6720-3p', 'hsa-miR-1247-3p', 'hsa-let-7a-5p', 'hsa-miR-920', 'hsa-miR-940', 'hsa-miR-4777-3p', 'hsa-miR-4417', 'hsa-miR-4457', 'hsa-miR-5579-5p', 'hsa-miR-3620-5p', 'hsa-miR-4515', 'hsa-miR-211-3p', 'hsa-miR-342-5p', 'hsa-miR-376c-5p', 'hsa-miR-4650-3p', 'hsa-miR-4707-5p', 'hsa-miR-23b-3p']\n",
      "[0.052401308852666445, 0.05057861433423511, 0.05029647865129384, 0.03800264022286492, 0.035311722780571146, 0.03523908415029632, 0.03352230298668959, 0.03219878012532007, 0.03107581737551325, 0.030684387690985224, 0.030323635230662338, 0.029516631068978547, 0.028852522137201762, 0.028713424150704037, 0.0271786294337399, 0.02499021740084642, 0.02497168604033804, 0.024921792343000886, 0.024488310902305726, 0.02431235054190415, 0.023872165598985452, 0.023194228839993686, 0.022200790487908864, 0.021507104136945166, 0.02142733511612395, 0.021282237980501485, 0.021267608108409997, 0.02115328561935632, 0.02076372440930106, 0.020129579727840224, 0.01985399755650446, 0.01961759662234886, 0.019552222217856983, 0.019544119939061255, 0.01898648142934614, 0.01884832813221412, 0.018828527571348966, 0.01873787602441652, 0.017894633897897087, 0.017563357353284563, 0.017489164679924243, 0.017383552914578604, 0.016689280051269503, 0.016252312849929604, 0.01624959150179328, 0.016150685214149762, 0.016138608760638395, 0.015978854148544233, 0.015916848873770068, 0.01590250231413971, 0.015361588413004567, 0.014981658751207494, 0.014891134803982171, 0.014885858546149563, 0.01440763170840752, 0.014159124699554966, 0.014127330794266499, 0.014071170907728157, 0.013994223464199651, 0.01385802571539659, 0.013828166501582652, 0.013813534251215225, 0.013633545235267136, 0.013383065883676546, 0.01338291319674924, 0.012929094174805027, 0.012929008816505345, 0.012687966102918837, 0.012682871593556992, 0.012566993713670848, 0.012457134097308177, 0.012456789205492895, 0.012286415842261986, 0.012105018758780695, 0.011758132739481566, 0.011674961137622864, 0.011616934524706156, 0.011588114230707566, 0.011500592774980372, 0.011450196832325675, 0.01140481267439908, 0.011315694650856021, 0.011194119016959948, 0.011128326638879894, 0.011037510795835957, 0.010913302643154705, 0.010870950189144576, 0.010870027873539433, 0.01079131569355041, 0.010698995729606801, 0.010598722059057732, 0.010530361196317157, 0.010263269753645094, 0.010236527658238816, 0.010227642894477407, 0.010215763804594515, 0.010205201085459506, 0.010164909971991567, 0.010116237061762639, 0.010112119066695504]\n"
     ]
    }
   ],
   "source": [
    "get_svm_metrics(svm_grid_search_lung, x_test_lung, y_test_lung)\n",
    "svm_top_coef_lung, svm_top_features_lung = get_top_svm_features(svm_grid_search_lung, feature_names_lung, feature_importance_num)\n",
    "print(svm_top_features_lung)\n",
    "print(svm_top_coef_lung)"
   ]
  },
  {
   "cell_type": "code",
   "execution_count": 381,
   "metadata": {
    "collapsed": false
   },
   "outputs": [
    {
     "name": "stderr",
     "output_type": "stream",
     "text": [
      "/Users/thomastseng/Documents/Pioneer Computational Medicine/Classifiers/venv/lib/python3.9/site-packages/joblib/externals/loky/process_executor.py:752: UserWarning: A worker stopped while some jobs were given to the executor. This can be caused by a too short worker timeout or by a memory leak.\n",
      "  warnings.warn(\n",
      "/Users/thomastseng/Documents/Pioneer Computational Medicine/Classifiers/venv/lib/python3.9/site-packages/sklearn/model_selection/_validation.py:425: FitFailedWarning: \n",
      "40 fits failed out of a total of 120.\n",
      "The score on these train-test partitions for these parameters will be set to nan.\n",
      "If these failures are not expected, you can try to debug them by setting error_score='raise'.\n",
      "\n",
      "Below are more details about the failures:\n",
      "--------------------------------------------------------------------------------\n",
      "25 fits failed with the following error:\n",
      "Traceback (most recent call last):\n",
      "  File \"/Users/thomastseng/Documents/Pioneer Computational Medicine/Classifiers/venv/lib/python3.9/site-packages/sklearn/model_selection/_validation.py\", line 732, in _fit_and_score\n",
      "    estimator.fit(X_train, y_train, **fit_params)\n",
      "  File \"/Users/thomastseng/Documents/Pioneer Computational Medicine/Classifiers/venv/lib/python3.9/site-packages/sklearn/base.py\", line 1151, in wrapper\n",
      "    return fit_method(estimator, *args, **kwargs)\n",
      "  File \"/Users/thomastseng/Documents/Pioneer Computational Medicine/Classifiers/venv/lib/python3.9/site-packages/sklearn/pipeline.py\", line 420, in fit\n",
      "    self._final_estimator.fit(Xt, y, **fit_params_last_step)\n",
      "  File \"/Users/thomastseng/Documents/Pioneer Computational Medicine/Classifiers/venv/lib/python3.9/site-packages/sklearn/base.py\", line 1144, in wrapper\n",
      "    estimator._validate_params()\n",
      "  File \"/Users/thomastseng/Documents/Pioneer Computational Medicine/Classifiers/venv/lib/python3.9/site-packages/sklearn/base.py\", line 637, in _validate_params\n",
      "    validate_parameter_constraints(\n",
      "  File \"/Users/thomastseng/Documents/Pioneer Computational Medicine/Classifiers/venv/lib/python3.9/site-packages/sklearn/utils/_param_validation.py\", line 95, in validate_parameter_constraints\n",
      "    raise InvalidParameterError(\n",
      "sklearn.utils._param_validation.InvalidParameterError: The 'max_features' parameter of RandomForestClassifier must be an int in the range [1, inf), a float in the range (0.0, 1.0], a str among {'log2', 'sqrt'} or None. Got 'auto' instead.\n",
      "\n",
      "--------------------------------------------------------------------------------\n",
      "15 fits failed with the following error:\n",
      "Traceback (most recent call last):\n",
      "  File \"/Users/thomastseng/Documents/Pioneer Computational Medicine/Classifiers/venv/lib/python3.9/site-packages/sklearn/model_selection/_validation.py\", line 732, in _fit_and_score\n",
      "    estimator.fit(X_train, y_train, **fit_params)\n",
      "  File \"/Users/thomastseng/Documents/Pioneer Computational Medicine/Classifiers/venv/lib/python3.9/site-packages/sklearn/base.py\", line 1151, in wrapper\n",
      "    return fit_method(estimator, *args, **kwargs)\n",
      "  File \"/Users/thomastseng/Documents/Pioneer Computational Medicine/Classifiers/venv/lib/python3.9/site-packages/sklearn/pipeline.py\", line 420, in fit\n",
      "    self._final_estimator.fit(Xt, y, **fit_params_last_step)\n",
      "  File \"/Users/thomastseng/Documents/Pioneer Computational Medicine/Classifiers/venv/lib/python3.9/site-packages/sklearn/base.py\", line 1144, in wrapper\n",
      "    estimator._validate_params()\n",
      "  File \"/Users/thomastseng/Documents/Pioneer Computational Medicine/Classifiers/venv/lib/python3.9/site-packages/sklearn/base.py\", line 637, in _validate_params\n",
      "    validate_parameter_constraints(\n",
      "  File \"/Users/thomastseng/Documents/Pioneer Computational Medicine/Classifiers/venv/lib/python3.9/site-packages/sklearn/utils/_param_validation.py\", line 95, in validate_parameter_constraints\n",
      "    raise InvalidParameterError(\n",
      "sklearn.utils._param_validation.InvalidParameterError: The 'max_features' parameter of RandomForestClassifier must be an int in the range [1, inf), a float in the range (0.0, 1.0], a str among {'sqrt', 'log2'} or None. Got 'auto' instead.\n",
      "\n",
      "  warnings.warn(some_fits_failed_message, FitFailedWarning)\n",
      "/Users/thomastseng/Documents/Pioneer Computational Medicine/Classifiers/venv/lib/python3.9/site-packages/sklearn/model_selection/_search.py:976: UserWarning: One or more of the test scores are non-finite: [       nan        nan 0.99897814 0.99914821 0.99863743 0.99897785\n",
      "        nan        nan 0.99931857 0.99914821 0.99880779 0.99863743]\n",
      "  warnings.warn(\n"
     ]
    }
   ],
   "source": [
    "rf_grid_search_lung = random_forest(x_train_lung, y_train_lung, feature_selection_num)"
   ]
  },
  {
   "cell_type": "code",
   "execution_count": 382,
   "metadata": {
    "collapsed": false
   },
   "outputs": [
    {
     "name": "stdout",
     "output_type": "stream",
     "text": [
      "Training Accuracy: 0.9993185689948894\n",
      "Best Parameters: {'estimator__criterion': 'entropy', 'estimator__max_features': 'sqrt', 'estimator__n_estimators': 100, 'skb__k': 500}\n",
      "Testing Accuracy: 1.0\n",
      "Confusion Matrix:\n",
      "[[1129    0]\n",
      " [   0  340]]\n",
      "['hsa-miR-4783-3p', 'hsa-miR-663a', 'hsa-miR-1228-5p', 'hsa-miR-8073', 'hsa-miR-1307-3p', 'hsa-miR-3184-5p', 'hsa-miR-6802-5p', 'hsa-miR-4787-3p', 'hsa-miR-1290', 'hsa-miR-6765-5p', 'hsa-miR-5100', 'hsa-miR-3940-5p', 'hsa-miR-6131', 'hsa-miR-6784-5p', 'hsa-miR-320a', 'hsa-miR-4706', 'hsa-miR-6717-5p', 'hsa-miR-4429', 'hsa-miR-320b', 'hsa-miR-1343-3p', 'hsa-miR-1469', 'hsa-miR-4727-3p', 'hsa-miR-4732-5p', 'hsa-miR-4286', 'hsa-miR-4259', 'hsa-miR-4730', 'hsa-miR-6787-5p', 'hsa-miR-4258', 'hsa-miR-6825-5p', 'hsa-miR-1238-5p', 'hsa-miR-668-5p', 'hsa-miR-3658', 'hsa-miR-4532', 'hsa-miR-4687-5p', 'hsa-miR-17-3p', 'hsa-miR-4758-5p', 'hsa-miR-211-3p', 'hsa-miR-614', 'hsa-miR-4690-5p', 'hsa-miR-4771', 'hsa-miR-4635', 'hsa-miR-8059', 'hsa-miR-7975', 'hsa-miR-29b-3p', 'hsa-miR-6861-5p', 'hsa-miR-4708-3p', 'hsa-miR-1258', 'hsa-miR-620', 'hsa-miR-3611', 'hsa-miR-3613-5p', 'hsa-miR-6781-5p', 'hsa-miR-1268a', 'hsa-miR-663b', 'hsa-miR-1203', 'hsa-miR-539-3p', 'hsa-miR-1260b', 'hsa-miR-1914-5p', 'hsa-miR-7110-5p', 'hsa-miR-3156-5p', 'hsa-miR-8069', 'hsa-miR-885-3p', 'hsa-miR-191-5p', 'hsa-miR-561-5p', 'hsa-miR-6805-5p', 'hsa-miR-642b-3p', 'hsa-miR-4648', 'hsa-miR-6752-5p', 'hsa-miR-5001-5p', 'hsa-miR-6875-5p', 'hsa-miR-4255', 'hsa-miR-128-1-5p', 'hsa-miR-125a-3p', 'hsa-miR-3684', 'hsa-miR-575', 'hsa-miR-208a-3p', 'hsa-miR-6800-5p', 'hsa-miR-4675', 'hsa-miR-1246', 'hsa-miR-124-3p', 'hsa-miR-22-3p', 'hsa-miR-1587', 'hsa-miR-103a-3p', 'hsa-miR-4419b', 'hsa-miR-7977', 'hsa-miR-6798-5p', 'hsa-miR-4705', 'hsa-miR-92a-2-5p', 'hsa-miR-6786-5p', 'hsa-miR-4272', 'hsa-miR-875-5p', 'hsa-miR-4417', 'hsa-miR-6769a-5p', 'hsa-miR-451a', 'hsa-miR-1268b', 'hsa-miR-4782-5p', 'hsa-miR-1233-5p', 'hsa-miR-5579-5p', 'hsa-miR-7108-3p', 'hsa-miR-5579-3p', 'hsa-miR-6789-5p']\n",
      "[0.0722905464897296, 0.06744980073809312, 0.05473467854143793, 0.04245389136262798, 0.04092939882567515, 0.036410892278520006, 0.03605970219374792, 0.034777648028257134, 0.02980127836998173, 0.02909792470614365, 0.028769716766166797, 0.025521342550463386, 0.02323000904878259, 0.022294889918637695, 0.02221854455589392, 0.018158437643417413, 0.017269218959297946, 0.017155366687423325, 0.016332510101746654, 0.015213852044341185, 0.015144004844602377, 0.015124409388140445, 0.014968234808441222, 0.014241493976032074, 0.014166516464295604, 0.011558023099526941, 0.010562158692666579, 0.010540729039146683, 0.009733253910809972, 0.008687260405613753, 0.008275451795515795, 0.007963577851688958, 0.00782359228047623, 0.007597789576220752, 0.007569959736751814, 0.007379704686236031, 0.007096782703806108, 0.006984702061418594, 0.006907887241661545, 0.006770225661968062, 0.006765845118144855, 0.00670488484782134, 0.006702615738985829, 0.006688091707484359, 0.00661601601203547, 0.00653532532345144, 0.006292479835892255, 0.006234334301679712, 0.006132057869934926, 0.005820496574945019, 0.0038965581898717577, 0.0035585780702959233, 0.0030324999272776463, 0.00277584618333641, 0.002225246959163904, 0.001942894182063245, 0.0018483315499574027, 0.0018424661150542377, 0.0018372439151500856, 0.0015650659034195046, 0.0015323104215940108, 0.0015252286912535973, 0.0014882393813773044, 0.001457428388559117, 0.001394807540210891, 0.0013536433216716271, 0.0013264333768705833, 0.0013221926682550045, 0.0011159082403889686, 0.0011053549043039538, 0.0010876773590299778, 0.0010872910191470006, 0.00108250778455869, 0.0010715483445042097, 0.001070326112928498, 0.0010521805901241822, 0.001045680714588977, 0.0010086700812060893, 0.0008897058805639324, 0.0008686675357166572, 0.000831637776269074, 0.0008028555609315525, 0.000796034789585644, 0.0007759857744548141, 0.0007443681478466677, 0.0006697395516302282, 0.0006644338800409805, 0.0006624964113834828, 0.0006573116433219684, 0.0006516878178615648, 0.0006510870333846266, 0.0006266519960720715, 0.0006247162145451638, 0.0006182725961655585, 0.0006113800746323985, 0.0006033030864490481, 0.0005823617880582309, 0.000556569786716369, 0.0005164277708699485, 0.0005070273813194464]\n"
     ]
    }
   ],
   "source": [
    "get_rf_metrics(rf_grid_search_lung, x_test_lung, y_test_lung)\n",
    "rf_top_importance_lung, rf_top_features_lung = get_top_rf_features(rf_grid_search_lung, feature_names_lung, feature_importance_num)\n",
    "print(rf_top_features_lung)\n",
    "print(rf_top_importance_lung)"
   ]
  },
  {
   "cell_type": "code",
   "execution_count": 383,
   "metadata": {
    "collapsed": false
   },
   "outputs": [],
   "source": [
    "gb_grid_search_lung = gradient_boosting(x_train_lung, y_train_lung, feature_selection_num)"
   ]
  },
  {
   "cell_type": "code",
   "execution_count": 384,
   "metadata": {
    "collapsed": false
   },
   "outputs": [
    {
     "name": "stdout",
     "output_type": "stream",
     "text": [
      "Training Accuracy: 0.9991485009676783\n",
      "Best Parameters: {'estimator__learning_rate': 1, 'estimator__n_estimators': 50, 'skb__k': 500}\n",
      "Testing Accuracy: 1.0\n",
      "Confusion Matrix:\n",
      "[[1129    0]\n",
      " [   0  340]]\n",
      "['hsa-miR-1228-5p', 'hsa-miR-4783-3p', 'hsa-miR-663a', 'hsa-miR-1343-3p', 'hsa-miR-651-3p', 'hsa-miR-6816-5p', 'hsa-miR-4730', 'hsa-miR-2114-5p', 'hsa-miR-4635', 'hsa-miR-3663-3p', 'hsa-miR-4490', 'hsa-miR-6769a-5p', 'hsa-miR-6885-5p', 'hsa-miR-937-5p', 'hsa-miR-619-3p', 'hsa-miR-4787-3p', 'hsa-miR-4530', 'hsa-miR-4417', 'hsa-miR-8069', 'hsa-miR-6869-5p', 'hsa-miR-296-5p', 'hsa-miR-3135b', 'hsa-miR-4257', 'hsa-miR-4734', 'hsa-miR-3688-5p', 'hsa-miR-3184-5p', 'hsa-miR-4685-5p', 'hsa-miR-6075', 'hsa-miR-551b-5p', 'hsa-miR-6765-5p', 'hsa-miR-296-3p', 'hsa-miR-92b-5p', 'hsa-miR-4515', 'hsa-miR-6786-5p', 'hsa-miR-889-3p', 'hsa-miR-663b', 'hsa-miR-6781-5p', 'hsa-miR-4706', 'hsa-miR-4532', 'hsa-miR-6794-5p', 'hsa-miR-4757-5p', 'hsa-miR-548at-5p', 'hsa-miR-365a-5p', 'hsa-miR-7977', 'hsa-miR-1273g-3p', 'hsa-miR-5195-3p', 'hsa-miR-6800-5p', 'hsa-miR-548av-5p', 'hsa-miR-374b-3p', 'hsa-miR-1203', 'hsa-miR-1268b', 'hsa-miR-4426', 'hsa-miR-8073', 'hsa-miR-614', 'hsa-miR-4649-5p', 'hsa-miR-4799-3p', 'hsa-miR-3940-5p', 'hsa-miR-6729-5p', 'hsa-miR-371a-5p', 'hsa-miR-575', 'hsa-miR-6840-3p', 'hsa-miR-5692a', 'hsa-miR-6784-5p', 'hsa-miR-4294', 'hsa-miR-4255', 'hsa-miR-4447', 'hsa-miR-1262', 'hsa-miR-3143', 'hsa-miR-4650-3p', 'hsa-miR-6789-5p', 'hsa-miR-6739-5p', 'hsa-miR-7108-3p', 'hsa-miR-6511b-5p', 'hsa-miR-1246', 'hsa-miR-4783-5p', 'hsa-miR-1260a', 'hsa-miR-6826-5p', 'hsa-miR-208a-3p', 'hsa-miR-6877-5p', 'hsa-miR-548j-3p', 'hsa-miR-658', 'hsa-miR-3160-5p', 'hsa-miR-6501-3p', 'hsa-miR-920', 'hsa-miR-499b-5p', 'hsa-miR-4258', 'hsa-miR-548n', 'hsa-miR-4708-3p', 'hsa-miR-6749-5p', 'hsa-miR-744-5p', 'hsa-let-7c-5p', 'hsa-miR-6802-5p', 'hsa-miR-4525', 'hsa-miR-1258', 'hsa-miR-4529-5p', 'hsa-miR-302f', 'hsa-miR-320d', 'hsa-miR-1469', 'hsa-miR-514a-3p', 'hsa-miR-4460']\n",
      "[0.9665383702436524, 0.015326551287154256, 0.011451790171714826, 0.004294219066327324, 0.0008898404979943328, 0.00045025073117897313, 0.0004014998736619514, 0.0002901532970443595, 8.976822598245428e-05, 7.464164693852592e-05, 4.9436775682391784e-05, 3.2734050714024053e-05, 2.400555683341076e-05, 2.061910716272696e-05, 1.2389604062182273e-05, 8.099081354616377e-06, 7.2392686248753975e-06, 7.229631589105421e-06, 5.877115737758985e-06, 3.972030244309947e-06, 3.596918930794037e-06, 3.3950261730968685e-06, 2.875534719613137e-06, 2.6638658756651674e-06, 2.1815909629055867e-06, 1.6314855459753455e-06, 1.1982162689933422e-06, 1.0484813883815069e-06, 8.822342041571835e-07, 3.8023689323613984e-07, 3.4396266179286877e-07, 3.140323834602794e-07, 2.2529029004113022e-07, 2.0528407572386955e-07, 9.072021359449967e-08, 5.1294714827178606e-08, 4.60978482301807e-08, 3.641091651870411e-08, 2.7507046245235643e-08, 2.303933162867598e-08, 1.557463352259949e-08, 1.5131796193221887e-08, 1.3187903222592489e-08, 1.2483161239866822e-08, 1.0405929010676602e-08, 5.328657552015976e-09, 5.070730718433458e-09, 3.9088170186742236e-09, 3.455455001658232e-09, 2.301626100714298e-09, 2.2267521745492067e-09, 2.22328616071289e-09, 9.61619068028992e-10, 7.209577134121855e-10, 5.182651731183241e-10, 3.7419593361268907e-10, 3.429013526543813e-10, 3.1272668139749203e-10, 2.3455797756552666e-10, 2.0795859711703862e-10, 1.1240526488653179e-10, 7.510578937228478e-11, 6.90772596484546e-11, 5.5089455047472997e-11, 2.7005559806575467e-11, 2.6802075510339237e-11, 2.5919333038328653e-11, 2.397029413135281e-11, 2.198212287797103e-11, 2.000147088860532e-11, 1.5152175694504095e-11, 1.5101522124041515e-11, 9.228218636895909e-12, 8.139238065378873e-12, 6.732234919615378e-12, 4.406589106056632e-12, 3.946333961533444e-12, 3.501027443242098e-12, 2.8197752456839606e-12, 1.5334302095470244e-12, 1.512502704597712e-12, 1.189541416103923e-12, 8.832958732670145e-13, 5.642228226126936e-13, 5.466981831449611e-13, 2.9060497451401775e-13, 2.6296265095078417e-13, 1.4134343346401446e-13, 1.2581061449225978e-13, 9.097574841243354e-14, 7.588379385997591e-14, 6.547211631021667e-14, 6.36238313096541e-14, 5.786754329256595e-14, 4.994324256472671e-14, 2.4959383456119908e-14, 1.4971687051952e-14, 1.2701668812863202e-14, 1.047824662013488e-14, 9.853743042931112e-15]\n"
     ]
    }
   ],
   "source": [
    "get_gb_metrics(gb_grid_search_lung, x_test_lung, y_test_lung)\n",
    "gb_top_importance_lung, gb_top_features_lung = get_top_gb_features(gb_grid_search_lung, feature_names_lung, feature_importance_num)\n",
    "print(gb_top_features_lung)\n",
    "print(gb_top_importance_lung)"
   ]
  },
  {
   "cell_type": "markdown",
   "metadata": {
    "collapsed": false
   },
   "source": [
    "Colorectal Cancer Dataset"
   ]
  },
  {
   "cell_type": "code",
   "execution_count": 385,
   "metadata": {
    "collapsed": false
   },
   "outputs": [
    {
     "name": "stdout",
     "output_type": "stream",
     "text": [
      "      ID_REF  hsa-miR-28-3p  hsa-miR-27a-5p  hsa-miR-518b  hsa-miR-520b  \\\n",
      "2377       1       6.867068        6.701113      6.734917      7.008525   \n",
      "2378       1       6.374151        4.943700      4.150693      5.422829   \n",
      "2379       1       6.151220        5.059069      5.764714      2.619580   \n",
      "2380       1       3.588643        4.604267      4.742507      4.468745   \n",
      "2381       1       7.119708        6.839405      4.780490      6.296561   \n",
      "...      ...            ...             ...           ...           ...   \n",
      "13907      0       0.592899        1.892105      3.260905     -3.842394   \n",
      "13908      0      -3.083570       -3.083570      3.472014     -3.083570   \n",
      "13909      0       2.879964       -1.514097      2.997163      0.251458   \n",
      "13910      0       5.509703        5.171011      5.667294      5.430266   \n",
      "13911      0       1.268251        1.757426      2.885682      0.769274   \n",
      "\n",
      "       hsa-miR-498  hsa-miR-512-3p  hsa-miR-491-5p  hsa-miR-490-3p  \\\n",
      "2377      7.973037        7.347835        7.625689        6.454952   \n",
      "2378      6.070964        3.682389        6.195543        4.850172   \n",
      "2379      6.637995        0.194851        6.031578        5.131121   \n",
      "2380      6.422127        4.475559        6.028686        2.158263   \n",
      "2381      6.902894        4.443127        6.400736        5.629917   \n",
      "...            ...             ...             ...             ...   \n",
      "13907     5.868596       -3.842394        5.161757       -3.842394   \n",
      "13908     5.905747       -3.083570        4.773464        3.247927   \n",
      "13909     5.830306       -3.344919        5.162542        0.398821   \n",
      "13910     7.236555        4.749136        5.961610        3.863007   \n",
      "13911     5.909395       -3.788979        5.503361       -0.025842   \n",
      "\n",
      "       hsa-miR-452-5p  ...  hsa-miR-3606-3p  hsa-miR-1292-3p  hsa-miR-6889-5p  \\\n",
      "2377         6.603361  ...         4.915623         6.690018         6.608843   \n",
      "2378         3.577197  ...        -0.134169         6.296659         6.823600   \n",
      "2379         3.724141  ...         3.233331         6.798866         7.595431   \n",
      "2380         3.737850  ...        -1.164982         6.881434         7.755379   \n",
      "2381         4.749791  ...        -0.042760         6.317032         7.680096   \n",
      "...               ...  ...              ...              ...              ...   \n",
      "13907       -3.842394  ...        -3.842394         6.055057         7.798467   \n",
      "13908        1.198162  ...        -1.265693         6.186589         7.918535   \n",
      "13909        0.531774  ...        -3.344919         5.878323         7.815609   \n",
      "13910        5.411878  ...         3.214208         6.379295         7.753541   \n",
      "13911        2.251453  ...        -3.788979         5.980410         7.652320   \n",
      "\n",
      "       hsa-miR-6888-3p  hsa-miR-6881-5p  hsa-miR-6880-3p  hsa-miR-6873-5p  \\\n",
      "2377          3.305417         5.382229         7.233691         5.044788   \n",
      "2378         -0.134169         5.213734         6.627291         3.736391   \n",
      "2379          0.194851         5.703053         6.257196         4.081319   \n",
      "2380         -1.164982         4.549156         7.165485         3.990423   \n",
      "2381         -0.042760         4.087588         6.494429        -0.042760   \n",
      "...                ...              ...              ...              ...   \n",
      "13907         1.405746         3.795538         5.653172         2.498613   \n",
      "13908        -3.083570         2.572881         6.103118         3.644780   \n",
      "13909         0.797597         4.202868         5.847679         2.708290   \n",
      "13910         1.168435         4.764303         6.175341         3.857706   \n",
      "13911        -3.788979         2.716123         5.419018        -3.788979   \n",
      "\n",
      "       hsa-miR-6872-3p  hsa-miR-6865-5p  hsa-miR-6864-3p  \n",
      "2377          6.786910         6.170039         4.959797  \n",
      "2378          6.570242         4.755280         4.223692  \n",
      "2379          7.270355         7.135873         0.709867  \n",
      "2380          6.329152         6.057072         4.366378  \n",
      "2381          6.533316         4.393702         4.865687  \n",
      "...                ...              ...              ...  \n",
      "13907         4.898061         5.043195         1.735376  \n",
      "13908         5.302575         5.025940         2.359107  \n",
      "13909         5.078516         5.457819         2.076122  \n",
      "13910         5.624447         5.758936         3.766518  \n",
      "13911         5.290055         4.969782         0.750173  \n",
      "\n",
      "[7239 rows x 2566 columns] \n",
      "\n",
      "Colorectal Cancer Sample Number: 1596\n",
      "Non-Cancer Sample Number: 5643\n",
      "All Sample Number: 7239\n"
     ]
    }
   ],
   "source": [
    "colorectal_cancer_dataset = dataset.copy()\n",
    "\n",
    "colorectal_cancer_dataset.loc[colorectal_cancer_dataset[\"ID_REF\"] == \"Colorectal Cancer\", \"ID_REF\"] = 1\n",
    "colorectal_cancer_dataset.loc[colorectal_cancer_dataset[\"ID_REF\"] == \"No Cancer\", \"ID_REF\"] = 0\n",
    "colorectal_cancer_dataset = colorectal_cancer_dataset[(colorectal_cancer_dataset[\"ID_REF\"] == 0) | (colorectal_cancer_dataset[\"ID_REF\"] == 1)]\n",
    "\n",
    "print(colorectal_cancer_dataset, \"\\n\")\n",
    "print(\"Colorectal Cancer Sample Number:\", colorectal_cancer_dataset[\"ID_REF\"].value_counts()[1])\n",
    "print(\"Non-Cancer Sample Number:\", colorectal_cancer_dataset[\"ID_REF\"].value_counts()[0])\n",
    "print(\"All Sample Number:\", colorectal_cancer_dataset[\"ID_REF\"].value_counts()[1] + colorectal_cancer_dataset[\"ID_REF\"].value_counts()[0])\n",
    "\n",
    "x_train_colorectal, y_train_colorectal, x_test_colorectal, y_test_colorectal, feature_names_colorectal = process_data(colorectal_cancer_dataset)"
   ]
  },
  {
   "cell_type": "code",
   "execution_count": 386,
   "metadata": {
    "collapsed": false
   },
   "outputs": [],
   "source": [
    "svm_grid_search_colorectal = support_vector_machine(x_train_colorectal, y_train_colorectal, feature_selection_num)"
   ]
  },
  {
   "cell_type": "code",
   "execution_count": 387,
   "metadata": {
    "collapsed": false
   },
   "outputs": [
    {
     "name": "stdout",
     "output_type": "stream",
     "text": [
      "Training Accuracy: 0.9996545768566495\n",
      "Best Parameters: {'estimator__C': 0.25, 'estimator__kernel': 'linear', 'skb__k': 500}\n",
      "Testing Accuracy: 0.9993093922651933\n",
      "Confusion Matrix:\n",
      "[[1129    0]\n",
      " [   1  318]]\n",
      "['hsa-miR-125a-3p', 'hsa-miR-4730', 'hsa-miR-4783-3p', 'hsa-miR-1307-3p', 'hsa-miR-885-3p', 'hsa-miR-744-5p', 'hsa-miR-3184-5p', 'hsa-miR-1587', 'hsa-miR-4532', 'hsa-miR-1246', 'hsa-miR-575', 'hsa-miR-6132', 'hsa-miR-4481', 'hsa-miR-642b-3p', 'hsa-miR-1233-5p', 'hsa-miR-4787-3p', 'hsa-miR-3194-5p', 'hsa-miR-663a', 'hsa-miR-7114-5p', 'hsa-miR-92b-5p', 'hsa-miR-1203', 'hsa-miR-4674', 'hsa-miR-4258', 'hsa-miR-4327', 'hsa-miR-3158-5p', 'hsa-miR-1469', 'hsa-miR-320b', 'hsa-miR-92a-2-5p', 'hsa-miR-1185-1-3p', 'hsa-miR-6727-5p', 'hsa-miR-4690-5p', 'hsa-miR-4476', 'hsa-miR-411-5p', 'hsa-miR-6869-5p', 'hsa-miR-8069', 'hsa-miR-887-3p', 'hsa-miR-6825-5p', 'hsa-miR-4648', 'hsa-miR-4662b', 'hsa-miR-211-3p', 'hsa-miR-501-3p', 'hsa-miR-514a-3p', 'hsa-miR-6088', 'hsa-miR-145-3p', 'hsa-miR-4435', 'hsa-miR-128-1-5p', 'hsa-miR-320d', 'hsa-miR-6784-5p', 'hsa-miR-1228-5p', 'hsa-miR-1238-5p', 'hsa-let-7f-5p', 'hsa-miR-7110-5p', 'hsa-miR-548h-5p', 'hsa-miR-4675', 'hsa-miR-4668-5p', 'hsa-miR-4530', 'hsa-miR-1225-3p', 'hsa-miR-3940-5p', 'hsa-miR-561-3p', 'hsa-miR-663b', 'hsa-miR-4426', 'hsa-miR-6781-5p', 'hsa-miR-3117-5p', 'hsa-miR-6875-5p', 'hsa-miR-5195-3p', 'hsa-miR-940', 'hsa-miR-6800-5p', 'hsa-miR-4779', 'hsa-miR-4505', 'hsa-miR-6765-5p', 'hsa-miR-4774-5p', 'hsa-miR-1197', 'hsa-miR-3163', 'hsa-miR-6844', 'hsa-miR-191-5p', 'hsa-miR-296-3p', 'hsa-miR-4495', 'hsa-miR-128-2-5p', 'hsa-miR-4789-3p', 'hsa-miR-3171', 'hsa-miR-377-5p', 'hsa-miR-5090', 'hsa-miR-450b-3p', 'hsa-miR-497-3p', 'hsa-miR-1909-3p', 'hsa-miR-320a', 'hsa-miR-6729-5p', 'hsa-miR-6733-5p', 'hsa-miR-1827', 'hsa-miR-4790-5p', 'hsa-miR-22-3p', 'hsa-miR-576-3p', 'hsa-miR-6131', 'hsa-miR-548d-5p', 'hsa-miR-1468-3p', 'hsa-miR-4276', 'hsa-miR-219a-1-3p', 'hsa-miR-4429', 'hsa-miR-4777-3p', 'hsa-miR-6857-5p']\n",
      "[0.06847092637273429, 0.06478777392908697, 0.06353278306911768, 0.05353350623506239, 0.05264837487221137, 0.039908887824370444, 0.03959478720072475, 0.03869745301085117, 0.038189255070226205, 0.037121493306907, 0.033841361513560334, 0.03243345170941442, 0.03147502263208128, 0.030898627055351784, 0.030826046249611362, 0.03073994860896206, 0.030403586282737753, 0.029052388274770073, 0.028838427298827685, 0.028448547232308018, 0.027541465813936232, 0.02671961558655995, 0.02664649318841121, 0.025199109361797044, 0.024896235491857654, 0.024258668574418024, 0.024134859849473597, 0.023894245203607382, 0.02371986007540637, 0.023565634117565484, 0.02203439649356851, 0.02185779854219637, 0.021532998731653367, 0.02119352665366893, 0.020695906708526515, 0.020337530973807545, 0.02030686468322044, 0.020159788572240493, 0.019979965751932373, 0.019778971359069863, 0.018966857917713714, 0.018958824339207203, 0.01888995731514084, 0.018865999427401657, 0.018860449380363017, 0.01860460248555398, 0.01845003051334037, 0.0182741346686038, 0.01807804184577056, 0.01780509759990231, 0.017717146350879252, 0.01734841291341873, 0.016860743178262524, 0.016829917274562876, 0.016614299001721157, 0.016598674362562488, 0.016513330970040895, 0.016365429868128514, 0.016327524191355205, 0.01595063438106497, 0.01587546754443179, 0.015600314315795168, 0.01552454683852865, 0.015373118333380769, 0.015310482821247463, 0.015205650233519524, 0.015187029611236424, 0.015027393038754128, 0.014978996321203458, 0.014947361498325429, 0.014797664455373071, 0.014563489323619025, 0.014427326833900156, 0.014341126722519686, 0.0142985712798251, 0.014093156575779519, 0.013745298246146913, 0.013255684907334812, 0.01324336455824885, 0.013143374893205426, 0.013095868511821632, 0.013012980575081278, 0.012809335212513671, 0.012808695213130562, 0.012776414326778077, 0.012667537479392876, 0.012648967152654546, 0.012615296789948204, 0.012538789084202143, 0.01251706745247329, 0.012438555636642288, 0.012359610722651342, 0.012346571600448457, 0.012290113675401029, 0.012240059312380432, 0.012177028015488544, 0.01217036943150806, 0.012048725970780511, 0.011985607309649812, 0.01191676858100359]\n"
     ]
    }
   ],
   "source": [
    "get_svm_metrics(svm_grid_search_colorectal, x_test_colorectal, y_test_colorectal)\n",
    "svm_top_coef_colorectal, svm_top_features_colorectal = get_top_svm_features(svm_grid_search_colorectal, feature_names_colorectal, feature_importance_num)\n",
    "print(svm_top_features_colorectal)\n",
    "print(svm_top_coef_colorectal)"
   ]
  },
  {
   "cell_type": "code",
   "execution_count": 388,
   "metadata": {
    "collapsed": false
   },
   "outputs": [
    {
     "name": "stderr",
     "output_type": "stream",
     "text": [
      "/Users/thomastseng/Documents/Pioneer Computational Medicine/Classifiers/venv/lib/python3.9/site-packages/sklearn/model_selection/_validation.py:425: FitFailedWarning: \n",
      "40 fits failed out of a total of 120.\n",
      "The score on these train-test partitions for these parameters will be set to nan.\n",
      "If these failures are not expected, you can try to debug them by setting error_score='raise'.\n",
      "\n",
      "Below are more details about the failures:\n",
      "--------------------------------------------------------------------------------\n",
      "8 fits failed with the following error:\n",
      "Traceback (most recent call last):\n",
      "  File \"/Users/thomastseng/Documents/Pioneer Computational Medicine/Classifiers/venv/lib/python3.9/site-packages/sklearn/model_selection/_validation.py\", line 732, in _fit_and_score\n",
      "    estimator.fit(X_train, y_train, **fit_params)\n",
      "  File \"/Users/thomastseng/Documents/Pioneer Computational Medicine/Classifiers/venv/lib/python3.9/site-packages/sklearn/base.py\", line 1151, in wrapper\n",
      "    return fit_method(estimator, *args, **kwargs)\n",
      "  File \"/Users/thomastseng/Documents/Pioneer Computational Medicine/Classifiers/venv/lib/python3.9/site-packages/sklearn/pipeline.py\", line 420, in fit\n",
      "    self._final_estimator.fit(Xt, y, **fit_params_last_step)\n",
      "  File \"/Users/thomastseng/Documents/Pioneer Computational Medicine/Classifiers/venv/lib/python3.9/site-packages/sklearn/base.py\", line 1144, in wrapper\n",
      "    estimator._validate_params()\n",
      "  File \"/Users/thomastseng/Documents/Pioneer Computational Medicine/Classifiers/venv/lib/python3.9/site-packages/sklearn/base.py\", line 637, in _validate_params\n",
      "    validate_parameter_constraints(\n",
      "  File \"/Users/thomastseng/Documents/Pioneer Computational Medicine/Classifiers/venv/lib/python3.9/site-packages/sklearn/utils/_param_validation.py\", line 95, in validate_parameter_constraints\n",
      "    raise InvalidParameterError(\n",
      "sklearn.utils._param_validation.InvalidParameterError: The 'max_features' parameter of RandomForestClassifier must be an int in the range [1, inf), a float in the range (0.0, 1.0], a str among {'sqrt', 'log2'} or None. Got 'auto' instead.\n",
      "\n",
      "--------------------------------------------------------------------------------\n",
      "32 fits failed with the following error:\n",
      "Traceback (most recent call last):\n",
      "  File \"/Users/thomastseng/Documents/Pioneer Computational Medicine/Classifiers/venv/lib/python3.9/site-packages/sklearn/model_selection/_validation.py\", line 732, in _fit_and_score\n",
      "    estimator.fit(X_train, y_train, **fit_params)\n",
      "  File \"/Users/thomastseng/Documents/Pioneer Computational Medicine/Classifiers/venv/lib/python3.9/site-packages/sklearn/base.py\", line 1151, in wrapper\n",
      "    return fit_method(estimator, *args, **kwargs)\n",
      "  File \"/Users/thomastseng/Documents/Pioneer Computational Medicine/Classifiers/venv/lib/python3.9/site-packages/sklearn/pipeline.py\", line 420, in fit\n",
      "    self._final_estimator.fit(Xt, y, **fit_params_last_step)\n",
      "  File \"/Users/thomastseng/Documents/Pioneer Computational Medicine/Classifiers/venv/lib/python3.9/site-packages/sklearn/base.py\", line 1144, in wrapper\n",
      "    estimator._validate_params()\n",
      "  File \"/Users/thomastseng/Documents/Pioneer Computational Medicine/Classifiers/venv/lib/python3.9/site-packages/sklearn/base.py\", line 637, in _validate_params\n",
      "    validate_parameter_constraints(\n",
      "  File \"/Users/thomastseng/Documents/Pioneer Computational Medicine/Classifiers/venv/lib/python3.9/site-packages/sklearn/utils/_param_validation.py\", line 95, in validate_parameter_constraints\n",
      "    raise InvalidParameterError(\n",
      "sklearn.utils._param_validation.InvalidParameterError: The 'max_features' parameter of RandomForestClassifier must be an int in the range [1, inf), a float in the range (0.0, 1.0], a str among {'log2', 'sqrt'} or None. Got 'auto' instead.\n",
      "\n",
      "  warnings.warn(some_fits_failed_message, FitFailedWarning)\n",
      "/Users/thomastseng/Documents/Pioneer Computational Medicine/Classifiers/venv/lib/python3.9/site-packages/sklearn/model_selection/_search.py:976: UserWarning: One or more of the test scores are non-finite: [       nan        nan 0.99861831 0.99879102 0.99861831 0.9984456\n",
      "        nan        nan 0.99913644 0.99930915 0.99810047 0.99827318]\n",
      "  warnings.warn(\n"
     ]
    }
   ],
   "source": [
    "rf_grid_search_colorectal = random_forest(x_train_colorectal, y_train_colorectal, feature_selection_num)"
   ]
  },
  {
   "cell_type": "code",
   "execution_count": 389,
   "metadata": {
    "collapsed": false
   },
   "outputs": [
    {
     "name": "stdout",
     "output_type": "stream",
     "text": [
      "Training Accuracy: 0.9993091537132989\n",
      "Best Parameters: {'estimator__criterion': 'entropy', 'estimator__max_features': 'sqrt', 'estimator__n_estimators': 500, 'skb__k': 500}\n",
      "Testing Accuracy: 0.9993093922651933\n",
      "Confusion Matrix:\n",
      "[[1129    0]\n",
      " [   1  318]]\n",
      "['hsa-miR-4783-3p', 'hsa-miR-3184-5p', 'hsa-miR-663a', 'hsa-miR-3940-5p', 'hsa-miR-1228-5p', 'hsa-miR-4730', 'hsa-miR-6784-5p', 'hsa-miR-1469', 'hsa-miR-1307-3p', 'hsa-miR-6825-5p', 'hsa-miR-6088', 'hsa-miR-6802-5p', 'hsa-miR-4532', 'hsa-miR-1233-5p', 'hsa-miR-320a', 'hsa-miR-4787-3p', 'hsa-miR-4675', 'hsa-miR-6787-5p', 'hsa-miR-8073', 'hsa-miR-8069', 'hsa-miR-885-3p', 'hsa-miR-320b', 'hsa-miR-575', 'hsa-miR-92a-2-5p', 'hsa-miR-6781-5p', 'hsa-miR-4258', 'hsa-miR-1203', 'hsa-miR-6765-5p', 'hsa-miR-6800-5p', 'hsa-miR-128-1-5p', 'hsa-miR-642b-3p', 'hsa-miR-373-5p', 'hsa-miR-191-5p', 'hsa-miR-6717-5p', 'hsa-miR-4530', 'hsa-miR-6729-5p', 'hsa-miR-6861-5p', 'hsa-miR-17-3p', 'hsa-miR-5195-3p', 'hsa-miR-6805-5p', 'hsa-miR-1914-5p', 'hsa-miR-3180', 'hsa-miR-548au-5p', 'hsa-miR-3923', 'hsa-miR-548ah-5p', 'hsa-miR-4648', 'hsa-miR-211-3p', 'hsa-miR-1277-3p', 'hsa-miR-6786-5p', 'hsa-miR-125a-3p', 'hsa-miR-92b-5p', 'hsa-miR-1246', 'hsa-miR-4795-5p', 'hsa-miR-539-3p', 'hsa-miR-1262', 'hsa-miR-1258', 'hsa-miR-4477b', 'hsa-miR-638', 'hsa-miR-3683', 'hsa-miR-4678', 'hsa-miR-4782-5p', 'hsa-miR-3158-5p', 'hsa-miR-4758-5p', 'hsa-miR-513c-3p', 'hsa-miR-208b-5p', 'hsa-miR-3686', 'hsa-miR-7110-5p', 'hsa-miR-1244', 'hsa-miR-5682', 'hsa-miR-875-5p', 'hsa-miR-6816-5p', 'hsa-miR-3917', 'hsa-miR-3115', 'hsa-miR-1909-3p', 'hsa-miR-6869-5p', 'hsa-miR-6752-5p', 'hsa-miR-4674', 'hsa-miR-6131', 'hsa-miR-6889-5p', 'hsa-miR-128-2-5p', 'hsa-miR-4787-5p', 'hsa-miR-1271-3p', 'hsa-miR-6875-5p', 'hsa-miR-3672', 'hsa-miR-328-5p', 'hsa-miR-620', 'hsa-miR-3133', 'hsa-miR-548av-5p', 'hsa-miR-1268a', 'hsa-miR-6090', 'hsa-miR-744-5p', 'hsa-miR-4294', 'hsa-miR-3613-5p', 'hsa-miR-320d', 'hsa-miR-3611', 'hsa-miR-4696', 'hsa-miR-4706', 'hsa-miR-4760-3p', 'hsa-miR-3121-3p', 'hsa-miR-3924']\n",
      "[0.05502848945735422, 0.05208502152215679, 0.048882026050045047, 0.047716220316438906, 0.04631678676247221, 0.041732161843668264, 0.03393536342055201, 0.029894991914063994, 0.028937118422532295, 0.027182867417958285, 0.0239807174987965, 0.023066333489983746, 0.022060386587230457, 0.02191897203368162, 0.021300051874325383, 0.02107104903758033, 0.01959393009304577, 0.01835793280700875, 0.01765813419773315, 0.016639048445845895, 0.015718868577847062, 0.0147211244939341, 0.014536872939193753, 0.013745353640661245, 0.013282507660932646, 0.012606135674396024, 0.012192766641312632, 0.010666028154687004, 0.01051028933256775, 0.009758115613767215, 0.009654592572198653, 0.008367369690921136, 0.008317963491557414, 0.007525849736975399, 0.006819953550857425, 0.006656857074081629, 0.006343502561590639, 0.005928830556226401, 0.004816879154515813, 0.004707864693929849, 0.004649237858752425, 0.004534328979320976, 0.004378958669026353, 0.004297577422054859, 0.004281273357627304, 0.00415571673047064, 0.004132882066999854, 0.004079248328120895, 0.0039234764171009184, 0.0035332636779789608, 0.003259797298850011, 0.0031737655386163094, 0.003143942159941328, 0.003053473296819982, 0.0026009687686555684, 0.0025945691652038976, 0.0025889672158111126, 0.0024150871373168027, 0.002249780070117172, 0.002207539739118428, 0.002188106684578094, 0.002143248666438972, 0.002116873953883926, 0.0020989597452527402, 0.002039058664456999, 0.002018463671925916, 0.001960201819824114, 0.001925495907596677, 0.001921046293696626, 0.0019180618516871925, 0.0018073275493291098, 0.0017598583601594322, 0.0017394741992166481, 0.0016987079422339868, 0.001620571554270731, 0.0015691625253238077, 0.0015283914877474859, 0.0015050243570838293, 0.001491839467427255, 0.001483969909221558, 0.0014788835291832554, 0.001471414021010165, 0.0014002387597968622, 0.001249989250938118, 0.0012369677409091303, 0.001234676542961783, 0.0011992839348988306, 0.0011854139449725258, 0.0011705129440198025, 0.00115770369121981, 0.0011492129738020303, 0.0011365192724730937, 0.0011271173293773526, 0.0010740459044054106, 0.0010443191754575545, 0.001042753953755101, 0.0010371262874082333, 0.0010179499221514667, 0.0009697385790484981, 0.0009612646775522471]\n"
     ]
    }
   ],
   "source": [
    "get_rf_metrics(rf_grid_search_colorectal, x_test_colorectal, y_test_colorectal)\n",
    "rf_top_importance_colorectal, rf_top_features_colorectal = get_top_rf_features(rf_grid_search_colorectal, feature_names_colorectal, feature_importance_num)\n",
    "print(rf_top_features_colorectal)\n",
    "print(rf_top_importance_colorectal)"
   ]
  },
  {
   "cell_type": "code",
   "execution_count": 390,
   "metadata": {
    "collapsed": false
   },
   "outputs": [],
   "source": [
    "gb_grid_search_colorectal = gradient_boosting(x_train_colorectal, y_train_colorectal, feature_selection_num)"
   ]
  },
  {
   "cell_type": "code",
   "execution_count": 391,
   "metadata": {
    "collapsed": false
   },
   "outputs": [
    {
     "name": "stdout",
     "output_type": "stream",
     "text": [
      "Training Accuracy: 0.9994818652849743\n",
      "Best Parameters: {'estimator__learning_rate': 0.5, 'estimator__n_estimators': 50, 'skb__k': 500}\n",
      "Testing Accuracy: 0.9993093922651933\n",
      "Confusion Matrix:\n",
      "[[1129    0]\n",
      " [   1  318]]\n",
      "['hsa-miR-3184-5p', 'hsa-miR-3940-5p', 'hsa-miR-4787-3p', 'hsa-miR-4730', 'hsa-miR-1469', 'hsa-miR-4783-3p', 'hsa-miR-4532', 'hsa-miR-4649-5p', 'hsa-miR-1307-3p', 'hsa-miR-663a', 'hsa-miR-6784-5p', 'hsa-miR-342-5p', 'hsa-miR-128-2-5p', 'hsa-miR-876-5p', 'hsa-miR-7114-5p', 'hsa-miR-6787-5p', 'hsa-miR-3158-5p', 'hsa-miR-6088', 'hsa-miR-1203', 'hsa-miR-6798-5p', 'hsa-miR-1228-5p', 'hsa-miR-4790-5p', 'hsa-miR-7977', 'hsa-miR-8073', 'hsa-miR-4690-5p', 'hsa-miR-6875-5p', 'hsa-miR-6857-5p', 'hsa-miR-23a-3p', 'hsa-miR-302e', 'hsa-miR-92b-5p', 'hsa-miR-148b-5p', 'hsa-miR-6825-5p', 'hsa-miR-1233-5p', 'hsa-miR-7110-5p', 'hsa-miR-155-5p', 'hsa-miR-103a-3p', 'hsa-miR-6729-5p', 'hsa-miR-8069', 'hsa-miR-587', 'hsa-miR-6786-5p', 'hsa-miR-3917', 'hsa-miR-135a-3p', 'hsa-miR-3663-3p', 'hsa-miR-4758-5p', 'hsa-miR-6869-5p', 'hsa-miR-1252-5p', 'hsa-miR-5047', 'hsa-miR-6858-5p', 'hsa-miR-8059', 'hsa-miR-1268a', 'hsa-miR-5582-5p', 'hsa-miR-6756-5p', 'hsa-miR-4787-5p', 'hsa-miR-6090', 'hsa-miR-6727-5p', 'hsa-miR-653-3p', 'hsa-miR-888-3p', 'hsa-miR-4435', 'hsa-miR-924', 'hsa-miR-6826-5p', 'hsa-miR-6789-5p', 'hsa-miR-6752-5p', 'hsa-miR-600', 'hsa-miR-1243', 'hsa-miR-4674', 'hsa-miR-4708-3p', 'hsa-miR-125a-3p', 'hsa-miR-6769a-5p', 'hsa-miR-1260b', 'hsa-miR-4666a-5p', 'hsa-miR-328-5p', 'hsa-miR-4693-5p', 'hsa-miR-3194-5p', 'hsa-miR-575', 'hsa-miR-7159-3p', 'hsa-miR-7975', 'hsa-miR-548m', 'hsa-miR-885-3p', 'hsa-miR-4774-3p', 'hsa-miR-9-5p', 'hsa-miR-92a-2-5p', 'hsa-miR-6765-5p', 'hsa-miR-3128', 'hsa-miR-4648', 'hsa-miR-1914-5p', 'hsa-miR-18a-5p', 'hsa-miR-4675', 'hsa-miR-6800-5p', 'hsa-miR-6805-5p', 'hsa-miR-3133', 'hsa-miR-488-3p', 'hsa-miR-663b', 'hsa-miR-4782-3p', 'hsa-miR-3688-5p', 'hsa-miR-190a-5p', 'hsa-miR-6766-5p', 'hsa-miR-744-5p', 'hsa-miR-4258', 'hsa-miR-3607-5p', 'hsa-miR-1271-3p']\n",
      "[0.8486161044004704, 0.05636643470844822, 0.03743479314126329, 0.025681892869926604, 0.010014165975016809, 0.0077409913350762515, 0.0033924452867370265, 0.003342045899660752, 0.0017014473646207017, 0.0015439810920066211, 0.0007936694777155773, 0.0006220148163592329, 0.0005507500698365221, 0.0003721071524733526, 0.0003694869361047173, 0.0003626060875478331, 0.0003491823086242021, 0.0001806144576670192, 0.0001477180628560101, 0.00013551687851830308, 0.00011761361255170273, 4.314328921830607e-05, 4.2126049330682405e-05, 1.5224192988082975e-05, 1.3667816238215503e-05, 1.2962223414425478e-05, 9.817932565747274e-06, 4.430299115534477e-06, 3.5254816908792505e-06, 2.7861234716531602e-06, 2.3388801179870216e-06, 2.0223659824200686e-06, 1.973970090372545e-06, 1.695338986002818e-06, 1.4819165002455962e-06, 1.3613563103097783e-06, 1.1929084178343192e-06, 1.0312291178563148e-06, 4.876488537155459e-07, 4.3333514795980105e-07, 3.8534078325134725e-07, 3.434179814768151e-07, 3.1238062645860126e-07, 2.1989120923915937e-07, 2.0164530532382474e-07, 1.7701774568160824e-07, 1.6654372520737873e-07, 1.5338023165168108e-07, 1.0831691967956317e-07, 9.90898274057252e-08, 5.7560336866111116e-08, 5.445845635815021e-08, 5.1404999134983944e-08, 5.065052793472336e-08, 4.611260173925548e-08, 4.406595827242468e-08, 4.176849156144514e-08, 3.2441539043277285e-08, 2.6650559845770143e-08, 2.4066894620084788e-08, 2.193445128982646e-08, 2.1826620832415186e-08, 1.3034439241216296e-08, 1.2705116011784403e-08, 1.07547109273748e-08, 8.965667258235597e-09, 8.750144358920598e-09, 5.7227552257296985e-09, 4.2038697504583646e-09, 3.889011991471089e-09, 1.9931535223062265e-09, 1.205716958767487e-09, 8.388784996011816e-10, 7.409831107674218e-10, 5.886336997063961e-10, 4.4474966547386897e-10, 4.3248172018421524e-10, 2.499649288043022e-10, 1.4875563479579837e-10, 1.3580025350116854e-10, 1.1181767630755084e-10, 9.34462023838718e-11, 9.205570304533094e-11, 6.477469908014383e-11, 6.287114530815474e-11, 5.330626530456919e-11, 5.186406206865882e-11, 4.2716656548188215e-11, 4.1413575962689784e-11, 3.5133946096627655e-11, 3.505156583804804e-11, 3.323618303862037e-11, 3.2878722642357147e-11, 3.0859709921752014e-11, 2.6815769414520663e-11, 2.606002417220781e-11, 2.0387583329555726e-11, 1.7793427018450385e-11, 1.645484392271733e-11, 1.1984307254096202e-11]\n"
     ]
    }
   ],
   "source": [
    "get_gb_metrics(gb_grid_search_colorectal, x_test_colorectal, y_test_colorectal)\n",
    "gb_top_importance_colorectal, gb_top_features_colorectal = get_top_gb_features(gb_grid_search_colorectal, feature_names_colorectal, feature_importance_num)\n",
    "print(gb_top_features_colorectal)\n",
    "print(gb_top_importance_colorectal)"
   ]
  },
  {
   "cell_type": "markdown",
   "metadata": {
    "collapsed": false
   },
   "source": [
    "Gastric Cancer Dataset"
   ]
  },
  {
   "cell_type": "code",
   "execution_count": 392,
   "metadata": {
    "collapsed": false
   },
   "outputs": [
    {
     "name": "stdout",
     "output_type": "stream",
     "text": [
      "      ID_REF  hsa-miR-28-3p  hsa-miR-27a-5p  hsa-miR-518b  hsa-miR-520b  \\\n",
      "4563       1       3.979417        3.469969      6.192362      6.725776   \n",
      "4564       1      -0.194516       -0.194516     -0.194516     -0.194516   \n",
      "4565       1       5.109533        5.073537      5.726348      2.670043   \n",
      "4566       1       4.327134        3.516137      4.996419      3.682273   \n",
      "4567       1       5.144090        4.915262      5.271562      5.682571   \n",
      "...      ...            ...             ...           ...           ...   \n",
      "13907      0       0.592899        1.892105      3.260905     -3.842394   \n",
      "13908      0      -3.083570       -3.083570      3.472014     -3.083570   \n",
      "13909      0       2.879964       -1.514097      2.997163      0.251458   \n",
      "13910      0       5.509703        5.171011      5.667294      5.430266   \n",
      "13911      0       1.268251        1.757426      2.885682      0.769274   \n",
      "\n",
      "       hsa-miR-498  hsa-miR-512-3p  hsa-miR-491-5p  hsa-miR-490-3p  \\\n",
      "4563      7.707212        6.304574        7.650372        7.197655   \n",
      "4564      5.628052       -0.194516        4.243101       -0.194516   \n",
      "4565      6.591677        2.916769        5.909090        3.751272   \n",
      "4566      6.142940        4.338997        5.036406        4.577498   \n",
      "4567      7.057586       -0.038141        6.010663        3.517664   \n",
      "...            ...             ...             ...             ...   \n",
      "13907     5.868596       -3.842394        5.161757       -3.842394   \n",
      "13908     5.905747       -3.083570        4.773464        3.247927   \n",
      "13909     5.830306       -3.344919        5.162542        0.398821   \n",
      "13910     7.236555        4.749136        5.961610        3.863007   \n",
      "13911     5.909395       -3.788979        5.503361       -0.025842   \n",
      "\n",
      "       hsa-miR-452-5p  ...  hsa-miR-3606-3p  hsa-miR-1292-3p  hsa-miR-6889-5p  \\\n",
      "4563         7.232384  ...        -0.394986         6.101120         6.943739   \n",
      "4564        -0.194516  ...        -0.194516         4.130606         5.992756   \n",
      "4565         4.624891  ...        -0.478389         6.086655         7.285379   \n",
      "4566         1.962247  ...        -0.831298         5.979553         6.258945   \n",
      "4567        -0.038141  ...         3.250468         6.297277         6.650768   \n",
      "...               ...  ...              ...              ...              ...   \n",
      "13907       -3.842394  ...        -3.842394         6.055057         7.798467   \n",
      "13908        1.198162  ...        -1.265693         6.186589         7.918535   \n",
      "13909        0.531774  ...        -3.344919         5.878323         7.815609   \n",
      "13910        5.411878  ...         3.214208         6.379295         7.753541   \n",
      "13911        2.251453  ...        -3.788979         5.980410         7.652320   \n",
      "\n",
      "       hsa-miR-6888-3p  hsa-miR-6881-5p  hsa-miR-6880-3p  hsa-miR-6873-5p  \\\n",
      "4563         -0.394986         1.673088         6.293793        -0.394986   \n",
      "4564         -0.194516        -0.194516        -0.194516        -0.194516   \n",
      "4565         -0.478389         2.954140         6.042263         0.680156   \n",
      "4566         -0.831298         2.909714         5.996680         3.937217   \n",
      "4567          1.318836         4.665199         6.667294         3.879764   \n",
      "...                ...              ...              ...              ...   \n",
      "13907         1.405746         3.795538         5.653172         2.498613   \n",
      "13908        -3.083570         2.572881         6.103118         3.644780   \n",
      "13909         0.797597         4.202868         5.847679         2.708290   \n",
      "13910         1.168435         4.764303         6.175341         3.857706   \n",
      "13911        -3.788979         2.716123         5.419018        -3.788979   \n",
      "\n",
      "       hsa-miR-6872-3p  hsa-miR-6865-5p  hsa-miR-6864-3p  \n",
      "4563          5.375591         5.582374        -0.394986  \n",
      "4564          4.671620         3.989365        -0.194516  \n",
      "4565          5.553714         5.806734        -0.478389  \n",
      "4566          5.953007         4.523636         3.369586  \n",
      "4567          5.905414         6.299932         4.370769  \n",
      "...                ...              ...              ...  \n",
      "13907         4.898061         5.043195         1.735376  \n",
      "13908         5.302575         5.025940         2.359107  \n",
      "13909         5.078516         5.457819         2.076122  \n",
      "13910         5.624447         5.758936         3.766518  \n",
      "13911         5.290055         4.969782         0.750173  \n",
      "\n",
      "[7061 rows x 2566 columns] \n",
      "\n",
      "Gastric Cancer Sample Number: 1418\n",
      "Non-Cancer Sample Number: 5643\n",
      "All Sample Number: 7061\n"
     ]
    }
   ],
   "source": [
    "gastric_cancer_dataset = dataset.copy()\n",
    "\n",
    "gastric_cancer_dataset.loc[gastric_cancer_dataset[\"ID_REF\"] == \"Gastric Cancer\", \"ID_REF\"] = 1\n",
    "gastric_cancer_dataset.loc[gastric_cancer_dataset[\"ID_REF\"] == \"No Cancer\", \"ID_REF\"] = 0\n",
    "gastric_cancer_dataset = gastric_cancer_dataset[(gastric_cancer_dataset[\"ID_REF\"] == 0) | (gastric_cancer_dataset[\"ID_REF\"] == 1)]\n",
    "\n",
    "print(gastric_cancer_dataset, \"\\n\")\n",
    "print(\"Gastric Cancer Sample Number:\", gastric_cancer_dataset[\"ID_REF\"].value_counts()[1])\n",
    "print(\"Non-Cancer Sample Number:\", gastric_cancer_dataset[\"ID_REF\"].value_counts()[0])\n",
    "print(\"All Sample Number:\", gastric_cancer_dataset[\"ID_REF\"].value_counts()[1] + gastric_cancer_dataset[\"ID_REF\"].value_counts()[0])\n",
    "\n",
    "x_train_gastric, y_train_gastric, x_test_gastric, y_test_gastric, feature_names_gastric = process_data(gastric_cancer_dataset)"
   ]
  },
  {
   "cell_type": "code",
   "execution_count": 393,
   "metadata": {
    "collapsed": false
   },
   "outputs": [],
   "source": [
    "svm_grid_search_gastric = support_vector_machine(x_train_gastric, y_train_gastric, feature_selection_num)"
   ]
  },
  {
   "cell_type": "code",
   "execution_count": 394,
   "metadata": {
    "collapsed": false
   },
   "outputs": [
    {
     "name": "stdout",
     "output_type": "stream",
     "text": [
      "Training Accuracy: 0.9994683989204795\n",
      "Best Parameters: {'estimator__C': 0.25, 'estimator__kernel': 'linear', 'skb__k': 500}\n",
      "Testing Accuracy: 1.0\n",
      "Confusion Matrix:\n",
      "[[1129    0]\n",
      " [   0  284]]\n",
      "['hsa-miR-125a-3p', 'hsa-miR-4783-3p', 'hsa-miR-4730', 'hsa-miR-1246', 'hsa-miR-4648', 'hsa-miR-4787-3p', 'hsa-miR-1587', 'hsa-miR-1203', 'hsa-miR-744-5p', 'hsa-miR-1307-3p', 'hsa-miR-3184-5p', 'hsa-miR-4481', 'hsa-miR-575', 'hsa-miR-4532', 'hsa-miR-124-3p', 'hsa-miR-663a', 'hsa-miR-6857-5p', 'hsa-miR-6132', 'hsa-miR-6825-5p', 'hsa-miR-191-5p', 'hsa-miR-6784-5p', 'hsa-miR-6131', 'hsa-miR-885-3p', 'hsa-miR-1343-3p', 'hsa-miR-3135b', 'hsa-miR-6765-5p', 'hsa-miR-128-1-5p', 'hsa-miR-1469', 'hsa-miR-3940-5p', 'hsa-miR-1228-5p', 'hsa-miR-4258', 'hsa-miR-26a-5p', 'hsa-miR-887-3p', 'hsa-miR-499a-3p', 'hsa-miR-4783-5p', 'hsa-miR-6875-5p', 'hsa-miR-4460', 'hsa-miR-642b-3p', 'hsa-miR-668-5p', 'hsa-miR-4635', 'hsa-miR-2115-3p', 'hsa-miR-92a-2-5p', 'hsa-miR-8069', 'hsa-miR-1290', 'hsa-miR-1206', 'hsa-miR-6781-5p', 'hsa-miR-4533', 'hsa-miR-651-5p', 'hsa-miR-4448', 'hsa-miR-1245b-3p', 'hsa-miR-17-3p', 'hsa-miR-6746-5p', 'hsa-miR-1264', 'hsa-miR-145-3p', 'hsa-miR-6729-5p', 'hsa-miR-3617-5p', 'hsa-miR-5001-5p', 'hsa-miR-3616-5p', 'hsa-miR-607', 'hsa-miR-4771', 'hsa-miR-940', 'hsa-miR-548p', 'hsa-miR-140-3p', 'hsa-miR-6088', 'hsa-miR-4690-5p', 'hsa-miR-4736', 'hsa-miR-219b-3p', 'hsa-miR-6501-3p', 'hsa-miR-3192-5p', 'hsa-miR-3616-3p', 'hsa-miR-3622a-5p', 'hsa-miR-3152-3p', 'hsa-miR-1268b', 'hsa-miR-7110-5p', 'hsa-miR-5100', 'hsa-miR-548w', 'hsa-miR-654-5p', 'hsa-miR-4282', 'hsa-miR-3158-5p', 'hsa-miR-1255b-5p', 'hsa-miR-6720-3p', 'hsa-miR-524-5p', 'hsa-miR-551b-5p', 'hsa-miR-4710', 'hsa-miR-6786-5p', 'hsa-miR-5586-5p', 'hsa-miR-4685-5p', 'hsa-miR-1197', 'hsa-miR-6511b-5p', 'hsa-miR-4789-5p', 'hsa-miR-219a-1-3p', 'hsa-miR-4429', 'hsa-miR-6729-3p', 'hsa-miR-3156-5p', 'hsa-miR-3145-3p', 'hsa-miR-6717-5p', 'hsa-miR-4454', 'hsa-miR-3663-3p', 'hsa-miR-6798-5p', 'hsa-miR-4719']\n",
      "[0.05336558216596974, 0.04124186857605801, 0.03910534085085066, 0.03686962149652075, 0.03600988842440446, 0.03398030350223187, 0.03314920188500574, 0.03289002840859095, 0.032493100969602486, 0.030271141582153865, 0.029901393220859353, 0.028526204779570484, 0.027384391682393698, 0.025752277185186644, 0.0246434779939675, 0.023575795576640225, 0.021864489079686363, 0.02160705688167416, 0.019710684493508213, 0.019480478506188725, 0.019239349429241825, 0.019031929660115954, 0.018657269085136905, 0.01785193457126346, 0.01747729699880603, 0.01739709152411762, 0.017321109593284586, 0.017205759554936972, 0.016679171948824484, 0.01650083077436884, 0.0159198933048235, 0.015797639486744994, 0.015722457490127826, 0.015549035497704752, 0.015148754761280279, 0.015130250004248995, 0.015113075344315408, 0.015041501490735366, 0.014660388833562242, 0.01406908099780631, 0.014040378443165323, 0.013959678934886113, 0.013786774716771345, 0.013720779642405883, 0.013639409217019657, 0.013628798671136602, 0.01340529008467197, 0.013360010539579675, 0.013343761475203213, 0.013217116401899586, 0.013065748230535707, 0.013013702667242565, 0.012969440026840442, 0.012744152594377917, 0.012732063264333168, 0.012684683933510757, 0.012654506640033132, 0.012631139786192243, 0.012492565329760393, 0.012293828205402495, 0.012278595249259085, 0.012066585142205738, 0.012029347720215865, 0.011963546335342572, 0.011942794764602305, 0.01179358496729812, 0.011637585547138743, 0.011599842155351783, 0.011487253582373198, 0.011448351612515936, 0.01142769276866553, 0.01141596710999455, 0.011285203481703115, 0.011198614700395872, 0.011170271655389155, 0.011050480604143563, 0.010909448321838976, 0.010868716276845334, 0.010828454950341182, 0.010763788947560846, 0.01074160909083509, 0.010727858892432603, 0.010663000033971064, 0.010625552857575452, 0.010589168967280418, 0.010556412188360042, 0.010399911866650414, 0.010398135588543123, 0.010299404577316621, 0.010192222921245182, 0.010140078014969887, 0.010125519868293263, 0.01008685236505882, 0.010005315233727455, 0.010002974758136626, 0.0098682137406407, 0.009809777941923649, 0.0097561480025131, 0.009738939969345238, 0.009645864347402304]\n"
     ]
    }
   ],
   "source": [
    "get_svm_metrics(svm_grid_search_gastric, x_test_gastric, y_test_gastric)\n",
    "svm_top_coef_gastric, svm_top_features_gastric = get_top_svm_features(svm_grid_search_gastric, feature_names_gastric, feature_importance_num)\n",
    "print(svm_top_features_gastric)\n",
    "print(svm_top_coef_gastric)"
   ]
  },
  {
   "cell_type": "code",
   "execution_count": 395,
   "metadata": {
    "collapsed": false
   },
   "outputs": [
    {
     "name": "stderr",
     "output_type": "stream",
     "text": [
      "/Users/thomastseng/Documents/Pioneer Computational Medicine/Classifiers/venv/lib/python3.9/site-packages/sklearn/model_selection/_validation.py:425: FitFailedWarning: \n",
      "40 fits failed out of a total of 120.\n",
      "The score on these train-test partitions for these parameters will be set to nan.\n",
      "If these failures are not expected, you can try to debug them by setting error_score='raise'.\n",
      "\n",
      "Below are more details about the failures:\n",
      "--------------------------------------------------------------------------------\n",
      "24 fits failed with the following error:\n",
      "Traceback (most recent call last):\n",
      "  File \"/Users/thomastseng/Documents/Pioneer Computational Medicine/Classifiers/venv/lib/python3.9/site-packages/sklearn/model_selection/_validation.py\", line 732, in _fit_and_score\n",
      "    estimator.fit(X_train, y_train, **fit_params)\n",
      "  File \"/Users/thomastseng/Documents/Pioneer Computational Medicine/Classifiers/venv/lib/python3.9/site-packages/sklearn/base.py\", line 1151, in wrapper\n",
      "    return fit_method(estimator, *args, **kwargs)\n",
      "  File \"/Users/thomastseng/Documents/Pioneer Computational Medicine/Classifiers/venv/lib/python3.9/site-packages/sklearn/pipeline.py\", line 420, in fit\n",
      "    self._final_estimator.fit(Xt, y, **fit_params_last_step)\n",
      "  File \"/Users/thomastseng/Documents/Pioneer Computational Medicine/Classifiers/venv/lib/python3.9/site-packages/sklearn/base.py\", line 1144, in wrapper\n",
      "    estimator._validate_params()\n",
      "  File \"/Users/thomastseng/Documents/Pioneer Computational Medicine/Classifiers/venv/lib/python3.9/site-packages/sklearn/base.py\", line 637, in _validate_params\n",
      "    validate_parameter_constraints(\n",
      "  File \"/Users/thomastseng/Documents/Pioneer Computational Medicine/Classifiers/venv/lib/python3.9/site-packages/sklearn/utils/_param_validation.py\", line 95, in validate_parameter_constraints\n",
      "    raise InvalidParameterError(\n",
      "sklearn.utils._param_validation.InvalidParameterError: The 'max_features' parameter of RandomForestClassifier must be an int in the range [1, inf), a float in the range (0.0, 1.0], a str among {'log2', 'sqrt'} or None. Got 'auto' instead.\n",
      "\n",
      "--------------------------------------------------------------------------------\n",
      "16 fits failed with the following error:\n",
      "Traceback (most recent call last):\n",
      "  File \"/Users/thomastseng/Documents/Pioneer Computational Medicine/Classifiers/venv/lib/python3.9/site-packages/sklearn/model_selection/_validation.py\", line 732, in _fit_and_score\n",
      "    estimator.fit(X_train, y_train, **fit_params)\n",
      "  File \"/Users/thomastseng/Documents/Pioneer Computational Medicine/Classifiers/venv/lib/python3.9/site-packages/sklearn/base.py\", line 1151, in wrapper\n",
      "    return fit_method(estimator, *args, **kwargs)\n",
      "  File \"/Users/thomastseng/Documents/Pioneer Computational Medicine/Classifiers/venv/lib/python3.9/site-packages/sklearn/pipeline.py\", line 420, in fit\n",
      "    self._final_estimator.fit(Xt, y, **fit_params_last_step)\n",
      "  File \"/Users/thomastseng/Documents/Pioneer Computational Medicine/Classifiers/venv/lib/python3.9/site-packages/sklearn/base.py\", line 1144, in wrapper\n",
      "    estimator._validate_params()\n",
      "  File \"/Users/thomastseng/Documents/Pioneer Computational Medicine/Classifiers/venv/lib/python3.9/site-packages/sklearn/base.py\", line 637, in _validate_params\n",
      "    validate_parameter_constraints(\n",
      "  File \"/Users/thomastseng/Documents/Pioneer Computational Medicine/Classifiers/venv/lib/python3.9/site-packages/sklearn/utils/_param_validation.py\", line 95, in validate_parameter_constraints\n",
      "    raise InvalidParameterError(\n",
      "sklearn.utils._param_validation.InvalidParameterError: The 'max_features' parameter of RandomForestClassifier must be an int in the range [1, inf), a float in the range (0.0, 1.0], a str among {'sqrt', 'log2'} or None. Got 'auto' instead.\n",
      "\n",
      "  warnings.warn(some_fits_failed_message, FitFailedWarning)\n",
      "/Users/thomastseng/Documents/Pioneer Computational Medicine/Classifiers/venv/lib/python3.9/site-packages/sklearn/model_selection/_search.py:976: UserWarning: One or more of the test scores are non-finite: [       nan        nan 0.99964602 0.99964602 0.99893743 0.99893743\n",
      "        nan        nan 0.99929172 0.99929141 0.99840614 0.99876012]\n",
      "  warnings.warn(\n"
     ]
    }
   ],
   "source": [
    "rf_grid_search_gastric = random_forest(x_train_gastric, y_train_gastric, feature_selection_num)"
   ]
  },
  {
   "cell_type": "code",
   "execution_count": 396,
   "metadata": {
    "collapsed": false
   },
   "outputs": [
    {
     "name": "stdout",
     "output_type": "stream",
     "text": [
      "Training Accuracy: 0.999646017699115\n",
      "Best Parameters: {'estimator__criterion': 'gini', 'estimator__max_features': 'sqrt', 'estimator__n_estimators': 100, 'skb__k': 500}\n",
      "Testing Accuracy: 1.0\n",
      "Confusion Matrix:\n",
      "[[1129    0]\n",
      " [   0  284]]\n",
      "['hsa-miR-1228-5p', 'hsa-miR-5100', 'hsa-miR-1307-3p', 'hsa-miR-4787-3p', 'hsa-miR-663a', 'hsa-miR-8073', 'hsa-miR-3940-5p', 'hsa-miR-4706', 'hsa-miR-1343-3p', 'hsa-miR-6765-5p', 'hsa-miR-6784-5p', 'hsa-miR-1246', 'hsa-miR-1290', 'hsa-miR-4429', 'hsa-miR-320b', 'hsa-miR-4259', 'hsa-miR-3184-5p', 'hsa-miR-4690-5p', 'hsa-miR-6802-5p', 'hsa-miR-4730', 'hsa-miR-191-5p', 'hsa-miR-4732-5p', 'hsa-miR-4727-3p', 'hsa-miR-124-3p', 'hsa-miR-8060', 'hsa-miR-17-3p', 'hsa-miR-614', 'hsa-miR-6717-5p', 'hsa-miR-6787-5p', 'hsa-miR-6746-5p', 'hsa-miR-6781-5p', 'hsa-miR-1260b', 'hsa-miR-668-5p', 'hsa-miR-320a', 'hsa-miR-4687-5p', 'hsa-miR-3622a-5p', 'hsa-miR-4419b', 'hsa-miR-6861-5p', 'hsa-miR-8059', 'hsa-miR-23b-3p', 'hsa-miR-5001-5p', 'hsa-miR-4515', 'hsa-miR-4782-5p', 'hsa-miR-4783-3p', 'hsa-miR-1203', 'hsa-miR-575', 'hsa-miR-6752-5p', 'hsa-miR-4454', 'hsa-miR-3191-3p', 'hsa-miR-548av-3p', 'hsa-miR-6131', 'hsa-miR-4758-5p', 'hsa-miR-6825-5p', 'hsa-miR-620', 'hsa-miR-5585-5p', 'hsa-miR-3606-3p', 'hsa-miR-3128', 'hsa-miR-4696', 'hsa-miR-1268b', 'hsa-miR-451a', 'hsa-miR-7110-5p', 'hsa-miR-3923', 'hsa-miR-556-5p', 'hsa-miR-6875-5p', 'hsa-miR-875-5p', 'hsa-miR-1469', 'hsa-miR-6511b-5p', 'hsa-miR-4532', 'hsa-miR-4525', 'hsa-miR-663b', 'hsa-miR-1185-5p', 'hsa-miR-885-3p', 'hsa-miR-4533', 'hsa-miR-1233-5p', 'hsa-miR-499b-5p', 'hsa-miR-3115', 'hsa-miR-3607-3p', 'hsa-miR-548av-5p', 'hsa-miR-6877-5p', 'hsa-miR-920', 'hsa-miR-3688-5p', 'hsa-miR-6816-5p', 'hsa-miR-5579-5p', 'hsa-miR-1273g-3p', 'hsa-miR-6786-5p', 'hsa-miR-4258', 'hsa-miR-744-5p', 'hsa-miR-4693-3p', 'hsa-miR-6805-5p', 'hsa-miR-1258', 'hsa-miR-3672', 'hsa-miR-3611', 'hsa-miR-3606-5p', 'hsa-miR-4257', 'hsa-miR-642b-3p', 'hsa-miR-3613-5p', 'hsa-miR-3674', 'hsa-miR-4530', 'hsa-miR-4675', 'hsa-miR-4760-3p']\n",
      "[0.06266634369784393, 0.05675057006460068, 0.048175466060357434, 0.042649791514203075, 0.040925356648821486, 0.03985347115550361, 0.036801739470780276, 0.036381793409751256, 0.03439790005251145, 0.031741855248059864, 0.031221633421983207, 0.029049008383214277, 0.028720216370997025, 0.02630002028839569, 0.02520390416150313, 0.02494911288678186, 0.023627997108556432, 0.023443407233557173, 0.019304262686455693, 0.019112826041851903, 0.01897547940342033, 0.018387019342694166, 0.01776259853097098, 0.017348196415368177, 0.017057701763441832, 0.017057075765601653, 0.015359425198912636, 0.012942089860110799, 0.01077785093476, 0.008836660107503764, 0.008754314207659725, 0.008400288693542458, 0.008397342280400495, 0.008299301894501615, 0.008202286296268634, 0.008009780374972974, 0.007991892036079223, 0.007884262760543896, 0.007851008078457984, 0.007785871563683215, 0.007285714978954531, 0.007216094454026212, 0.006137179890525989, 0.004453185035611502, 0.003979069785747861, 0.0029786483576388616, 0.0022546308869901828, 0.0015860901211173796, 0.0014901137936652925, 0.0014062603193112314, 0.0013807385928654692, 0.001254686753901718, 0.0010371146233964458, 0.0009949381763017233, 0.0009349340317744748, 0.0008696522616613964, 0.0008668393153538326, 0.000862139092689607, 0.0007952844377589415, 0.0007952378863449, 0.0007950174039062432, 0.0007825433044416723, 0.0007800197812941904, 0.0007665166276552603, 0.0007630069487942814, 0.0007505286984359427, 0.0007470412514897913, 0.0006795287069863441, 0.0006714258987603535, 0.0006683925641026705, 0.0006287693685053049, 0.0006128790518304295, 0.0005959769478808389, 0.0005937882039190498, 0.0005800009357055867, 0.0005735161527909825, 0.0005490780910229136, 0.0005296604326879541, 0.0005019763830045392, 0.0004827060618448942, 0.0004693419079938169, 0.0004659658535973111, 0.0004503985806365212, 0.0004464938763648375, 0.00044486851939027147, 0.0004406920570268456, 0.0004281601453392481, 0.00041620730631188307, 0.0004124255432625907, 0.00041093815227859464, 0.0004057447793752154, 0.00039869699305481766, 0.0003908200998294038, 0.0003751427668469884, 0.00037205710185131175, 0.00035463469903568, 0.0003528277318699852, 0.00033651711952420097, 0.00031823440568525853, 0.000317940066592969]\n"
     ]
    }
   ],
   "source": [
    "get_rf_metrics(rf_grid_search_gastric, x_test_gastric, y_test_gastric)\n",
    "rf_top_importance_gastric, rf_top_features_gastric = get_top_rf_features(rf_grid_search_gastric, feature_names_gastric, feature_importance_num)\n",
    "print(rf_top_features_gastric)\n",
    "print(rf_top_importance_gastric)"
   ]
  },
  {
   "cell_type": "code",
   "execution_count": 397,
   "metadata": {
    "collapsed": false
   },
   "outputs": [],
   "source": [
    "gb_grid_search_gastric = gradient_boosting(x_train_gastric, y_train_gastric, feature_selection_num)"
   ]
  },
  {
   "cell_type": "code",
   "execution_count": 398,
   "metadata": {
    "collapsed": false
   },
   "outputs": [
    {
     "name": "stdout",
     "output_type": "stream",
     "text": [
      "Training Accuracy: 0.9976984874160546\n",
      "Best Parameters: {'estimator__learning_rate': 0.5, 'estimator__n_estimators': 50, 'skb__k': 500}\n",
      "Testing Accuracy: 0.9992922859164898\n",
      "Confusion Matrix:\n",
      "[[1128    1]\n",
      " [   0  284]]\n",
      "['hsa-miR-1228-5p', 'hsa-miR-6784-5p', 'hsa-miR-6787-5p', 'hsa-miR-4454', 'hsa-miR-6079', 'hsa-miR-1290', 'hsa-miR-6800-5p', 'hsa-miR-614', 'hsa-miR-744-5p', 'hsa-miR-605-3p', 'hsa-miR-128-1-5p', 'hsa-miR-1469', 'hsa-miR-4530', 'hsa-miR-4705', 'hsa-miR-1343-3p', 'hsa-miR-4286', 'hsa-miR-619-3p', 'hsa-miR-454-3p', 'hsa-miR-4781-3p', 'hsa-miR-6131', 'hsa-miR-4481', 'hsa-miR-4708-3p', 'hsa-miR-548ad-5p, hsa-miR-548ae-5p', 'hsa-miR-1246', 'hsa-miR-548n', 'hsa-miR-4740-5p', 'hsa-miR-3115', 'hsa-miR-320d', 'hsa-miR-548al', 'hsa-miR-4755-3p', 'hsa-miR-4525', 'hsa-miR-548au-3p', 'hsa-miR-3613-5p', 'hsa-miR-6073', 'hsa-miR-6717-5p', 'hsa-miR-3136-3p', 'hsa-miR-8073', 'hsa-miR-5582-5p', 'hsa-miR-26a-5p', 'hsa-miR-4477b', 'hsa-miR-5100', 'hsa-miR-4666a-5p', 'hsa-miR-6769a-5p', 'hsa-miR-1273g-3p', 'hsa-miR-4730', 'hsa-miR-6765-5p', 'hsa-miR-4718', 'hsa-miR-3917', 'hsa-miR-6789-5p', 'hsa-miR-4294', 'hsa-miR-3658', 'hsa-miR-6877-5p', 'hsa-miR-4783-3p', 'hsa-miR-99a-5p', 'hsa-miR-940', 'hsa-miR-937-5p', 'hsa-miR-92b-5p', 'hsa-miR-92b-3p', 'hsa-miR-92a-3p', 'hsa-miR-92a-2-5p', 'hsa-miR-924', 'hsa-miR-922', 'hsa-miR-920', 'hsa-miR-891b', 'hsa-miR-889-3p', 'hsa-miR-888-3p', 'hsa-miR-887-3p', 'hsa-miR-885-3p', 'hsa-miR-875-5p', 'hsa-miR-8076', 'hsa-miR-8069', 'hsa-miR-8061', 'hsa-miR-8060', 'hsa-miR-8059', 'hsa-miR-8052', 'hsa-miR-7977', 'hsa-miR-7975', 'hsa-miR-7852-3p', 'hsa-miR-759', 'hsa-miR-7110-5p', 'hsa-miR-7108-3p', 'hsa-miR-7-5p', 'hsa-miR-6888-3p', 'hsa-miR-6887-5p', 'hsa-miR-6885-5p', 'hsa-miR-6875-5p', 'hsa-miR-6872-3p', 'hsa-miR-6861-5p', 'hsa-miR-6857-5p', 'hsa-miR-6844', 'hsa-miR-6840-3p', 'hsa-miR-6839-3p', 'hsa-miR-6838-3p', 'hsa-miR-6829-5p', 'hsa-miR-6826-5p', 'hsa-miR-6825-5p', 'hsa-miR-6822-5p', 'hsa-miR-6816-5p', 'hsa-miR-6812-5p', 'hsa-miR-6805-5p']\n",
      "[0.9846125124119842, 0.00674614706376157, 0.005461398723879527, 0.001834961591506859, 0.0007998229207314683, 0.0002451922348409937, 0.00010746196938486075, 8.505037050761544e-05, 4.134172988108768e-05, 3.727556998988184e-05, 1.3305772829209252e-05, 5.639962299664855e-06, 4.8134100991690735e-06, 1.753643634236112e-06, 1.4635583005923763e-06, 7.335733764123693e-07, 6.414719203743835e-07, 2.3516801071159658e-07, 8.633590700587414e-08, 7.237870242145803e-08, 3.172187695413349e-08, 2.6606703610031033e-08, 1.1661090207970036e-08, 9.783623612224283e-09, 4.287931311412208e-09, 3.5982058822890346e-09, 1.5770087103592021e-09, 5.800525491200681e-10, 2.1336788091547798e-10, 6.587935207121112e-11, 2.423511397920421e-11, 1.0621678448183044e-11, 3.907443815127287e-12, 1.4374563511416905e-12, 1.2065627715694238e-12, 5.288079848999148e-13, 4.4386828685088897e-13, 1.9453699373242348e-13, 7.156602839895352e-14, 2.6327641047509017e-14, 2.2098820179252876e-14, 9.685391297505503e-15, 3.563054869797422e-15, 1.3107743071756032e-15, 5.475070530493072e-16, 4.822068463911922e-16, 4.0475364392196473e-16, 1.270456932008763e-16, 1.2682852107579777e-16, 7.130334863791049e-17, 6.920549758736927e-17, 4.8716993773912086e-17, 7.598903791559926e-18, 0.0, 0.0, 0.0, 0.0, 0.0, 0.0, 0.0, 0.0, 0.0, 0.0, 0.0, 0.0, 0.0, 0.0, 0.0, 0.0, 0.0, 0.0, 0.0, 0.0, 0.0, 0.0, 0.0, 0.0, 0.0, 0.0, 0.0, 0.0, 0.0, 0.0, 0.0, 0.0, 0.0, 0.0, 0.0, 0.0, 0.0, 0.0, 0.0, 0.0, 0.0, 0.0, 0.0, 0.0, 0.0, 0.0, 0.0]\n"
     ]
    }
   ],
   "source": [
    "get_gb_metrics(gb_grid_search_gastric, x_test_gastric, y_test_gastric)\n",
    "gb_top_importance_gastric, gb_top_features_gastric = get_top_gb_features(gb_grid_search_gastric, feature_names_gastric, feature_importance_num)\n",
    "print(gb_top_features_gastric)\n",
    "print(gb_top_importance_gastric)"
   ]
  },
  {
   "cell_type": "markdown",
   "metadata": {
    "collapsed": false
   },
   "source": [
    "Prostate Cancer"
   ]
  },
  {
   "cell_type": "code",
   "execution_count": 399,
   "metadata": {
    "collapsed": false
   },
   "outputs": [
    {
     "name": "stdout",
     "output_type": "stream",
     "text": [
      "      ID_REF  hsa-miR-28-3p  hsa-miR-27a-5p  hsa-miR-518b  hsa-miR-520b  \\\n",
      "8269       0       4.854582       -0.300574      5.839072      4.140201   \n",
      "8270       0       2.792939       -3.260724      1.681541     -3.260724   \n",
      "8271       0       3.603448        1.875933     -0.914627      4.476280   \n",
      "8272       0      -1.586508       -1.586508     -1.586508     -1.586508   \n",
      "8273       0      -0.897651       -0.897651     -0.897651     -0.897651   \n",
      "...      ...            ...             ...           ...           ...   \n",
      "16185      1       3.686871        5.402453      5.126641      6.142145   \n",
      "16186      1       0.121448        0.121448      0.121448      0.121448   \n",
      "16187      1      -0.661008        4.343310      4.541016      3.901700   \n",
      "16188      1      -1.769902       -1.769902      0.133393      2.717976   \n",
      "16189      1       2.596167       -0.620166      3.208942      1.720689   \n",
      "\n",
      "       hsa-miR-498  hsa-miR-512-3p  hsa-miR-491-5p  hsa-miR-490-3p  \\\n",
      "8269      6.209651        4.792067        5.526395        3.726077   \n",
      "8270      5.595986        0.756060        4.158165       -3.260724   \n",
      "8271      5.813769        3.279690        5.804852        4.289254   \n",
      "8272      5.735071       -1.586508        2.050784       -1.586508   \n",
      "8273      5.766205       -0.897651        6.307356       -0.897651   \n",
      "...            ...             ...             ...             ...   \n",
      "16185     6.842370        6.165349        6.051800        6.026886   \n",
      "16186     5.652367        0.121448        1.570305        4.607097   \n",
      "16187     6.052224        3.143318        6.175194        4.004459   \n",
      "16188     5.759201       -1.769902        5.818877        3.199135   \n",
      "16189     6.087204        3.173542        4.639237        4.111498   \n",
      "\n",
      "       hsa-miR-452-5p  ...  hsa-miR-3606-3p  hsa-miR-1292-3p  hsa-miR-6889-5p  \\\n",
      "8269         3.909876  ...        -0.300574         6.429979         7.736021   \n",
      "8270        -3.260724  ...        -3.260724         4.704081         7.777819   \n",
      "8271        -0.003694  ...         2.777414         6.351904         7.784670   \n",
      "8272        -1.586508  ...        -1.586508         6.826175         8.013305   \n",
      "8273        -0.897651  ...        -0.897651         6.303133         7.611737   \n",
      "...               ...  ...              ...              ...              ...   \n",
      "16185        4.562812  ...         4.080863         6.172370         6.643147   \n",
      "16186        0.121448  ...         2.925152         6.369622         8.059979   \n",
      "16187        5.046802  ...        -0.661008         5.439325         6.856461   \n",
      "16188        0.937268  ...        -1.769902         5.705524         7.238400   \n",
      "16189        2.955388  ...        -1.304801         5.507057         7.373321   \n",
      "\n",
      "       hsa-miR-6888-3p  hsa-miR-6881-5p  hsa-miR-6880-3p  hsa-miR-6873-5p  \\\n",
      "8269         -0.300574        -0.300574         6.731683        -0.300574   \n",
      "8270         -3.260724        -3.260724         5.252355        -3.260724   \n",
      "8271         -0.914627        -0.914627         5.956876        -0.914627   \n",
      "8272         -1.586508        -1.586508         6.312852        -1.586508   \n",
      "8273         -0.897651        -0.897651         6.305136        -0.897651   \n",
      "...                ...              ...              ...              ...   \n",
      "16185         5.555165        -0.503157         6.799860         1.795279   \n",
      "16186         1.264016         5.001446         5.835754         5.598083   \n",
      "16187        -0.661008        -0.661008         5.347483        -0.661008   \n",
      "16188        -1.769902         1.218126         6.321042        -1.769902   \n",
      "16189        -1.304801         3.146592         6.522896         3.585249   \n",
      "\n",
      "       hsa-miR-6872-3p  hsa-miR-6865-5p  hsa-miR-6864-3p  \n",
      "8269          5.088141         3.052203         4.727940  \n",
      "8270          4.508953         4.484994         1.822562  \n",
      "8271          6.584030         4.927441         2.086781  \n",
      "8272          5.406244         4.238886        -1.586508  \n",
      "8273          6.022868         4.092983        -0.897651  \n",
      "...                ...              ...              ...  \n",
      "16185         6.179358         6.024602         6.385547  \n",
      "16186         6.681475         7.222786         5.258912  \n",
      "16187         6.169932         4.790708        -0.661008  \n",
      "16188         5.836634         5.380613         2.970555  \n",
      "16189         5.907935         5.817837        -1.304801  \n",
      "\n",
      "[6670 rows x 2566 columns] \n",
      "\n",
      "Prostate Cancer Sample Number: 1027\n",
      "Non-Cancer Sample Number: 5643\n",
      "All Sample Number: 6670\n"
     ]
    }
   ],
   "source": [
    "prostate_cancer_dataset = dataset.copy()\n",
    "\n",
    "prostate_cancer_dataset.loc[prostate_cancer_dataset[\"ID_REF\"] == \"Prostate Cancer\", \"ID_REF\"] = 1\n",
    "prostate_cancer_dataset.loc[prostate_cancer_dataset[\"ID_REF\"] == \"No Cancer\", \"ID_REF\"] = 0\n",
    "prostate_cancer_dataset = prostate_cancer_dataset[(prostate_cancer_dataset[\"ID_REF\"] == 0) | (prostate_cancer_dataset[\"ID_REF\"] == 1)]\n",
    "\n",
    "print(prostate_cancer_dataset, \"\\n\")\n",
    "print(\"Prostate Cancer Sample Number:\", prostate_cancer_dataset[\"ID_REF\"].value_counts()[1])\n",
    "print(\"Non-Cancer Sample Number:\", prostate_cancer_dataset[\"ID_REF\"].value_counts()[0])\n",
    "print(\"All Sample Number:\", prostate_cancer_dataset[\"ID_REF\"].value_counts()[1] + prostate_cancer_dataset[\"ID_REF\"].value_counts()[0])\n",
    "\n",
    "x_train_prostate, y_train_prostate, x_test_prostate, y_test_prostate, feature_names_prostate = process_data(prostate_cancer_dataset)"
   ]
  },
  {
   "cell_type": "code",
   "execution_count": 400,
   "metadata": {
    "collapsed": false
   },
   "outputs": [],
   "source": [
    "svm_grid_search_prostate = support_vector_machine(x_train_prostate, y_train_prostate, feature_selection_num)"
   ]
  },
  {
   "cell_type": "code",
   "execution_count": 401,
   "metadata": {
    "collapsed": false
   },
   "outputs": [
    {
     "name": "stdout",
     "output_type": "stream",
     "text": [
      "Training Accuracy: 0.999625468164794\n",
      "Best Parameters: {'estimator__C': 0.25, 'estimator__kernel': 'linear', 'skb__k': 500}\n",
      "Testing Accuracy: 1.0\n",
      "Confusion Matrix:\n",
      "[[1129    0]\n",
      " [   0  205]]\n",
      "['hsa-miR-4783-3p', 'hsa-miR-125b-1-3p', 'hsa-miR-125a-3p', 'hsa-miR-1307-3p', 'hsa-miR-4730', 'hsa-miR-4648', 'hsa-miR-1203', 'hsa-miR-4532', 'hsa-miR-3194-5p', 'hsa-miR-6131', 'hsa-miR-6073', 'hsa-miR-1246', 'hsa-miR-3184-5p', 'hsa-miR-744-5p', 'hsa-miR-663a', 'hsa-miR-4674', 'hsa-miR-1185-2-3p', 'hsa-miR-1185-1-3p', 'hsa-miR-602', 'hsa-miR-575', 'hsa-miR-17-3p', 'hsa-miR-668-5p', 'hsa-miR-1469', 'hsa-miR-6736-5p', 'hsa-miR-191-5p', 'hsa-miR-124-3p', 'hsa-miR-6869-5p', 'hsa-miR-4276', 'hsa-miR-873-3p', 'hsa-miR-887-3p', 'hsa-miR-642b-3p', 'hsa-miR-103a-3p', 'hsa-miR-1233-5p', 'hsa-miR-1290', 'hsa-miR-6784-5p', 'hsa-miR-6800-5p', 'hsa-miR-4489', 'hsa-miR-6132', 'hsa-miR-92a-2-5p', 'hsa-miR-92b-5p', 'hsa-miR-128-1-5p', 'hsa-miR-6727-5p', 'hsa-miR-4668-5p', 'hsa-miR-8069', 'hsa-miR-514a-3p', 'hsa-miR-145-3p', 'hsa-miR-5090', 'hsa-miR-6857-5p', 'hsa-miR-6781-5p', 'hsa-miR-6739-5p', 'hsa-miR-4428', 'hsa-miR-3942-5p', 'hsa-miR-1197', 'hsa-miR-4795-5p', 'hsa-miR-4477a', 'hsa-miR-219a-1-3p', 'hsa-miR-4535', 'hsa-miR-1245b-3p', 'hsa-miR-3940-5p', 'hsa-miR-6088', 'hsa-miR-151a-5p', 'hsa-miR-6771-5p', 'hsa-miR-4505', 'hsa-miR-8073', 'hsa-miR-3925-3p', 'hsa-miR-340-5p', 'hsa-miR-4659a-3p', 'hsa-miR-4666a-5p', 'hsa-miR-4690-5p', 'hsa-miR-23a-3p', 'hsa-miR-3684', 'hsa-miR-548at-3p', 'hsa-miR-3135b', 'hsa-miR-3194-3p', 'hsa-miR-135a-3p', 'hsa-miR-3178', 'hsa-miR-1228-5p', 'hsa-miR-1909-3p', 'hsa-miR-548b-3p', 'hsa-miR-6729-5p', 'hsa-miR-7704', 'hsa-miR-548j-3p', 'hsa-miR-6825-5p', 'hsa-miR-885-3p', 'hsa-miR-6838-3p', 'hsa-miR-3668', 'hsa-miR-4734', 'hsa-miR-658', 'hsa-miR-4685-5p', 'hsa-miR-4736', 'hsa-miR-6844', 'hsa-miR-4662b', 'hsa-miR-6805-5p', 'hsa-miR-548ad-5p, hsa-miR-548ae-5p', 'hsa-miR-5681a', 'hsa-miR-6877-5p', 'hsa-miR-4720-5p', 'hsa-miR-4778-5p', 'hsa-miR-562', 'hsa-miR-4774-3p']\n",
      "[0.047706377686213226, 0.04627220834455273, 0.04474974639823045, 0.04281753213296423, 0.04227155173645676, 0.035398491631776344, 0.03523139342850128, 0.030113186461718004, 0.0286162273996634, 0.02839894932360037, 0.027911872613676815, 0.027842366785942443, 0.02563040798473921, 0.024535600163126607, 0.024219044578678753, 0.022681909963181042, 0.022421868501374523, 0.02205986599461095, 0.021855156060758184, 0.021465477778930674, 0.02093896162550023, 0.01991871964381329, 0.019587756983026408, 0.019423505949240402, 0.01937031720782237, 0.019318856481989645, 0.01909081731205102, 0.019006917107387465, 0.01886642153096056, 0.01814999083729924, 0.017959444472203122, 0.01793498429483304, 0.017636266404006506, 0.01737827411212376, 0.01736139378625802, 0.017312347664370634, 0.01727508886147322, 0.017019710054527716, 0.01678075619838572, 0.016282888815187652, 0.016268255847345047, 0.016231677701105132, 0.016122841007484838, 0.015869265822594392, 0.015633927327191394, 0.015616335527611524, 0.015547531046190055, 0.015433174946569529, 0.015363931834046916, 0.015101112931979363, 0.014996796998297222, 0.014960348849605908, 0.014936474404578308, 0.014516220322728668, 0.014064464724574836, 0.013867969454388882, 0.013758276377531428, 0.013704471898507334, 0.01343747773709321, 0.01338543614722628, 0.013113448901768477, 0.01307046290619221, 0.013037268624464976, 0.01301080854752445, 0.012981711197291896, 0.012914030333614785, 0.012904873427725371, 0.012882261259642909, 0.012809221591981168, 0.012756795608035377, 0.012656975984671016, 0.01235639636394328, 0.012314739253568865, 0.012294391094443947, 0.012267267733451756, 0.012255097755431203, 0.01218795474983473, 0.012179693541532251, 0.012083995140628074, 0.012077756987869392, 0.012034608840076483, 0.012014718802454222, 0.011950608916702788, 0.011945949833877034, 0.011839140144004948, 0.011439375701609938, 0.011374932118284165, 0.011314719941634495, 0.01130193553910016, 0.011246086707199232, 0.01122372078348788, 0.01111535497904559, 0.011104107649908088, 0.01100871617293677, 0.011008281518020732, 0.010966046428545127, 0.010892078381632812, 0.010815242905643235, 0.01080152474354802, 0.010740516350212614]\n"
     ]
    }
   ],
   "source": [
    "get_svm_metrics(svm_grid_search_prostate, x_test_prostate, y_test_prostate)\n",
    "svm_top_coef_prostate, svm_top_features_prostate = get_top_svm_features(svm_grid_search_prostate, feature_names_prostate, feature_importance_num)\n",
    "print(svm_top_features_prostate)\n",
    "print(svm_top_coef_prostate)"
   ]
  },
  {
   "cell_type": "code",
   "execution_count": 402,
   "metadata": {
    "collapsed": false
   },
   "outputs": [
    {
     "name": "stderr",
     "output_type": "stream",
     "text": [
      "/Users/thomastseng/Documents/Pioneer Computational Medicine/Classifiers/venv/lib/python3.9/site-packages/sklearn/model_selection/_validation.py:425: FitFailedWarning: \n",
      "40 fits failed out of a total of 120.\n",
      "The score on these train-test partitions for these parameters will be set to nan.\n",
      "If these failures are not expected, you can try to debug them by setting error_score='raise'.\n",
      "\n",
      "Below are more details about the failures:\n",
      "--------------------------------------------------------------------------------\n",
      "18 fits failed with the following error:\n",
      "Traceback (most recent call last):\n",
      "  File \"/Users/thomastseng/Documents/Pioneer Computational Medicine/Classifiers/venv/lib/python3.9/site-packages/sklearn/model_selection/_validation.py\", line 732, in _fit_and_score\n",
      "    estimator.fit(X_train, y_train, **fit_params)\n",
      "  File \"/Users/thomastseng/Documents/Pioneer Computational Medicine/Classifiers/venv/lib/python3.9/site-packages/sklearn/base.py\", line 1151, in wrapper\n",
      "    return fit_method(estimator, *args, **kwargs)\n",
      "  File \"/Users/thomastseng/Documents/Pioneer Computational Medicine/Classifiers/venv/lib/python3.9/site-packages/sklearn/pipeline.py\", line 420, in fit\n",
      "    self._final_estimator.fit(Xt, y, **fit_params_last_step)\n",
      "  File \"/Users/thomastseng/Documents/Pioneer Computational Medicine/Classifiers/venv/lib/python3.9/site-packages/sklearn/base.py\", line 1144, in wrapper\n",
      "    estimator._validate_params()\n",
      "  File \"/Users/thomastseng/Documents/Pioneer Computational Medicine/Classifiers/venv/lib/python3.9/site-packages/sklearn/base.py\", line 637, in _validate_params\n",
      "    validate_parameter_constraints(\n",
      "  File \"/Users/thomastseng/Documents/Pioneer Computational Medicine/Classifiers/venv/lib/python3.9/site-packages/sklearn/utils/_param_validation.py\", line 95, in validate_parameter_constraints\n",
      "    raise InvalidParameterError(\n",
      "sklearn.utils._param_validation.InvalidParameterError: The 'max_features' parameter of RandomForestClassifier must be an int in the range [1, inf), a float in the range (0.0, 1.0], a str among {'sqrt', 'log2'} or None. Got 'auto' instead.\n",
      "\n",
      "--------------------------------------------------------------------------------\n",
      "22 fits failed with the following error:\n",
      "Traceback (most recent call last):\n",
      "  File \"/Users/thomastseng/Documents/Pioneer Computational Medicine/Classifiers/venv/lib/python3.9/site-packages/sklearn/model_selection/_validation.py\", line 732, in _fit_and_score\n",
      "    estimator.fit(X_train, y_train, **fit_params)\n",
      "  File \"/Users/thomastseng/Documents/Pioneer Computational Medicine/Classifiers/venv/lib/python3.9/site-packages/sklearn/base.py\", line 1151, in wrapper\n",
      "    return fit_method(estimator, *args, **kwargs)\n",
      "  File \"/Users/thomastseng/Documents/Pioneer Computational Medicine/Classifiers/venv/lib/python3.9/site-packages/sklearn/pipeline.py\", line 420, in fit\n",
      "    self._final_estimator.fit(Xt, y, **fit_params_last_step)\n",
      "  File \"/Users/thomastseng/Documents/Pioneer Computational Medicine/Classifiers/venv/lib/python3.9/site-packages/sklearn/base.py\", line 1144, in wrapper\n",
      "    estimator._validate_params()\n",
      "  File \"/Users/thomastseng/Documents/Pioneer Computational Medicine/Classifiers/venv/lib/python3.9/site-packages/sklearn/base.py\", line 637, in _validate_params\n",
      "    validate_parameter_constraints(\n",
      "  File \"/Users/thomastseng/Documents/Pioneer Computational Medicine/Classifiers/venv/lib/python3.9/site-packages/sklearn/utils/_param_validation.py\", line 95, in validate_parameter_constraints\n",
      "    raise InvalidParameterError(\n",
      "sklearn.utils._param_validation.InvalidParameterError: The 'max_features' parameter of RandomForestClassifier must be an int in the range [1, inf), a float in the range (0.0, 1.0], a str among {'log2', 'sqrt'} or None. Got 'auto' instead.\n",
      "\n",
      "  warnings.warn(some_fits_failed_message, FitFailedWarning)\n",
      "/Users/thomastseng/Documents/Pioneer Computational Medicine/Classifiers/venv/lib/python3.9/site-packages/sklearn/model_selection/_search.py:976: UserWarning: One or more of the test scores are non-finite: [       nan        nan 0.9994375  0.9994375  0.99868773 0.99906227\n",
      "        nan        nan 0.99943715 0.99981238 0.99850012 0.99887465]\n",
      "  warnings.warn(\n"
     ]
    }
   ],
   "source": [
    "rf_grid_search_prostate = random_forest(x_train_prostate, y_train_prostate, feature_selection_num)"
   ]
  },
  {
   "cell_type": "code",
   "execution_count": 403,
   "metadata": {
    "collapsed": false
   },
   "outputs": [
    {
     "name": "stdout",
     "output_type": "stream",
     "text": [
      "Training Accuracy: 0.999812382739212\n",
      "Best Parameters: {'estimator__criterion': 'entropy', 'estimator__max_features': 'sqrt', 'estimator__n_estimators': 500, 'skb__k': 500}\n",
      "Testing Accuracy: 1.0\n",
      "Confusion Matrix:\n",
      "[[1129    0]\n",
      " [   0  205]]\n",
      "['hsa-miR-1307-3p', 'hsa-miR-4783-3p', 'hsa-miR-3184-5p', 'hsa-miR-3940-5p', 'hsa-miR-8073', 'hsa-miR-1238-5p', 'hsa-miR-6802-5p', 'hsa-miR-1228-5p', 'hsa-miR-6784-5p', 'hsa-miR-1203', 'hsa-miR-320a', 'hsa-miR-6787-5p', 'hsa-miR-1290', 'hsa-miR-320b', 'hsa-miR-4758-5p', 'hsa-miR-1233-5p', 'hsa-miR-6805-5p', 'hsa-miR-4532', 'hsa-miR-663a', 'hsa-miR-191-5p', 'hsa-miR-4730', 'hsa-miR-885-3p', 'hsa-miR-4419b', 'hsa-miR-1469', 'hsa-miR-17-3p', 'hsa-miR-6717-5p', 'hsa-miR-4690-5p', 'hsa-miR-4489', 'hsa-miR-6766-5p', 'hsa-miR-1246', 'hsa-miR-5100', 'hsa-miR-4675', 'hsa-miR-6769a-5p', 'hsa-miR-6861-5p', 'hsa-miR-6088', 'hsa-miR-197-5p', 'hsa-miR-6729-5p', 'hsa-miR-1343-3p', 'hsa-miR-6131', 'hsa-miR-614', 'hsa-miR-6786-5p', 'hsa-miR-342-5p', 'hsa-miR-92a-2-5p', 'hsa-miR-6736-5p', 'hsa-miR-4429', 'hsa-miR-4706', 'hsa-miR-6760-5p', 'hsa-miR-6746-5p', 'hsa-miR-8069', 'hsa-miR-3156-5p', 'hsa-miR-4734', 'hsa-miR-6781-5p', 'hsa-miR-1260b', 'hsa-miR-4687-5p', 'hsa-miR-4259', 'hsa-miR-6765-5p', 'hsa-miR-575', 'hsa-miR-4535', 'hsa-miR-3917', 'hsa-miR-4732-5p', 'hsa-miR-513c-3p', 'hsa-miR-4454', 'hsa-miR-6839-5p', 'hsa-miR-4727-3p', 'hsa-miR-320e', 'hsa-miR-6798-5p', 'hsa-miR-3683', 'hsa-miR-6800-5p', 'hsa-miR-1343-5p', 'hsa-miR-6756-5p', 'hsa-miR-4286', 'hsa-miR-4447', 'hsa-miR-4646-5p', 'hsa-miR-3686', 'hsa-miR-3658', 'hsa-miR-4428', 'hsa-miR-4787-5p', 'hsa-miR-128-1-5p', 'hsa-miR-548au-5p', 'hsa-miR-3613-5p', 'hsa-miR-4795-5p', 'hsa-miR-642b-3p', 'hsa-miR-125a-3p', 'hsa-miR-3923', 'hsa-miR-1268a', 'hsa-miR-320c', 'hsa-miR-4771', 'hsa-miR-8061', 'hsa-miR-3117-5p', 'hsa-miR-92b-5p', 'hsa-miR-887-3p', 'hsa-miR-4787-3p', 'hsa-miR-6825-5p', 'hsa-miR-1909-3p', 'hsa-miR-6771-5p', 'hsa-miR-4648', 'hsa-miR-4417', 'hsa-miR-3178', 'hsa-miR-6875-5p', 'hsa-miR-3180']\n",
      "[0.0679536398196394, 0.05340271214817294, 0.04875308288095211, 0.04538723215201334, 0.03972371038711512, 0.0390272816495976, 0.036661809596480605, 0.036599544397258224, 0.030054294891374504, 0.02754209751164185, 0.026375337139849436, 0.02574853087393267, 0.01998244065944485, 0.019883344589589003, 0.019692850348870042, 0.01909732252248969, 0.01815800461510995, 0.01731690455377646, 0.016803725197518438, 0.015383976572311662, 0.015287712227615389, 0.011434366243167274, 0.011080347729147903, 0.010433459534617355, 0.01007494118924468, 0.009914644515309627, 0.009834247431646443, 0.009663066413613664, 0.00923561022289903, 0.00877674199194288, 0.008767901283135508, 0.008190701150727292, 0.007794991220225277, 0.007734742406452314, 0.007667419454258984, 0.0076299377500618805, 0.0076294246956926486, 0.007485028076796769, 0.007400566449926659, 0.006974516829512746, 0.006562936304799842, 0.006143875240230593, 0.005934202296572247, 0.005852907594555439, 0.005812103852561116, 0.005547423268517239, 0.0053204669115034815, 0.004961706638086354, 0.004919410175804381, 0.004764335608870273, 0.004741071583912038, 0.00472487525270952, 0.004496259300524223, 0.0043597984666695596, 0.004218278326640127, 0.004150521773062061, 0.003956698438471784, 0.0036525188412035747, 0.003546847461297218, 0.0033373951285597275, 0.0029090332092580333, 0.0027587962367855434, 0.002708357369384015, 0.002642806651079826, 0.002603780598227604, 0.0023511017041072026, 0.0023452938550614995, 0.0021007097602154107, 0.0019225514051696947, 0.0017897222831404643, 0.0014527864851863936, 0.001441341619052259, 0.0014292917161527893, 0.0013980938089652917, 0.0013477281650098535, 0.001309761889513155, 0.001293406911047953, 0.001263572645653117, 0.0011966835289159404, 0.0011810572079090753, 0.0011581704118713493, 0.0011473811541050068, 0.001141260067810079, 0.0011369263244668363, 0.0011294478978609852, 0.0011219051604530919, 0.0011090483680449553, 0.0010416115592868547, 0.0010270843133375282, 0.0010035677941250996, 0.0009102249900812457, 0.0008671669272098816, 0.0008027695094280214, 0.0008006179301658606, 0.000777751772856959, 0.0007034296774143724, 0.0006824026346462576, 0.0006378053906344988, 0.0006077449529268129, 0.0006054407905376149]\n"
     ]
    }
   ],
   "source": [
    "get_rf_metrics(rf_grid_search_prostate, x_test_prostate, y_test_prostate)\n",
    "rf_top_importance_prostate, rf_top_features_prostate = get_top_rf_features(rf_grid_search_prostate, feature_names_prostate, feature_importance_num)\n",
    "print(rf_top_features_prostate)\n",
    "print(rf_top_importance_prostate)"
   ]
  },
  {
   "cell_type": "code",
   "execution_count": 404,
   "metadata": {
    "collapsed": false
   },
   "outputs": [],
   "source": [
    "gb_grid_search_prostate = gradient_boosting(x_train_prostate, y_train_prostate, feature_selection_num)"
   ]
  },
  {
   "cell_type": "code",
   "execution_count": 405,
   "metadata": {
    "collapsed": false
   },
   "outputs": [
    {
     "name": "stdout",
     "output_type": "stream",
     "text": [
      "Training Accuracy: 0.9962525735888301\n",
      "Best Parameters: {'estimator__learning_rate': 0.5, 'estimator__n_estimators': 50, 'skb__k': 500}\n",
      "Testing Accuracy: 0.9970014992503748\n",
      "Confusion Matrix:\n",
      "[[1127    2]\n",
      " [   2  203]]\n",
      "['hsa-miR-1307-3p', 'hsa-miR-1228-5p', 'hsa-miR-4783-3p', 'hsa-miR-4730', 'hsa-miR-6869-5p', 'hsa-miR-4454', 'hsa-miR-575', 'hsa-miR-3184-5p', 'hsa-miR-6741-5p', 'hsa-miR-744-5p', 'hsa-miR-3684', 'hsa-miR-3192-5p', 'hsa-miR-125b-1-3p', 'hsa-miR-4448', 'hsa-miR-1246', 'hsa-miR-663a', 'hsa-miR-4530', 'hsa-miR-4775', 'hsa-miR-328-5p', 'hsa-miR-5692a', 'hsa-miR-1233-5p', 'hsa-miR-617', 'hsa-miR-5691', 'hsa-miR-208b-5p', 'hsa-miR-190a-5p', 'hsa-miR-4536-5p', 'hsa-miR-1264', 'hsa-miR-6784-5p', 'hsa-miR-548b-5p', 'hsa-miR-548ad-5p, hsa-miR-548ae-5p', 'hsa-miR-4659a-3p', 'hsa-miR-3940-5p', 'hsa-miR-889-3p', 'hsa-miR-296-5p', 'hsa-miR-6765-5p', 'hsa-miR-3194-5p', 'hsa-miR-92a-2-5p', 'hsa-miR-4690-5p', 'hsa-miR-937-5p', 'hsa-miR-92b-5p', 'hsa-miR-92b-3p', 'hsa-miR-92a-3p', 'hsa-miR-924', 'hsa-miR-920', 'hsa-miR-891b', 'hsa-miR-888-3p', 'hsa-miR-887-3p', 'hsa-miR-885-3p', 'hsa-miR-875-5p', 'hsa-miR-873-3p', 'hsa-miR-8076', 'hsa-miR-8073', 'hsa-miR-8069', 'hsa-miR-8066', 'hsa-miR-8061', 'hsa-miR-8059', 'hsa-miR-8052', 'hsa-miR-7977', 'hsa-miR-7975', 'hsa-miR-7852-3p', 'hsa-miR-7847-3p', 'hsa-miR-7704', 'hsa-miR-7110-5p', 'hsa-miR-7107-5p', 'hsa-miR-6888-3p', 'hsa-miR-6887-5p', 'hsa-miR-6880-3p', 'hsa-miR-6877-5p', 'hsa-miR-6875-5p', 'hsa-miR-6872-3p', 'hsa-miR-6861-5p', 'hsa-miR-6858-5p', 'hsa-miR-6857-5p', 'hsa-miR-6850-5p', 'hsa-miR-6844', 'hsa-miR-6839-5p', 'hsa-miR-6839-3p', 'hsa-miR-6838-3p', 'hsa-miR-6832-5p', 'hsa-miR-6829-5p', 'hsa-miR-6826-5p', 'hsa-miR-6825-5p', 'hsa-miR-6821-5p', 'hsa-miR-6819-5p', 'hsa-miR-6816-5p', 'hsa-miR-6812-5p', 'hsa-miR-6805-5p', 'hsa-miR-6802-5p', 'hsa-miR-6800-5p', 'hsa-miR-6798-5p', 'hsa-miR-6795-5p', 'hsa-miR-6787-5p', 'hsa-miR-6786-5p', 'hsa-miR-6781-5p', 'hsa-miR-6777-5p', 'hsa-miR-6775-5p', 'hsa-miR-6771-5p', 'hsa-miR-6769a-5p', 'hsa-miR-6768-5p', 'hsa-miR-6766-5p']\n",
      "[0.9230633553521599, 0.030859842120519572, 0.021617698876425496, 0.011839042069852588, 0.0042129874883450715, 0.003488155416663134, 0.002911028521604103, 0.0008902839801629131, 0.0004914115398422793, 0.0002474757300698214, 0.00010045178332615183, 9.422454756959047e-05, 6.062085872515489e-05, 3.301786564791655e-05, 3.272417587016044e-05, 3.023441781338266e-05, 2.6500117466378503e-05, 4.6761301477831853e-07, 2.503012826326977e-07, 1.7166636332868371e-07, 5.547568575231996e-08, 5.740743471048282e-11, 2.1118531459446345e-11, 2.85801867699e-12, 1.4229093614958466e-13, 5.2345850412400037e-14, 7.084232623854866e-15, 1.8928358926353064e-15, 9.587462373331912e-16, 3.737604018249101e-16, 2.61720069018623e-16, 2.1018193028682112e-16, 1.7508114987874808e-16, 1.0538577555963123e-16, 6.159632834837975e-17, 6.097541348076877e-17, 2.2426840227976343e-17, 8.431193328508782e-18, 0.0, 0.0, 0.0, 0.0, 0.0, 0.0, 0.0, 0.0, 0.0, 0.0, 0.0, 0.0, 0.0, 0.0, 0.0, 0.0, 0.0, 0.0, 0.0, 0.0, 0.0, 0.0, 0.0, 0.0, 0.0, 0.0, 0.0, 0.0, 0.0, 0.0, 0.0, 0.0, 0.0, 0.0, 0.0, 0.0, 0.0, 0.0, 0.0, 0.0, 0.0, 0.0, 0.0, 0.0, 0.0, 0.0, 0.0, 0.0, 0.0, 0.0, 0.0, 0.0, 0.0, 0.0, 0.0, 0.0, 0.0, 0.0, 0.0, 0.0, 0.0, 0.0]\n"
     ]
    }
   ],
   "source": [
    "get_gb_metrics(gb_grid_search_prostate, x_test_prostate, y_test_prostate)\n",
    "gb_top_importance_prostate, gb_top_features_prostate = get_top_gb_features(gb_grid_search_prostate, feature_names_prostate, feature_importance_num)\n",
    "print(gb_top_features_prostate)\n",
    "print(gb_top_importance_prostate)"
   ]
  },
  {
   "cell_type": "markdown",
   "metadata": {
    "collapsed": false
   },
   "source": [
    "Pancreatic Cancer"
   ]
  },
  {
   "cell_type": "code",
   "execution_count": 406,
   "metadata": {
    "collapsed": false
   },
   "outputs": [
    {
     "name": "stdout",
     "output_type": "stream",
     "text": [
      "      ID_REF  hsa-miR-28-3p  hsa-miR-27a-5p  hsa-miR-518b  hsa-miR-520b  \\\n",
      "8269       0       4.854582       -0.300574      5.839072      4.140201   \n",
      "8270       0       2.792939       -3.260724      1.681541     -3.260724   \n",
      "8271       0       3.603448        1.875933     -0.914627      4.476280   \n",
      "8272       0      -1.586508       -1.586508     -1.586508     -1.586508   \n",
      "8273       0      -0.897651       -0.897651     -0.897651     -0.897651   \n",
      "...      ...            ...             ...           ...           ...   \n",
      "15158      1       0.551267        0.551267      4.935549      0.551267   \n",
      "15159      1      -0.962073        2.523465      2.636927      2.313804   \n",
      "15160      1       4.216940        4.928627      3.498331      2.448755   \n",
      "15161      1      -1.112312       -1.112312     -1.112312     -1.112312   \n",
      "15162      1       3.624010        1.995368      5.029056      3.416968   \n",
      "\n",
      "       hsa-miR-498  hsa-miR-512-3p  hsa-miR-491-5p  hsa-miR-490-3p  \\\n",
      "8269      6.209651        4.792067        5.526395        3.726077   \n",
      "8270      5.595986        0.756060        4.158165       -3.260724   \n",
      "8271      5.813769        3.279690        5.804852        4.289254   \n",
      "8272      5.735071       -1.586508        2.050784       -1.586508   \n",
      "8273      5.766205       -0.897651        6.307356       -0.897651   \n",
      "...            ...             ...             ...             ...   \n",
      "15158     6.181945        5.067984        4.733358        0.551267   \n",
      "15159     5.422057       -2.321183        5.057982       -2.321183   \n",
      "15160     5.778885        3.669930        5.255774        5.273443   \n",
      "15161     5.537236       -1.112312        5.183400       -1.112312   \n",
      "15162     6.880736        4.350161        5.642421        4.139476   \n",
      "\n",
      "       hsa-miR-452-5p  ...  hsa-miR-3606-3p  hsa-miR-1292-3p  hsa-miR-6889-5p  \\\n",
      "8269         3.909876  ...        -0.300574         6.429979         7.736021   \n",
      "8270        -3.260724  ...        -3.260724         4.704081         7.777819   \n",
      "8271        -0.003694  ...         2.777414         6.351904         7.784670   \n",
      "8272        -1.586508  ...        -1.586508         6.826175         8.013305   \n",
      "8273        -0.897651  ...        -0.897651         6.303133         7.611737   \n",
      "...               ...  ...              ...              ...              ...   \n",
      "15158        5.548277  ...         6.012883         7.619036         7.254448   \n",
      "15159        4.000388  ...         2.325195         6.384294         6.503014   \n",
      "15160        4.310102  ...        -0.369318         6.510808         7.290721   \n",
      "15161       -1.112312  ...        -1.112312         5.484472         6.017595   \n",
      "15162        5.262752  ...        -0.581877         7.239265         7.064611   \n",
      "\n",
      "       hsa-miR-6888-3p  hsa-miR-6881-5p  hsa-miR-6880-3p  hsa-miR-6873-5p  \\\n",
      "8269         -0.300574        -0.300574         6.731683        -0.300574   \n",
      "8270         -3.260724        -3.260724         5.252355        -3.260724   \n",
      "8271         -0.914627        -0.914627         5.956876        -0.914627   \n",
      "8272         -1.586508        -1.586508         6.312852        -1.586508   \n",
      "8273         -0.897651        -0.897651         6.305136        -0.897651   \n",
      "...                ...              ...              ...              ...   \n",
      "15158         5.146184         6.220558         7.668940         5.931225   \n",
      "15159         0.700954         4.173035         6.260801         2.174990   \n",
      "15160         5.138830        -0.369318         6.386050        -0.369318   \n",
      "15161        -1.112312        -1.112312         4.323756        -1.112312   \n",
      "15162        -0.581877         1.484532         6.706134         2.557257   \n",
      "\n",
      "       hsa-miR-6872-3p  hsa-miR-6865-5p  hsa-miR-6864-3p  \n",
      "8269          5.088141         3.052203         4.727940  \n",
      "8270          4.508953         4.484994         1.822562  \n",
      "8271          6.584030         4.927441         2.086781  \n",
      "8272          5.406244         4.238886        -1.586508  \n",
      "8273          6.022868         4.092983        -0.897651  \n",
      "...                ...              ...              ...  \n",
      "15158         6.765467         6.760080         7.229742  \n",
      "15159         5.694611         5.759656         2.690846  \n",
      "15160         5.399677         5.695301         5.248238  \n",
      "15161         4.841051         2.349270        -1.112312  \n",
      "15162         6.424080         5.779308         5.049300  \n",
      "\n",
      "[6494 rows x 2566 columns] \n",
      "\n",
      "Pancreatic Cancer Sample Number: 851\n",
      "Non-Cancer Sample Number: 5643\n",
      "All Sample Number: 6494\n"
     ]
    }
   ],
   "source": [
    "pancreatic_cancer_dataset = dataset.copy()\n",
    "\n",
    "pancreatic_cancer_dataset.loc[pancreatic_cancer_dataset[\"ID_REF\"] == \"Pancreatic Cancer\", \"ID_REF\"] = 1\n",
    "pancreatic_cancer_dataset.loc[pancreatic_cancer_dataset[\"ID_REF\"] == \"No Cancer\", \"ID_REF\"] = 0\n",
    "pancreatic_cancer_dataset = pancreatic_cancer_dataset[(pancreatic_cancer_dataset[\"ID_REF\"] == 0) | (pancreatic_cancer_dataset[\"ID_REF\"] == 1)]\n",
    "\n",
    "print(pancreatic_cancer_dataset, \"\\n\")\n",
    "print(\"Pancreatic Cancer Sample Number:\", pancreatic_cancer_dataset[\"ID_REF\"].value_counts()[1])\n",
    "print(\"Non-Cancer Sample Number:\", pancreatic_cancer_dataset[\"ID_REF\"].value_counts()[0])\n",
    "print(\"All Sample Number:\", pancreatic_cancer_dataset[\"ID_REF\"].value_counts()[1] + pancreatic_cancer_dataset[\"ID_REF\"].value_counts()[0])\n",
    "\n",
    "x_train_pancreatic, y_train_pancreatic, x_test_pancreatic, y_test_pancreatic, feature_names_pancreatic = process_data(pancreatic_cancer_dataset)"
   ]
  },
  {
   "cell_type": "code",
   "execution_count": 407,
   "metadata": {
    "collapsed": false
   },
   "outputs": [],
   "source": [
    "svm_grid_search_pancreatic = support_vector_machine(x_train_pancreatic, y_train_pancreatic, feature_selection_num)"
   ]
  },
  {
   "cell_type": "code",
   "execution_count": 408,
   "metadata": {
    "collapsed": false
   },
   "outputs": [
    {
     "name": "stdout",
     "output_type": "stream",
     "text": [
      "Training Accuracy: 0.9998076923076923\n",
      "Best Parameters: {'estimator__C': 0.25, 'estimator__kernel': 'linear', 'skb__k': 500}\n",
      "Testing Accuracy: 1.0\n",
      "Confusion Matrix:\n",
      "[[1129    0]\n",
      " [   0  170]]\n",
      "['hsa-miR-4730', 'hsa-miR-125a-3p', 'hsa-miR-4783-3p', 'hsa-miR-1203', 'hsa-miR-3184-5p', 'hsa-miR-4648', 'hsa-miR-885-3p', 'hsa-miR-744-5p', 'hsa-miR-320c', 'hsa-miR-1307-3p', 'hsa-miR-1273c', 'hsa-miR-6132', 'hsa-miR-4787-3p', 'hsa-miR-1233-5p', 'hsa-miR-663a', 'hsa-miR-125b-1-3p', 'hsa-miR-4481', 'hsa-miR-629-5p', 'hsa-miR-3158-5p', 'hsa-miR-6780b-5p', 'hsa-miR-6869-5p', 'hsa-miR-4725-3p', 'hsa-miR-4327', 'hsa-miR-320e', 'hsa-miR-3617-5p', 'hsa-miR-128-1-5p', 'hsa-miR-92b-5p', 'hsa-miR-1185-2-3p', 'hsa-miR-642b-3p', 'hsa-miR-575', 'hsa-miR-6880-5p', 'hsa-miR-92a-2-5p', 'hsa-miR-4504', 'hsa-miR-1185-1-3p', 'hsa-miR-1469', 'hsa-miR-6088', 'hsa-miR-6810-5p', 'hsa-miR-3156-5p', 'hsa-miR-6073', 'hsa-miR-4258', 'hsa-miR-3940-5p', 'hsa-miR-1273g-3p', 'hsa-miR-6825-5p', 'hsa-miR-7114-5p', 'hsa-miR-6839-5p', 'hsa-miR-887-3p', 'hsa-miR-4505', 'hsa-miR-658', 'hsa-miR-6800-5p', 'hsa-miR-6784-5p', 'hsa-miR-1238-5p', 'hsa-miR-1252-5p', 'hsa-miR-320d', 'hsa-miR-6087', 'hsa-miR-27b-3p', 'hsa-miR-411-5p', 'hsa-miR-1246', 'hsa-miR-8069', 'hsa-miR-1587', 'hsa-miR-940', 'hsa-miR-5090', 'hsa-miR-6731-5p', 'hsa-miR-191-5p', 'hsa-miR-1228-5p', 'hsa-miR-6781-5p', 'hsa-miR-7845-5p', 'hsa-miR-4777-3p', 'hsa-miR-145-3p', 'hsa-miR-6127', 'hsa-miR-539-5p', 'hsa-miR-320b', 'hsa-miR-5572', 'hsa-miR-3194-5p', 'hsa-miR-1277-5p', 'hsa-miR-26a-2-3p', 'hsa-miR-4476', 'hsa-miR-4690-5p', 'hsa-miR-663b', 'hsa-miR-6765-5p', 'hsa-miR-675-5p', 'hsa-miR-4295', 'hsa-miR-4757-5p', 'hsa-miR-3616-5p', 'hsa-miR-532-5p', 'hsa-miR-548n', 'hsa-miR-519a-3p', 'hsa-miR-4777-5p', 'hsa-miR-7110-5p', 'hsa-miR-6875-5p', 'hsa-miR-6805-5p', 'hsa-miR-1271-3p', 'hsa-miR-3942-5p', 'hsa-miR-6501-5p', 'hsa-miR-376a-2-5p', 'hsa-miR-1468-3p', 'hsa-miR-3689a-5p, hsa-miR-3689b-5p, hsa-miR-3689e', 'hsa-miR-340-5p', 'hsa-miR-6729-5p', 'hsa-miR-4662a-5p', 'hsa-miR-3165']\n",
      "[0.04945545964682084, 0.03718352151440207, 0.03661020202322093, 0.03474069041483423, 0.03345542876006319, 0.03326612960583624, 0.03056502594361656, 0.029726075419187627, 0.025973096529773566, 0.02586111255558392, 0.025731070764065087, 0.02473754651620964, 0.024096886625382077, 0.023684941541780007, 0.023053610769771485, 0.02254488939553197, 0.02250561012557192, 0.022389142210249586, 0.02205542272196863, 0.021963499141542584, 0.021535335168169828, 0.02132447249963401, 0.02091839978613485, 0.020509610237000937, 0.020469001414684183, 0.019649571012066776, 0.0193294395382045, 0.019275981925381134, 0.019219771449761763, 0.019113894135584446, 0.01893000491215736, 0.018616298145518437, 0.018307135168713348, 0.017867163547232934, 0.017613151496148602, 0.017382823481123102, 0.01737345213384603, 0.017358264410195688, 0.017291208047064598, 0.01725726204852541, 0.016999851018982978, 0.016961456305190654, 0.016946442335089934, 0.01692833906518635, 0.01685074549008033, 0.016650144049634743, 0.016540422010338115, 0.016447310582384505, 0.01639454485642787, 0.016271581222821234, 0.016201072070548498, 0.016125167869182912, 0.016097455523465976, 0.01593043567535099, 0.015898967583341105, 0.015314033621585236, 0.015239117013081964, 0.015088496847309193, 0.015049458864094277, 0.014871395481693882, 0.014688652736381787, 0.014449777830927902, 0.014255809142330865, 0.014228045012507733, 0.014196662347518743, 0.014026093970171783, 0.013853072323715684, 0.0138106355642587, 0.013758709013479852, 0.013284002762560657, 0.013258661762561446, 0.013085177410362369, 0.012979538326430338, 0.012977840174139844, 0.01285892648792415, 0.012798182285060834, 0.012776952293884234, 0.012714251283884828, 0.012635568291993061, 0.01249385163939696, 0.012416632185860857, 0.01237867182316738, 0.012310467924670958, 0.012196527329244972, 0.012172473827776042, 0.012050333990711969, 0.011655352630278963, 0.011524141769722288, 0.011485009779647538, 0.011381755308008938, 0.01127738628694122, 0.011170786997269883, 0.011118534800977634, 0.010999852787843963, 0.010785651753174409, 0.010739939543838416, 0.010694559099795931, 0.01068577422090685, 0.010480854265695037, 0.010400227725624498]\n"
     ]
    }
   ],
   "source": [
    "get_svm_metrics(svm_grid_search_pancreatic, x_test_pancreatic, y_test_pancreatic)\n",
    "svm_top_coef_pancreatic, svm_top_features_pancreatic = get_top_svm_features(svm_grid_search_pancreatic, feature_names_pancreatic, feature_importance_num)\n",
    "print(svm_top_features_pancreatic)\n",
    "print(svm_top_coef_pancreatic)"
   ]
  },
  {
   "cell_type": "code",
   "execution_count": 409,
   "metadata": {
    "collapsed": false
   },
   "outputs": [
    {
     "name": "stderr",
     "output_type": "stream",
     "text": [
      "/Users/thomastseng/Documents/Pioneer Computational Medicine/Classifiers/venv/lib/python3.9/site-packages/sklearn/model_selection/_validation.py:425: FitFailedWarning: \n",
      "40 fits failed out of a total of 120.\n",
      "The score on these train-test partitions for these parameters will be set to nan.\n",
      "If these failures are not expected, you can try to debug them by setting error_score='raise'.\n",
      "\n",
      "Below are more details about the failures:\n",
      "--------------------------------------------------------------------------------\n",
      "23 fits failed with the following error:\n",
      "Traceback (most recent call last):\n",
      "  File \"/Users/thomastseng/Documents/Pioneer Computational Medicine/Classifiers/venv/lib/python3.9/site-packages/sklearn/model_selection/_validation.py\", line 732, in _fit_and_score\n",
      "    estimator.fit(X_train, y_train, **fit_params)\n",
      "  File \"/Users/thomastseng/Documents/Pioneer Computational Medicine/Classifiers/venv/lib/python3.9/site-packages/sklearn/base.py\", line 1151, in wrapper\n",
      "    return fit_method(estimator, *args, **kwargs)\n",
      "  File \"/Users/thomastseng/Documents/Pioneer Computational Medicine/Classifiers/venv/lib/python3.9/site-packages/sklearn/pipeline.py\", line 420, in fit\n",
      "    self._final_estimator.fit(Xt, y, **fit_params_last_step)\n",
      "  File \"/Users/thomastseng/Documents/Pioneer Computational Medicine/Classifiers/venv/lib/python3.9/site-packages/sklearn/base.py\", line 1144, in wrapper\n",
      "    estimator._validate_params()\n",
      "  File \"/Users/thomastseng/Documents/Pioneer Computational Medicine/Classifiers/venv/lib/python3.9/site-packages/sklearn/base.py\", line 637, in _validate_params\n",
      "    validate_parameter_constraints(\n",
      "  File \"/Users/thomastseng/Documents/Pioneer Computational Medicine/Classifiers/venv/lib/python3.9/site-packages/sklearn/utils/_param_validation.py\", line 95, in validate_parameter_constraints\n",
      "    raise InvalidParameterError(\n",
      "sklearn.utils._param_validation.InvalidParameterError: The 'max_features' parameter of RandomForestClassifier must be an int in the range [1, inf), a float in the range (0.0, 1.0], a str among {'log2', 'sqrt'} or None. Got 'auto' instead.\n",
      "\n",
      "--------------------------------------------------------------------------------\n",
      "17 fits failed with the following error:\n",
      "Traceback (most recent call last):\n",
      "  File \"/Users/thomastseng/Documents/Pioneer Computational Medicine/Classifiers/venv/lib/python3.9/site-packages/sklearn/model_selection/_validation.py\", line 732, in _fit_and_score\n",
      "    estimator.fit(X_train, y_train, **fit_params)\n",
      "  File \"/Users/thomastseng/Documents/Pioneer Computational Medicine/Classifiers/venv/lib/python3.9/site-packages/sklearn/base.py\", line 1151, in wrapper\n",
      "    return fit_method(estimator, *args, **kwargs)\n",
      "  File \"/Users/thomastseng/Documents/Pioneer Computational Medicine/Classifiers/venv/lib/python3.9/site-packages/sklearn/pipeline.py\", line 420, in fit\n",
      "    self._final_estimator.fit(Xt, y, **fit_params_last_step)\n",
      "  File \"/Users/thomastseng/Documents/Pioneer Computational Medicine/Classifiers/venv/lib/python3.9/site-packages/sklearn/base.py\", line 1144, in wrapper\n",
      "    estimator._validate_params()\n",
      "  File \"/Users/thomastseng/Documents/Pioneer Computational Medicine/Classifiers/venv/lib/python3.9/site-packages/sklearn/base.py\", line 637, in _validate_params\n",
      "    validate_parameter_constraints(\n",
      "  File \"/Users/thomastseng/Documents/Pioneer Computational Medicine/Classifiers/venv/lib/python3.9/site-packages/sklearn/utils/_param_validation.py\", line 95, in validate_parameter_constraints\n",
      "    raise InvalidParameterError(\n",
      "sklearn.utils._param_validation.InvalidParameterError: The 'max_features' parameter of RandomForestClassifier must be an int in the range [1, inf), a float in the range (0.0, 1.0], a str among {'sqrt', 'log2'} or None. Got 'auto' instead.\n",
      "\n",
      "  warnings.warn(some_fits_failed_message, FitFailedWarning)\n",
      "/Users/thomastseng/Documents/Pioneer Computational Medicine/Classifiers/venv/lib/python3.9/site-packages/sklearn/model_selection/_search.py:976: UserWarning: One or more of the test scores are non-finite: [       nan        nan 0.99961501 0.99961501 0.99923003 0.99922966\n",
      "        nan        nan 0.99923003 0.99961501 0.99903735 0.99884504]\n",
      "  warnings.warn(\n"
     ]
    }
   ],
   "source": [
    "rf_grid_search_pancreatic = random_forest(x_train_pancreatic, y_train_pancreatic, feature_selection_num)"
   ]
  },
  {
   "cell_type": "code",
   "execution_count": 410,
   "metadata": {
    "collapsed": false
   },
   "outputs": [
    {
     "name": "stdout",
     "output_type": "stream",
     "text": [
      "Training Accuracy: 0.9996150140803319\n",
      "Best Parameters: {'estimator__criterion': 'gini', 'estimator__max_features': 'sqrt', 'estimator__n_estimators': 100, 'skb__k': 500}\n",
      "Testing Accuracy: 1.0\n",
      "Confusion Matrix:\n",
      "[[1129    0]\n",
      " [   0  170]]\n",
      "['hsa-miR-4730', 'hsa-miR-663a', 'hsa-miR-4787-3p', 'hsa-miR-6784-5p', 'hsa-miR-92b-5p', 'hsa-miR-3184-5p', 'hsa-miR-1233-5p', 'hsa-miR-1469', 'hsa-miR-1203', 'hsa-miR-373-5p', 'hsa-miR-3940-5p', 'hsa-miR-1228-5p', 'hsa-miR-4258', 'hsa-miR-4783-3p', 'hsa-miR-1238-5p', 'hsa-miR-1307-3p', 'hsa-miR-320a', 'hsa-miR-6088', 'hsa-miR-4532', 'hsa-miR-92a-2-5p', 'hsa-miR-6802-5p', 'hsa-miR-320b', 'hsa-miR-6781-5p', 'hsa-miR-4687-5p', 'hsa-miR-5090', 'hsa-miR-6717-5p', 'hsa-miR-4648', 'hsa-miR-642b-3p', 'hsa-miR-3917', 'hsa-miR-6087', 'hsa-miR-7110-5p', 'hsa-miR-3180', 'hsa-miR-4675', 'hsa-miR-575', 'hsa-miR-320e', 'hsa-miR-6729-5p', 'hsa-miR-887-3p', 'hsa-miR-320d', 'hsa-miR-320c', 'hsa-miR-128-1-5p', 'hsa-miR-3156-5p', 'hsa-miR-885-3p', 'hsa-miR-6839-5p', 'hsa-miR-6786-5p', 'hsa-miR-191-5p', 'hsa-miR-4685-5p', 'hsa-miR-5100', 'hsa-miR-4697-5p', 'hsa-miR-5008-5p', 'hsa-miR-6825-5p', 'hsa-miR-3683', 'hsa-miR-875-5p', 'hsa-miR-6869-5p', 'hsa-miR-1343-3p', 'hsa-miR-6880-5p', 'hsa-miR-6800-5p', 'hsa-miR-1909-3p', 'hsa-miR-125a-3p', 'hsa-miR-6752-5p', 'hsa-miR-135b-3p', 'hsa-miR-4463', 'hsa-miR-6738-5p', 'hsa-miR-5572', 'hsa-miR-140-3p', 'hsa-miR-6765-5p', 'hsa-miR-3158-5p', 'hsa-miR-6805-5p', 'hsa-miR-4798-5p', 'hsa-miR-606', 'hsa-miR-7977', 'hsa-miR-1185-2-3p', 'hsa-miR-1343-5p', 'hsa-miR-5195-3p', 'hsa-miR-939-5p', 'hsa-miR-296-3p', 'hsa-miR-5047', 'hsa-miR-663b', 'hsa-miR-6787-5p', 'hsa-miR-744-5p', 'hsa-miR-8069', 'hsa-miR-4662a-5p', 'hsa-miR-7114-5p', 'hsa-miR-1246', 'hsa-miR-376c-5p', 'hsa-miR-4706', 'hsa-miR-4741', 'hsa-miR-548ba', 'hsa-miR-629-5p', 'hsa-miR-6889-5p', 'hsa-miR-548b-5p', 'hsa-miR-6875-5p', 'hsa-miR-6131', 'hsa-miR-6780b-5p', 'hsa-miR-4725-3p', 'hsa-miR-4649-5p', 'hsa-miR-924', 'hsa-miR-6865-3p', 'hsa-miR-4327', 'hsa-miR-1914-5p', 'hsa-miR-7845-5p']\n",
      "[0.06338013821035063, 0.05950898671583579, 0.04886439139136649, 0.04719659665116944, 0.04529851146185905, 0.0436090990119333, 0.04158436941870895, 0.03722088281277425, 0.029118310768411898, 0.02746334310763709, 0.02618073698346719, 0.026131436995313576, 0.02445945880526038, 0.022526982191687136, 0.02187917306483885, 0.02044956301630675, 0.019802541267967978, 0.01887376820674047, 0.017217540183956968, 0.016604099123987057, 0.01496094620357649, 0.014789462905474862, 0.01362586443351855, 0.012522122985548431, 0.01190813471053711, 0.011836069991790037, 0.010711370350606781, 0.010319444354571071, 0.008495944498326136, 0.008407330494022505, 0.007917397709027966, 0.007703062391130532, 0.0073118740692691905, 0.0072234531040355245, 0.007122816028885034, 0.007090566728789306, 0.00669459158671648, 0.006683130077512974, 0.006413735397304327, 0.006386128014560193, 0.0063811246807038745, 0.0062333469114955655, 0.005930880426736273, 0.005683908575201415, 0.0056566944205748435, 0.005141902053043406, 0.005025231492404936, 0.004902720236853827, 0.0049014355578856405, 0.004492475669106262, 0.004304028136689561, 0.003984424880030893, 0.0034386525633234794, 0.003151470988338, 0.0028448739292461366, 0.00237253427855315, 0.0022723790630325004, 0.0021539554512121236, 0.0021269431387385203, 0.0021173456815922038, 0.0020847006108287935, 0.002004958839599106, 0.0018349292529619937, 0.0016343219810299565, 0.0015370356808120692, 0.0014696371092891363, 0.0014584276326458146, 0.0014108164882346312, 0.0013454956997589933, 0.0013094044658237586, 0.0013062607791365572, 0.001261515495770136, 0.00124456396152901, 0.0011561302707712622, 0.0011416494849703625, 0.001102820011541575, 0.0010876684331956432, 0.0010440169063702415, 0.0009889070333188013, 0.0009580719429764167, 0.0009472417556875349, 0.0009265398756844384, 0.0008898367763423061, 0.0008687018417971233, 0.0007599700448565083, 0.0007477652716297662, 0.0007195392971430962, 0.0006958349123835868, 0.0006957258203845447, 0.000693716747759908, 0.0006620894877750239, 0.0006440591121107998, 0.0006228719653221606, 0.0006161673594954568, 0.0006079070166242316, 0.0006061302279413583, 0.0006018991818501685, 0.0005843732076394615, 0.0005434916536451547, 0.0005420868856039886]\n"
     ]
    }
   ],
   "source": [
    "get_rf_metrics(rf_grid_search_pancreatic, x_test_pancreatic, y_test_pancreatic)\n",
    "rf_top_importance_pancreatic, rf_top_features_pancreatic = get_top_rf_features(rf_grid_search_pancreatic, feature_names_pancreatic, feature_importance_num)\n",
    "print(rf_top_features_pancreatic)\n",
    "print(rf_top_importance_pancreatic)"
   ]
  },
  {
   "cell_type": "code",
   "execution_count": 411,
   "metadata": {
    "collapsed": false
   },
   "outputs": [],
   "source": [
    "gb_grid_search_pancreatic = gradient_boosting(x_train_pancreatic, y_train_pancreatic, feature_selection_num)"
   ]
  },
  {
   "cell_type": "code",
   "execution_count": 412,
   "metadata": {
    "collapsed": false
   },
   "outputs": [
    {
     "name": "stdout",
     "output_type": "stream",
     "text": [
      "Training Accuracy: 0.9984596857862753\n",
      "Best Parameters: {'estimator__learning_rate': 0.5, 'estimator__n_estimators': 50, 'skb__k': 500}\n",
      "Testing Accuracy: 0.9992301770592764\n",
      "Confusion Matrix:\n",
      "[[1129    0]\n",
      " [   1  169]]\n",
      "['hsa-miR-1228-5p', 'hsa-miR-4730', 'hsa-miR-1469', 'hsa-miR-4532', 'hsa-miR-301a-3p', 'hsa-miR-128-1-5p', 'hsa-miR-23b-3p', 'hsa-miR-718', 'hsa-miR-4693-5p', 'hsa-miR-3940-5p', 'hsa-miR-1233-5p', 'hsa-miR-663a', 'hsa-miR-1307-3p', 'hsa-miR-6090', 'hsa-miR-6131', 'hsa-miR-320a', 'hsa-miR-4417', 'hsa-miR-6805-5p', 'hsa-miR-4281', 'hsa-miR-4783-3p', 'hsa-miR-4648', 'hsa-miR-6780b-5p', 'hsa-miR-4787-3p', 'hsa-miR-940', 'hsa-miR-663b', 'hsa-miR-4708-3p', 'hsa-miR-4685-5p', 'hsa-miR-340-5p', 'hsa-miR-6869-5p', 'hsa-miR-744-5p', 'hsa-miR-544b', 'hsa-miR-4488', 'hsa-miR-3156-5p', 'hsa-miR-2392', 'hsa-miR-3184-5p', 'hsa-miR-4725-3p', 'hsa-miR-6731-5p', 'hsa-miR-328-5p', 'hsa-miR-7110-5p', 'hsa-miR-4258', 'hsa-miR-125a-3p', 'hsa-miR-4463', 'hsa-miR-148a-5p', 'hsa-miR-3656', 'hsa-miR-1203', 'hsa-miR-1268b', 'hsa-miR-6802-5p', 'hsa-miR-1343-3p', 'hsa-miR-92a-2-5p', 'hsa-miR-7108-3p', 'hsa-miR-4327', 'hsa-miR-1909-3p', 'hsa-miR-6073', 'hsa-miR-191-5p', 'hsa-miR-3143', 'hsa-miR-4505', 'hsa-miR-6784-5p', 'hsa-miR-1260a', 'hsa-miR-6752-5p', 'hsa-miR-1243', 'hsa-miR-4294', 'hsa-miR-7114-5p', 'hsa-miR-6821-5p', 'hsa-miR-6088', 'hsa-miR-6079', 'hsa-miR-590-5p', 'hsa-miR-627-3p', 'hsa-miR-6729-3p', 'hsa-miR-4477b', 'hsa-miR-8059', 'hsa-miR-586', 'hsa-miR-556-5p', 'hsa-miR-3672', 'hsa-miR-6825-5p', 'hsa-miR-6858-5p', 'hsa-miR-4263', 'hsa-miR-1914-5p', 'hsa-miR-4757-5p', 'hsa-miR-208a-3p', 'hsa-miR-6738-5p', 'hsa-miR-873-3p', 'hsa-miR-5692b', 'hsa-miR-885-3p', 'hsa-miR-4426', 'hsa-miR-6810-5p', 'hsa-miR-3140-3p', 'hsa-miR-614', 'hsa-miR-548au-5p', 'hsa-miR-6880-5p', 'hsa-miR-3201', 'hsa-miR-148a-3p', 'hsa-miR-575', 'hsa-miR-6875-5p', 'hsa-miR-3180', 'hsa-miR-6721-5p', 'hsa-miR-3688-5p', 'hsa-miR-125b-1-3p', 'hsa-miR-4454', 'hsa-miR-4690-5p', 'hsa-miR-3606-3p']\n",
      "[0.9083014952352335, 0.048041223042441135, 0.02501812834036243, 0.004778381047470935, 0.004735464632910935, 0.004076378936204668, 0.0015357191478387866, 0.0011734926690395637, 0.0008748509918276285, 0.0007412389076051055, 0.00020043538344902297, 0.00013461935005800702, 9.47428859622743e-05, 8.129038273505861e-05, 6.501814705793788e-05, 3.877358108285663e-05, 2.9493797354866097e-05, 2.329483922062499e-05, 1.8846684626108252e-05, 1.0346361371414254e-05, 8.854050714934583e-06, 4.204800008973869e-06, 3.97717072786174e-06, 2.6325893607423455e-06, 1.850482686479209e-06, 1.7744722137618524e-06, 9.571494624087345e-07, 9.530287003668457e-07, 3.6236860945369236e-07, 3.4889400781373087e-07, 3.0072172059972506e-07, 2.3556958276956543e-07, 1.2784619994689723e-07, 7.134101870738242e-08, 4.400340717427041e-08, 1.6814273995114895e-08, 1.6422459194218127e-08, 1.1755429572788929e-08, 9.61832122048756e-09, 6.70692734588953e-09, 2.7314754819051916e-09, 1.5948107066787506e-09, 1.2993573280948333e-09, 1.0016953865805337e-09, 6.837274950654806e-10, 5.884715976640708e-10, 3.449288390626041e-10, 3.0557477403081665e-10, 2.1994278404505378e-10, 2.0104091327712336e-10, 1.652386568778851e-10, 1.3261135006355873e-10, 1.137274945704297e-10, 1.1151791417370075e-10, 8.237010045128607e-11, 6.72945334986953e-11, 3.541696791233166e-11, 3.508445744064585e-11, 2.943427654473453e-11, 2.5632036864493792e-11, 1.994698851549108e-11, 1.5147437746325147e-11, 5.5332038931370865e-12, 5.10167627265434e-12, 2.6935868082084026e-12, 2.2951332666590532e-12, 2.2478369518346362e-12, 1.7272222411542451e-12, 1.460103957341665e-12, 9.43894885085742e-13, 7.323736074275557e-13, 7.225111648930077e-13, 5.628582485709571e-13, 2.449034176713591e-13, 2.3794522396232195e-13, 1.8558994912060128e-13, 1.8519486969502154e-13, 1.784957959773808e-13, 1.7525206166944676e-13, 1.298002782080368e-13, 8.846157326437133e-14, 8.671230707334218e-14, 6.845900651629435e-14, 6.620336064425259e-14, 3.706651876661445e-14, 3.345881788852009e-14, 3.013168623245756e-14, 1.7585348225890944e-14, 1.6585502670158355e-14, 9.292626824355684e-15, 8.608995124870536e-15, 7.785946834671999e-15, 7.455814091644825e-15, 7.066940351063684e-15, 4.325216700460492e-15, 3.9928537217247106e-15, 3.5839927356932805e-15, 2.5673056403035536e-15, 2.133652105978205e-15, 1.4210919271162823e-15]\n"
     ]
    }
   ],
   "source": [
    "get_gb_metrics(gb_grid_search_pancreatic, x_test_pancreatic, y_test_pancreatic)\n",
    "gb_top_importance_pancreatic, gb_top_features_pancreatic = get_top_gb_features(gb_grid_search_pancreatic, feature_names_pancreatic, feature_importance_num)\n",
    "print(gb_top_features_pancreatic)\n",
    "print(gb_top_importance_pancreatic)"
   ]
  }
 ],
 "metadata": {
  "kernelspec": {
   "display_name": "Python 3",
   "language": "python",
   "name": "python3"
  },
  "language_info": {
   "codemirror_mode": {
    "name": "ipython",
    "version": 2
   },
   "file_extension": ".py",
   "mimetype": "text/x-python",
   "name": "python",
   "nbconvert_exporter": "python",
   "pygments_lexer": "ipython2",
   "version": "2.7.6"
  }
 },
 "nbformat": 4,
 "nbformat_minor": 0
}
